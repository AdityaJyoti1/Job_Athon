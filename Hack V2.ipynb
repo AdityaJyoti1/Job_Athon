{
 "cells": [
  {
   "cell_type": "code",
   "execution_count": 726,
   "metadata": {},
   "outputs": [],
   "source": [
    "import pandas as pd\n",
    "import numpy as np\n",
    "import matplotlib.pyplot as plt\n",
    "import seaborn as sns\n",
    "from sklearn.model_selection import train_test_split\n",
    "from sklearn.preprocessing import StandardScaler\n",
    "from sklearn import model_selection, preprocessing\n",
    "from sklearn.linear_model import LogisticRegression\n",
    "from sklearn import metrics\n",
    "from sklearn.metrics import classification_report\n",
    "from sklearn.model_selection import GridSearchCV\n",
    "from imblearn.over_sampling import SMOTE\n",
    "from sklearn.ensemble import RandomForestClassifier"
   ]
  },
  {
   "cell_type": "code",
   "execution_count": 5,
   "metadata": {},
   "outputs": [],
   "source": [
    "df=pd.read_csv(r'C:\\Users\\aditya_jyoti\\Documents\\Docs\\Hackathon\\train_Df64byy.csv')"
   ]
  },
  {
   "cell_type": "code",
   "execution_count": 6,
   "metadata": {},
   "outputs": [],
   "source": [
    "df1=df.copy()"
   ]
  },
  {
   "cell_type": "code",
   "execution_count": 7,
   "metadata": {},
   "outputs": [
    {
     "data": {
      "text/plain": [
       "ID                             0\n",
       "City_Code                      0\n",
       "Region_Code                    0\n",
       "Accomodation_Type              0\n",
       "Reco_Insurance_Type            0\n",
       "Upper_Age                      0\n",
       "Lower_Age                      0\n",
       "Is_Spouse                      0\n",
       "Health Indicator           11691\n",
       "Holding_Policy_Duration    20251\n",
       "Holding_Policy_Type        20251\n",
       "Reco_Policy_Cat                0\n",
       "Reco_Policy_Premium            0\n",
       "Response                       0\n",
       "dtype: int64"
      ]
     },
     "execution_count": 7,
     "metadata": {},
     "output_type": "execute_result"
    }
   ],
   "source": [
    "df.isnull().sum()"
   ]
  },
  {
   "cell_type": "code",
   "execution_count": 8,
   "metadata": {},
   "outputs": [
    {
     "data": {
      "text/plain": [
       "ID                         50882\n",
       "City_Code                     36\n",
       "Region_Code                 5316\n",
       "Accomodation_Type              2\n",
       "Reco_Insurance_Type            2\n",
       "Upper_Age                     58\n",
       "Lower_Age                     60\n",
       "Is_Spouse                      2\n",
       "Health Indicator               9\n",
       "Holding_Policy_Duration       15\n",
       "Holding_Policy_Type            4\n",
       "Reco_Policy_Cat               22\n",
       "Reco_Policy_Premium         6977\n",
       "Response                       2\n",
       "dtype: int64"
      ]
     },
     "execution_count": 8,
     "metadata": {},
     "output_type": "execute_result"
    }
   ],
   "source": [
    "df.T.apply(lambda x: x.nunique(), axis=1)"
   ]
  },
  {
   "cell_type": "code",
   "execution_count": 9,
   "metadata": {},
   "outputs": [
    {
     "name": "stdout",
     "output_type": "stream",
     "text": [
      "<class 'pandas.core.frame.DataFrame'>\n",
      "RangeIndex: 50882 entries, 0 to 50881\n",
      "Data columns (total 14 columns):\n",
      "ID                         50882 non-null int64\n",
      "City_Code                  50882 non-null object\n",
      "Region_Code                50882 non-null int64\n",
      "Accomodation_Type          50882 non-null object\n",
      "Reco_Insurance_Type        50882 non-null object\n",
      "Upper_Age                  50882 non-null int64\n",
      "Lower_Age                  50882 non-null int64\n",
      "Is_Spouse                  50882 non-null object\n",
      "Health Indicator           39191 non-null object\n",
      "Holding_Policy_Duration    30631 non-null object\n",
      "Holding_Policy_Type        30631 non-null float64\n",
      "Reco_Policy_Cat            50882 non-null int64\n",
      "Reco_Policy_Premium        50882 non-null float64\n",
      "Response                   50882 non-null int64\n",
      "dtypes: float64(2), int64(6), object(6)\n",
      "memory usage: 5.4+ MB\n"
     ]
    }
   ],
   "source": [
    "df.info()"
   ]
  },
  {
   "cell_type": "code",
   "execution_count": 10,
   "metadata": {},
   "outputs": [],
   "source": [
    "df['Holding_Policy_Duration']=df['Holding_Policy_Duration'].replace('14+',15)"
   ]
  },
  {
   "cell_type": "code",
   "execution_count": 11,
   "metadata": {},
   "outputs": [],
   "source": [
    "df=df.astype({\"Holding_Policy_Type\":'category', \"Reco_Policy_Cat\":'category',\"City_Code\":'category',\"Accomodation_Type\":'category',\"Reco_Insurance_Type\":'category',\"Holding_Policy_Duration\":'category',\"Is_Spouse\":'category',\"Health Indicator\":'category','Region_Code':'category'})"
   ]
  },
  {
   "cell_type": "code",
   "execution_count": 12,
   "metadata": {},
   "outputs": [],
   "source": [
    "#No missing values in num variables\n",
    "num_vars=df.columns[df.dtypes!='category']\n",
    "cat_vars=df.columns[df.dtypes=='category']"
   ]
  },
  {
   "cell_type": "markdown",
   "metadata": {},
   "source": [
    "# MISSING VALUE ANALYSIS"
   ]
  },
  {
   "cell_type": "code",
   "execution_count": 13,
   "metadata": {},
   "outputs": [],
   "source": [
    "df['Health Indicator']=df['Health Indicator'].cat.codes\n",
    "df['Health Indicator']=df['Health Indicator'].replace(-1, np.nan)\n",
    "# df1['Health Indicator'].isnull().sum()"
   ]
  },
  {
   "cell_type": "code",
   "execution_count": 14,
   "metadata": {},
   "outputs": [],
   "source": [
    "df2=pd.get_dummies(df, columns=['City_Code','Accomodation_Type','Reco_Insurance_Type','Is_Spouse'])"
   ]
  },
  {
   "cell_type": "code",
   "execution_count": 29,
   "metadata": {},
   "outputs": [],
   "source": [
    "from sklearn.impute import SimpleImputer\n",
    "my_imputer = SimpleImputer()\n",
    "data_with_imputed_values = pd.DataFrame(my_imputer.fit_transform(df2))"
   ]
  },
  {
   "cell_type": "code",
   "execution_count": 30,
   "metadata": {},
   "outputs": [],
   "source": [
    "data_with_imputed_values.columns=df2.columns\n",
    "data_with_imputed_values.index=df2.index"
   ]
  },
  {
   "cell_type": "markdown",
   "metadata": {},
   "source": [
    "# OUTLIER ANALYSIS"
   ]
  },
  {
   "cell_type": "code",
   "execution_count": 31,
   "metadata": {},
   "outputs": [],
   "source": [
    "def remove_outlier(df_in, col_name):\n",
    "    q1 = df_in[col_name].quantile(0.25)\n",
    "    q3 = df_in[col_name].quantile(0.75)\n",
    "    iqr = q3-q1 #Interquartile range\n",
    "    fence_low  = q1-1.5*iqr\n",
    "    fence_high = q3+1.5*iqr\n",
    "    df_out = df_in.loc[(df_in[col_name] > fence_low) & (df_in[col_name] < fence_high)]\n",
    "    return df_out"
   ]
  },
  {
   "cell_type": "code",
   "execution_count": 32,
   "metadata": {},
   "outputs": [
    {
     "data": {
      "text/plain": [
       "Index(['ID', 'Region_Code', 'Upper_Age', 'Lower_Age', 'Health Indicator',\n",
       "       'Holding_Policy_Duration', 'Holding_Policy_Type', 'Reco_Policy_Cat',\n",
       "       'Reco_Policy_Premium', 'Response', 'City_Code_C1', 'City_Code_C10',\n",
       "       'City_Code_C11', 'City_Code_C12', 'City_Code_C13', 'City_Code_C14',\n",
       "       'City_Code_C15', 'City_Code_C16', 'City_Code_C17', 'City_Code_C18',\n",
       "       'City_Code_C19', 'City_Code_C2', 'City_Code_C20', 'City_Code_C21',\n",
       "       'City_Code_C22', 'City_Code_C23', 'City_Code_C24', 'City_Code_C25',\n",
       "       'City_Code_C26', 'City_Code_C27', 'City_Code_C28', 'City_Code_C29',\n",
       "       'City_Code_C3', 'City_Code_C30', 'City_Code_C31', 'City_Code_C32',\n",
       "       'City_Code_C33', 'City_Code_C34', 'City_Code_C35', 'City_Code_C36',\n",
       "       'City_Code_C4', 'City_Code_C5', 'City_Code_C6', 'City_Code_C7',\n",
       "       'City_Code_C8', 'City_Code_C9', 'Accomodation_Type_Owned',\n",
       "       'Accomodation_Type_Rented', 'Reco_Insurance_Type_Individual',\n",
       "       'Reco_Insurance_Type_Joint', 'Is_Spouse_No', 'Is_Spouse_Yes'],\n",
       "      dtype='object')"
      ]
     },
     "execution_count": 32,
     "metadata": {},
     "output_type": "execute_result"
    }
   ],
   "source": [
    "data_with_imputed_values.columns"
   ]
  },
  {
   "cell_type": "code",
   "execution_count": 24,
   "metadata": {},
   "outputs": [
    {
     "data": {
      "text/plain": [
       "(50882, 52)"
      ]
     },
     "execution_count": 24,
     "metadata": {},
     "output_type": "execute_result"
    }
   ],
   "source": [
    "df2.shape"
   ]
  },
  {
   "cell_type": "code",
   "execution_count": 33,
   "metadata": {},
   "outputs": [],
   "source": [
    "data_with_imputed_values=remove_outlier(data_with_imputed_values,'Reco_Policy_Premium')"
   ]
  },
  {
   "cell_type": "code",
   "execution_count": 36,
   "metadata": {},
   "outputs": [
    {
     "data": {
      "text/plain": [
       "(50061, 52)"
      ]
     },
     "execution_count": 36,
     "metadata": {},
     "output_type": "execute_result"
    }
   ],
   "source": [
    "data_with_imputed_values.shape"
   ]
  },
  {
   "cell_type": "markdown",
   "metadata": {},
   "source": [
    "# standardization"
   ]
  },
  {
   "cell_type": "code",
   "execution_count": 39,
   "metadata": {},
   "outputs": [],
   "source": [
    "data_with_imputed_values[['Region_Code', 'Upper_Age', 'Lower_Age', 'Health Indicator','Holding_Policy_Duration', 'Holding_Policy_Type', 'Reco_Policy_Cat','Reco_Policy_Premium']]=StandardScaler().fit_transform(data_with_imputed_values[['Region_Code', 'Upper_Age', 'Lower_Age', 'Health Indicator','Holding_Policy_Duration', 'Holding_Policy_Type', 'Reco_Policy_Cat','Reco_Policy_Premium']])"
   ]
  },
  {
   "cell_type": "code",
   "execution_count": 40,
   "metadata": {},
   "outputs": [
    {
     "data": {
      "text/plain": [
       " 0.004568    20009\n",
       " 0.710439    12997\n",
       "-1.807057     8065\n",
       "-0.548309     4947\n",
       " 1.969186     4043\n",
       "Name: Holding_Policy_Type, dtype: int64"
      ]
     },
     "execution_count": 40,
     "metadata": {},
     "output_type": "execute_result"
    }
   ],
   "source": [
    "data_with_imputed_values['Holding_Policy_Type'].value_counts()"
   ]
  },
  {
   "cell_type": "code",
   "execution_count": 41,
   "metadata": {},
   "outputs": [],
   "source": [
    "data_with_imputed_values=data_with_imputed_values.astype({'Health Indicator':'category','Holding_Policy_Type':'category', 'Reco_Policy_Cat':'category','Holding_Policy_Duration':'category','City_Code_C1':'category', 'City_Code_C10':'category',\n",
    "       'City_Code_C11':'category', 'City_Code_C12':'category', 'City_Code_C13':'category', 'City_Code_C14':'category',\n",
    "       'City_Code_C15':'category', 'City_Code_C16':'category', 'City_Code_C17':'category', 'City_Code_C18':'category',\n",
    "       'City_Code_C19':'category', 'City_Code_C2':'category', 'City_Code_C20':'category', 'City_Code_C21':'category',\n",
    "       'City_Code_C22':'category', 'City_Code_C23':'category', 'City_Code_C24':'category', 'City_Code_C25':'category',\n",
    "       'City_Code_C26':'category', 'City_Code_C27':'category', 'City_Code_C28':'category', 'City_Code_C29':'category',\n",
    "       'City_Code_C3':'category', 'City_Code_C30':'category', 'City_Code_C31':'category', 'City_Code_C32':'category',\n",
    "       'City_Code_C33':'category', 'City_Code_C34':'category', 'City_Code_C35':'category', 'City_Code_C36':'category',\n",
    "       'City_Code_C4':'category', 'City_Code_C5':'category', 'City_Code_C6':'category', 'City_Code_C7':'category',\n",
    "       'City_Code_C8':'category', 'City_Code_C9':'category', 'Accomodation_Type_Owned':'category',\n",
    "       'Accomodation_Type_Rented':'category', 'Reco_Insurance_Type_Individual':'category',\n",
    "       'Reco_Insurance_Type_Joint':'category', 'Is_Spouse_No':'category', 'Is_Spouse_Yes':'category','Region_Code':'category'})"
   ]
  },
  {
   "cell_type": "code",
   "execution_count": 42,
   "metadata": {},
   "outputs": [
    {
     "data": {
      "text/plain": [
       "Index(['ID', 'Upper_Age', 'Lower_Age', 'Reco_Policy_Premium', 'Response'], dtype='object')"
      ]
     },
     "execution_count": 42,
     "metadata": {},
     "output_type": "execute_result"
    }
   ],
   "source": [
    "data_with_imputed_values.columns[data_with_imputed_values.dtypes!='category']"
   ]
  },
  {
   "cell_type": "code",
   "execution_count": 45,
   "metadata": {},
   "outputs": [
    {
     "data": {
      "text/html": [
       "<div>\n",
       "<style scoped>\n",
       "    .dataframe tbody tr th:only-of-type {\n",
       "        vertical-align: middle;\n",
       "    }\n",
       "\n",
       "    .dataframe tbody tr th {\n",
       "        vertical-align: top;\n",
       "    }\n",
       "\n",
       "    .dataframe thead th {\n",
       "        text-align: right;\n",
       "    }\n",
       "</style>\n",
       "<table border=\"1\" class=\"dataframe\">\n",
       "  <thead>\n",
       "    <tr style=\"text-align: right;\">\n",
       "      <th></th>\n",
       "      <th>ID</th>\n",
       "      <th>Region_Code</th>\n",
       "      <th>Upper_Age</th>\n",
       "      <th>Lower_Age</th>\n",
       "      <th>Health Indicator</th>\n",
       "      <th>Holding_Policy_Duration</th>\n",
       "      <th>Holding_Policy_Type</th>\n",
       "      <th>Reco_Policy_Cat</th>\n",
       "      <th>Reco_Policy_Premium</th>\n",
       "      <th>Response</th>\n",
       "      <th>...</th>\n",
       "      <th>City_Code_C6</th>\n",
       "      <th>City_Code_C7</th>\n",
       "      <th>City_Code_C8</th>\n",
       "      <th>City_Code_C9</th>\n",
       "      <th>Accomodation_Type_Owned</th>\n",
       "      <th>Accomodation_Type_Rented</th>\n",
       "      <th>Reco_Insurance_Type_Individual</th>\n",
       "      <th>Reco_Insurance_Type_Joint</th>\n",
       "      <th>Is_Spouse_No</th>\n",
       "      <th>Is_Spouse_Yes</th>\n",
       "    </tr>\n",
       "  </thead>\n",
       "  <tbody>\n",
       "    <tr>\n",
       "      <th>0</th>\n",
       "      <td>1.0</td>\n",
       "      <td>1.037601</td>\n",
       "      <td>-0.492694</td>\n",
       "      <td>-0.377296</td>\n",
       "      <td>-1.138848</td>\n",
       "      <td>2.413950</td>\n",
       "      <td>0.710439</td>\n",
       "      <td>1.087812</td>\n",
       "      <td>-0.364394</td>\n",
       "      <td>0.0</td>\n",
       "      <td>...</td>\n",
       "      <td>0.0</td>\n",
       "      <td>0.0</td>\n",
       "      <td>0.0</td>\n",
       "      <td>0.0</td>\n",
       "      <td>0.0</td>\n",
       "      <td>1.0</td>\n",
       "      <td>1.0</td>\n",
       "      <td>0.0</td>\n",
       "      <td>1.0</td>\n",
       "      <td>0.0</td>\n",
       "    </tr>\n",
       "    <tr>\n",
       "      <th>1</th>\n",
       "      <td>2.0</td>\n",
       "      <td>-0.433735</td>\n",
       "      <td>1.785492</td>\n",
       "      <td>-1.189619</td>\n",
       "      <td>-0.349516</td>\n",
       "      <td>0.006245</td>\n",
       "      <td>0.004568</td>\n",
       "      <td>1.087812</td>\n",
       "      <td>2.724060</td>\n",
       "      <td>0.0</td>\n",
       "      <td>...</td>\n",
       "      <td>0.0</td>\n",
       "      <td>0.0</td>\n",
       "      <td>0.0</td>\n",
       "      <td>0.0</td>\n",
       "      <td>1.0</td>\n",
       "      <td>0.0</td>\n",
       "      <td>0.0</td>\n",
       "      <td>1.0</td>\n",
       "      <td>1.0</td>\n",
       "      <td>0.0</td>\n",
       "    </tr>\n",
       "    <tr>\n",
       "      <th>2</th>\n",
       "      <td>3.0</td>\n",
       "      <td>1.401925</td>\n",
       "      <td>-0.726354</td>\n",
       "      <td>-0.609388</td>\n",
       "      <td>0.001495</td>\n",
       "      <td>-1.397765</td>\n",
       "      <td>-1.807057</td>\n",
       "      <td>0.615071</td>\n",
       "      <td>-1.047773</td>\n",
       "      <td>1.0</td>\n",
       "      <td>...</td>\n",
       "      <td>0.0</td>\n",
       "      <td>0.0</td>\n",
       "      <td>0.0</td>\n",
       "      <td>0.0</td>\n",
       "      <td>1.0</td>\n",
       "      <td>0.0</td>\n",
       "      <td>1.0</td>\n",
       "      <td>0.0</td>\n",
       "      <td>1.0</td>\n",
       "      <td>0.0</td>\n",
       "    </tr>\n",
       "    <tr>\n",
       "      <th>3</th>\n",
       "      <td>4.0</td>\n",
       "      <td>1.855399</td>\n",
       "      <td>0.441946</td>\n",
       "      <td>0.318980</td>\n",
       "      <td>-1.138848</td>\n",
       "      <td>2.413950</td>\n",
       "      <td>0.710439</td>\n",
       "      <td>0.615071</td>\n",
       "      <td>0.641865</td>\n",
       "      <td>0.0</td>\n",
       "      <td>...</td>\n",
       "      <td>0.0</td>\n",
       "      <td>0.0</td>\n",
       "      <td>0.0</td>\n",
       "      <td>0.0</td>\n",
       "      <td>1.0</td>\n",
       "      <td>0.0</td>\n",
       "      <td>0.0</td>\n",
       "      <td>1.0</td>\n",
       "      <td>1.0</td>\n",
       "      <td>0.0</td>\n",
       "    </tr>\n",
       "    <tr>\n",
       "      <th>4</th>\n",
       "      <td>5.0</td>\n",
       "      <td>0.319482</td>\n",
       "      <td>-0.025374</td>\n",
       "      <td>0.086888</td>\n",
       "      <td>-0.349516</td>\n",
       "      <td>-0.853234</td>\n",
       "      <td>-1.807057</td>\n",
       "      <td>0.142330</td>\n",
       "      <td>-0.564599</td>\n",
       "      <td>0.0</td>\n",
       "      <td>...</td>\n",
       "      <td>0.0</td>\n",
       "      <td>0.0</td>\n",
       "      <td>1.0</td>\n",
       "      <td>0.0</td>\n",
       "      <td>0.0</td>\n",
       "      <td>1.0</td>\n",
       "      <td>1.0</td>\n",
       "      <td>0.0</td>\n",
       "      <td>1.0</td>\n",
       "      <td>0.0</td>\n",
       "    </tr>\n",
       "  </tbody>\n",
       "</table>\n",
       "<p>5 rows × 52 columns</p>\n",
       "</div>"
      ],
      "text/plain": [
       "    ID Region_Code  Upper_Age  Lower_Age Health Indicator  \\\n",
       "0  1.0    1.037601  -0.492694  -0.377296        -1.138848   \n",
       "1  2.0   -0.433735   1.785492  -1.189619        -0.349516   \n",
       "2  3.0    1.401925  -0.726354  -0.609388         0.001495   \n",
       "3  4.0    1.855399   0.441946   0.318980        -1.138848   \n",
       "4  5.0    0.319482  -0.025374   0.086888        -0.349516   \n",
       "\n",
       "  Holding_Policy_Duration Holding_Policy_Type Reco_Policy_Cat  \\\n",
       "0                2.413950            0.710439        1.087812   \n",
       "1                0.006245            0.004568        1.087812   \n",
       "2               -1.397765           -1.807057        0.615071   \n",
       "3                2.413950            0.710439        0.615071   \n",
       "4               -0.853234           -1.807057        0.142330   \n",
       "\n",
       "   Reco_Policy_Premium  Response  ... City_Code_C6 City_Code_C7 City_Code_C8  \\\n",
       "0            -0.364394       0.0  ...          0.0          0.0          0.0   \n",
       "1             2.724060       0.0  ...          0.0          0.0          0.0   \n",
       "2            -1.047773       1.0  ...          0.0          0.0          0.0   \n",
       "3             0.641865       0.0  ...          0.0          0.0          0.0   \n",
       "4            -0.564599       0.0  ...          0.0          0.0          1.0   \n",
       "\n",
       "  City_Code_C9 Accomodation_Type_Owned Accomodation_Type_Rented  \\\n",
       "0          0.0                     0.0                      1.0   \n",
       "1          0.0                     1.0                      0.0   \n",
       "2          0.0                     1.0                      0.0   \n",
       "3          0.0                     1.0                      0.0   \n",
       "4          0.0                     0.0                      1.0   \n",
       "\n",
       "  Reco_Insurance_Type_Individual Reco_Insurance_Type_Joint Is_Spouse_No  \\\n",
       "0                            1.0                       0.0          1.0   \n",
       "1                            0.0                       1.0          1.0   \n",
       "2                            1.0                       0.0          1.0   \n",
       "3                            0.0                       1.0          1.0   \n",
       "4                            1.0                       0.0          1.0   \n",
       "\n",
       "  Is_Spouse_Yes  \n",
       "0           0.0  \n",
       "1           0.0  \n",
       "2           0.0  \n",
       "3           0.0  \n",
       "4           0.0  \n",
       "\n",
       "[5 rows x 52 columns]"
      ]
     },
     "execution_count": 45,
     "metadata": {},
     "output_type": "execute_result"
    }
   ],
   "source": [
    "data_with_imputed_values.head()"
   ]
  },
  {
   "cell_type": "markdown",
   "metadata": {},
   "source": [
    "# MODEL BUILDING"
   ]
  },
  {
   "cell_type": "markdown",
   "metadata": {},
   "source": [
    "# GRADIENT BOOSTING"
   ]
  },
  {
   "cell_type": "code",
   "execution_count": 69,
   "metadata": {},
   "outputs": [
    {
     "name": "stderr",
     "output_type": "stream",
     "text": [
      "C:\\Python\\lib\\site-packages\\pandas\\core\\frame.py:4117: SettingWithCopyWarning: \n",
      "A value is trying to be set on a copy of a slice from a DataFrame\n",
      "\n",
      "See the caveats in the documentation: http://pandas.pydata.org/pandas-docs/stable/user_guide/indexing.html#returning-a-view-versus-a-copy\n",
      "  errors=errors,\n"
     ]
    }
   ],
   "source": [
    "X=data_with_imputed_values.loc[:, data_with_imputed_values.columns != 'ID']\n",
    "y=data_with_imputed_values['Response']\n",
    "X.drop(columns=['Response'],inplace=True)"
   ]
  },
  {
   "cell_type": "code",
   "execution_count": 145,
   "metadata": {},
   "outputs": [],
   "source": [
    "X_train, X_test, y_train, y_test = train_test_split(X,y, test_size=0.2, random_state=100)"
   ]
  },
  {
   "cell_type": "code",
   "execution_count": 146,
   "metadata": {},
   "outputs": [],
   "source": [
    "from imblearn.pipeline import make_pipeline\n",
    "from imblearn.combine import SMOTEENN\n",
    "smote = SMOTE(k_neighbors=5, n_jobs=-1,random_state=777)\n",
    "smote_enn = make_pipeline(SimpleImputer(), SMOTEENN(smote=smote))\n",
    "sm_xtrain, sm_ytrain = smote_enn.fit_resample(X, y)"
   ]
  },
  {
   "cell_type": "code",
   "execution_count": null,
   "metadata": {},
   "outputs": [],
   "source": [
    "# from imblearn.pipeline import make_pipeline\n",
    "# from imblearn.combine import SMOTEENN\n",
    "# smote = SMOTE(k_neighbors=5, n_jobs=-1,random_state=777)\n",
    "# smote_enn = make_pipeline(SimpleImputer(), smote=smote)\n",
    "# sm_xtrain, sm_ytrain = smote_enn.fit_resample(X, y)"
   ]
  },
  {
   "cell_type": "code",
   "execution_count": 101,
   "metadata": {},
   "outputs": [],
   "source": [
    "# from imblearn.over_sampling import BorderlineSMOTE, SMOTE, ADASYN, SMOTENC, RandomOverSampler\n",
    "# sm = SMOTE(random_state=777)\n",
    "# sm_xtrain, sm_ytrain = sm.fit_sample(X_train,y_train)"
   ]
  },
  {
   "cell_type": "code",
   "execution_count": 112,
   "metadata": {},
   "outputs": [
    {
     "name": "stdout",
     "output_type": "stream",
     "text": [
      "0.6556476580445421\n"
     ]
    }
   ],
   "source": [
    "from sklearn.ensemble import GradientBoostingClassifier\n",
    "gb = GradientBoostingClassifier(n_estimators=600)\n",
    "gb.fit(sm_xtrain, sm_ytrain)\n",
    "y_pred1 = gb.predict(X_test)\n",
    "accuracy_gb = metrics.accuracy_score(test_y,y_pred1)\n",
    "print(accuracy_gb)"
   ]
  },
  {
   "cell_type": "code",
   "execution_count": 113,
   "metadata": {},
   "outputs": [
    {
     "name": "stdout",
     "output_type": "stream",
     "text": [
      "              precision    recall  f1-score   support\n",
      "\n",
      "           0       0.82      0.69      0.75      7575\n",
      "           1       0.36      0.54      0.43      2438\n",
      "\n",
      "    accuracy                           0.66     10013\n",
      "   macro avg       0.59      0.62      0.59     10013\n",
      "weighted avg       0.71      0.66      0.67     10013\n",
      "\n"
     ]
    }
   ],
   "source": [
    "report = classification_report(test_y,y_pred1)\n",
    "print(report)"
   ]
  },
  {
   "cell_type": "markdown",
   "metadata": {},
   "source": [
    "# RANDOM FOREST"
   ]
  },
  {
   "cell_type": "code",
   "execution_count": 204,
   "metadata": {},
   "outputs": [],
   "source": [
    "from sklearn.feature_selection import SelectFromModel"
   ]
  },
  {
   "cell_type": "code",
   "execution_count": null,
   "metadata": {},
   "outputs": [],
   "source": [
    "from sklearn.ensemble import RandomForestClassifier\n",
    "rndmf = SelectFromModel(RandomForestClassifier(n_estimators=500,class_weight='balanced'))\n",
    "rndmf.fit(sm_xtrain, sm_ytrain)"
   ]
  },
  {
   "cell_type": "code",
   "execution_count": 207,
   "metadata": {},
   "outputs": [
    {
     "name": "stdout",
     "output_type": "stream",
     "text": [
      "0.7131728752621592\n"
     ]
    }
   ],
   "source": [
    "from sklearn.ensemble import RandomForestClassifier\n",
    "rndmf = RandomForestClassifier(n_estimators=500,class_weight='balanced')\n",
    "rndmf.fit(sm_xtrain, sm_ytrain)\n",
    "y_pred1 = rndmf.predict(X_test)\n",
    "accuracy_rndmf = metrics.accuracy_score(test_y,y_pred1)\n",
    "print(accuracy_rndmf)"
   ]
  },
  {
   "cell_type": "code",
   "execution_count": 215,
   "metadata": {},
   "outputs": [
    {
     "data": {
      "text/html": [
       "<div>\n",
       "<style scoped>\n",
       "    .dataframe tbody tr th:only-of-type {\n",
       "        vertical-align: middle;\n",
       "    }\n",
       "\n",
       "    .dataframe tbody tr th {\n",
       "        vertical-align: top;\n",
       "    }\n",
       "\n",
       "    .dataframe thead th {\n",
       "        text-align: right;\n",
       "    }\n",
       "</style>\n",
       "<table border=\"1\" class=\"dataframe\">\n",
       "  <thead>\n",
       "    <tr style=\"text-align: right;\">\n",
       "      <th></th>\n",
       "      <th>Region_Code</th>\n",
       "      <th>Upper_Age</th>\n",
       "      <th>Lower_Age</th>\n",
       "      <th>Health Indicator</th>\n",
       "      <th>Holding_Policy_Duration</th>\n",
       "      <th>Holding_Policy_Type</th>\n",
       "      <th>Reco_Policy_Cat</th>\n",
       "      <th>Reco_Policy_Premium</th>\n",
       "    </tr>\n",
       "  </thead>\n",
       "  <tbody>\n",
       "    <tr>\n",
       "      <th>31459</th>\n",
       "      <td>-0.205594</td>\n",
       "      <td>-0.492694</td>\n",
       "      <td>-0.377296</td>\n",
       "      <td>-1.138848</td>\n",
       "      <td>-1.397765</td>\n",
       "      <td>0.710439</td>\n",
       "      <td>0.299910</td>\n",
       "      <td>-0.814527</td>\n",
       "    </tr>\n",
       "    <tr>\n",
       "      <th>14372</th>\n",
       "      <td>-1.006545</td>\n",
       "      <td>-0.609524</td>\n",
       "      <td>-0.551365</td>\n",
       "      <td>-0.349516</td>\n",
       "      <td>-0.036438</td>\n",
       "      <td>-1.807057</td>\n",
       "      <td>0.930232</td>\n",
       "      <td>0.698262</td>\n",
       "    </tr>\n",
       "    <tr>\n",
       "      <th>44710</th>\n",
       "      <td>0.139075</td>\n",
       "      <td>-0.609524</td>\n",
       "      <td>-0.493342</td>\n",
       "      <td>-1.138848</td>\n",
       "      <td>2.141685</td>\n",
       "      <td>0.710439</td>\n",
       "      <td>0.930232</td>\n",
       "      <td>-0.594040</td>\n",
       "    </tr>\n",
       "    <tr>\n",
       "      <th>12344</th>\n",
       "      <td>-0.289129</td>\n",
       "      <td>0.909266</td>\n",
       "      <td>1.015256</td>\n",
       "      <td>-1.138848</td>\n",
       "      <td>-1.125499</td>\n",
       "      <td>0.710439</td>\n",
       "      <td>1.087812</td>\n",
       "      <td>1.256219</td>\n",
       "    </tr>\n",
       "    <tr>\n",
       "      <th>632</th>\n",
       "      <td>-1.208012</td>\n",
       "      <td>-0.375864</td>\n",
       "      <td>-0.319273</td>\n",
       "      <td>-0.349516</td>\n",
       "      <td>0.780358</td>\n",
       "      <td>0.710439</td>\n",
       "      <td>0.930232</td>\n",
       "      <td>0.063888</td>\n",
       "    </tr>\n",
       "  </tbody>\n",
       "</table>\n",
       "</div>"
      ],
      "text/plain": [
       "      Region_Code  Upper_Age  Lower_Age Health Indicator  \\\n",
       "31459   -0.205594  -0.492694  -0.377296        -1.138848   \n",
       "14372   -1.006545  -0.609524  -0.551365        -0.349516   \n",
       "44710    0.139075  -0.609524  -0.493342        -1.138848   \n",
       "12344   -0.289129   0.909266   1.015256        -1.138848   \n",
       "632     -1.208012  -0.375864  -0.319273        -0.349516   \n",
       "\n",
       "      Holding_Policy_Duration Holding_Policy_Type Reco_Policy_Cat  \\\n",
       "31459               -1.397765            0.710439        0.299910   \n",
       "14372               -0.036438           -1.807057        0.930232   \n",
       "44710                2.141685            0.710439        0.930232   \n",
       "12344               -1.125499            0.710439        1.087812   \n",
       "632                  0.780358            0.710439        0.930232   \n",
       "\n",
       "       Reco_Policy_Premium  \n",
       "31459            -0.814527  \n",
       "14372             0.698262  \n",
       "44710            -0.594040  \n",
       "12344             1.256219  \n",
       "632               0.063888  "
      ]
     },
     "execution_count": 215,
     "metadata": {},
     "output_type": "execute_result"
    }
   ],
   "source": [
    "X_train[['Region_Code', 'Upper_Age', 'Lower_Age', 'Health Indicator',\n",
    "       'Holding_Policy_Duration', 'Holding_Policy_Type', 'Reco_Policy_Cat',\n",
    "       'Reco_Policy_Premium']].head()"
   ]
  },
  {
   "cell_type": "code",
   "execution_count": 206,
   "metadata": {},
   "outputs": [
    {
     "name": "stdout",
     "output_type": "stream",
     "text": [
      "Index(['Region_Code', 'Upper_Age', 'Lower_Age', 'Health Indicator',\n",
      "       'Holding_Policy_Duration', 'Holding_Policy_Type', 'Reco_Policy_Cat',\n",
      "       'Reco_Policy_Premium'],\n",
      "      dtype='object')\n"
     ]
    }
   ],
   "source": [
    "selected_feat= X_train.columns[(rndmf.get_support())]\n",
    "print(selected_feat)"
   ]
  },
  {
   "cell_type": "code",
   "execution_count": null,
   "metadata": {},
   "outputs": [],
   "source": [
    "report = classification_report(test_y,y_pred1)\n",
    "print(report)"
   ]
  },
  {
   "cell_type": "code",
   "execution_count": 208,
   "metadata": {},
   "outputs": [
    {
     "data": {
      "text/plain": [
       "0.7542409105553706"
      ]
     },
     "execution_count": 208,
     "metadata": {},
     "output_type": "execute_result"
    }
   ],
   "source": [
    "from sklearn.metrics import roc_auc_score\n",
    "roc_auc_score(test_y, y_pred1)"
   ]
  },
  {
   "cell_type": "code",
   "execution_count": 209,
   "metadata": {},
   "outputs": [
    {
     "name": "stdout",
     "output_type": "stream",
     "text": [
      "              precision    recall  f1-score   support\n",
      "\n",
      "           0       0.93      0.67      0.78      7575\n",
      "           1       0.45      0.83      0.59      2438\n",
      "\n",
      "    accuracy                           0.71     10013\n",
      "   macro avg       0.69      0.75      0.68     10013\n",
      "weighted avg       0.81      0.71      0.73     10013\n",
      "\n"
     ]
    }
   ],
   "source": [
    "#without class weigt balanced\n",
    "report = classification_report(test_y,y_pred1)\n",
    "print(report)"
   ]
  },
  {
   "cell_type": "code",
   "execution_count": 210,
   "metadata": {},
   "outputs": [
    {
     "name": "stdout",
     "output_type": "stream",
     "text": [
      "[[5107 2468]\n",
      " [ 404 2034]]\n"
     ]
    }
   ],
   "source": [
    "Conf_metrics_sm_rndm = metrics.confusion_matrix(test_y, y_pred1,labels=[0,1])\n",
    "print(Conf_metrics_sm_rndm)"
   ]
  },
  {
   "cell_type": "markdown",
   "metadata": {},
   "source": [
    "# CATBOOST"
   ]
  },
  {
   "cell_type": "code",
   "execution_count": 180,
   "metadata": {},
   "outputs": [
    {
     "name": "stdout",
     "output_type": "stream",
     "text": [
      "0:\tlearn: 0.6865569\ttotal: 223ms\tremaining: 22s\n",
      "1:\tlearn: 0.6808722\ttotal: 445ms\tremaining: 21.8s\n",
      "2:\tlearn: 0.6739747\ttotal: 785ms\tremaining: 25.4s\n",
      "3:\tlearn: 0.6687388\ttotal: 1.18s\tremaining: 28.2s\n",
      "4:\tlearn: 0.6641737\ttotal: 1.55s\tremaining: 29.4s\n",
      "5:\tlearn: 0.6569254\ttotal: 1.82s\tremaining: 28.6s\n",
      "6:\tlearn: 0.6527635\ttotal: 2.15s\tremaining: 28.6s\n",
      "7:\tlearn: 0.6451913\ttotal: 2.44s\tremaining: 28s\n",
      "8:\tlearn: 0.6394364\ttotal: 2.69s\tremaining: 27.3s\n",
      "9:\tlearn: 0.6353220\ttotal: 3.06s\tremaining: 27.6s\n",
      "10:\tlearn: 0.6315548\ttotal: 3.32s\tremaining: 26.8s\n",
      "11:\tlearn: 0.6279403\ttotal: 3.59s\tremaining: 26.3s\n",
      "12:\tlearn: 0.6238487\ttotal: 3.84s\tremaining: 25.7s\n",
      "13:\tlearn: 0.6194881\ttotal: 4.13s\tremaining: 25.4s\n",
      "14:\tlearn: 0.6145244\ttotal: 4.43s\tremaining: 25.1s\n",
      "15:\tlearn: 0.6099861\ttotal: 4.74s\tremaining: 24.9s\n",
      "16:\tlearn: 0.6068495\ttotal: 5.03s\tremaining: 24.6s\n",
      "17:\tlearn: 0.6007621\ttotal: 5.36s\tremaining: 24.4s\n",
      "18:\tlearn: 0.5969145\ttotal: 5.63s\tremaining: 24s\n",
      "19:\tlearn: 0.5942624\ttotal: 5.89s\tremaining: 23.6s\n",
      "20:\tlearn: 0.5906700\ttotal: 6.16s\tremaining: 23.2s\n",
      "21:\tlearn: 0.5878591\ttotal: 6.43s\tremaining: 22.8s\n",
      "22:\tlearn: 0.5850410\ttotal: 6.71s\tremaining: 22.5s\n",
      "23:\tlearn: 0.5827010\ttotal: 6.98s\tremaining: 22.1s\n",
      "24:\tlearn: 0.5802911\ttotal: 7.28s\tremaining: 21.8s\n",
      "25:\tlearn: 0.5771809\ttotal: 7.56s\tremaining: 21.5s\n",
      "26:\tlearn: 0.5736816\ttotal: 7.88s\tremaining: 21.3s\n",
      "27:\tlearn: 0.5709369\ttotal: 8.17s\tremaining: 21s\n",
      "28:\tlearn: 0.5680683\ttotal: 8.49s\tremaining: 20.8s\n",
      "29:\tlearn: 0.5661989\ttotal: 8.76s\tremaining: 20.4s\n",
      "30:\tlearn: 0.5637581\ttotal: 9.05s\tremaining: 20.1s\n",
      "31:\tlearn: 0.5607964\ttotal: 9.32s\tremaining: 19.8s\n",
      "32:\tlearn: 0.5582501\ttotal: 9.58s\tremaining: 19.4s\n",
      "33:\tlearn: 0.5546931\ttotal: 9.84s\tremaining: 19.1s\n",
      "34:\tlearn: 0.5513149\ttotal: 10.1s\tremaining: 18.8s\n",
      "35:\tlearn: 0.5479852\ttotal: 10.4s\tremaining: 18.4s\n",
      "36:\tlearn: 0.5449304\ttotal: 10.6s\tremaining: 18.1s\n",
      "37:\tlearn: 0.5424484\ttotal: 10.9s\tremaining: 17.7s\n",
      "38:\tlearn: 0.5412921\ttotal: 11.1s\tremaining: 17.4s\n",
      "39:\tlearn: 0.5396762\ttotal: 11.4s\tremaining: 17s\n",
      "40:\tlearn: 0.5363872\ttotal: 11.6s\tremaining: 16.7s\n",
      "41:\tlearn: 0.5345139\ttotal: 11.9s\tremaining: 16.4s\n",
      "42:\tlearn: 0.5302570\ttotal: 12.2s\tremaining: 16.1s\n",
      "43:\tlearn: 0.5267967\ttotal: 12.4s\tremaining: 15.8s\n",
      "44:\tlearn: 0.5256482\ttotal: 12.6s\tremaining: 15.4s\n",
      "45:\tlearn: 0.5243744\ttotal: 12.9s\tremaining: 15.1s\n",
      "46:\tlearn: 0.5217739\ttotal: 13.1s\tremaining: 14.8s\n",
      "47:\tlearn: 0.5202065\ttotal: 13.3s\tremaining: 14.5s\n",
      "48:\tlearn: 0.5174163\ttotal: 13.6s\tremaining: 14.1s\n",
      "49:\tlearn: 0.5158834\ttotal: 13.8s\tremaining: 13.8s\n",
      "50:\tlearn: 0.5137715\ttotal: 14s\tremaining: 13.5s\n",
      "51:\tlearn: 0.5122442\ttotal: 14.3s\tremaining: 13.2s\n",
      "52:\tlearn: 0.5105500\ttotal: 14.5s\tremaining: 12.9s\n",
      "53:\tlearn: 0.5086643\ttotal: 14.7s\tremaining: 12.6s\n",
      "54:\tlearn: 0.5051536\ttotal: 15s\tremaining: 12.3s\n",
      "55:\tlearn: 0.5032447\ttotal: 15.2s\tremaining: 12s\n",
      "56:\tlearn: 0.5012233\ttotal: 15.5s\tremaining: 11.7s\n",
      "57:\tlearn: 0.4994273\ttotal: 15.7s\tremaining: 11.4s\n",
      "58:\tlearn: 0.4973894\ttotal: 15.9s\tremaining: 11.1s\n",
      "59:\tlearn: 0.4963550\ttotal: 16.1s\tremaining: 10.8s\n",
      "60:\tlearn: 0.4943151\ttotal: 16.4s\tremaining: 10.5s\n",
      "61:\tlearn: 0.4930997\ttotal: 16.6s\tremaining: 10.2s\n",
      "62:\tlearn: 0.4907946\ttotal: 16.8s\tremaining: 9.89s\n",
      "63:\tlearn: 0.4899291\ttotal: 17.1s\tremaining: 9.59s\n",
      "64:\tlearn: 0.4883618\ttotal: 17.3s\tremaining: 9.31s\n",
      "65:\tlearn: 0.4845659\ttotal: 17.5s\tremaining: 9.02s\n",
      "66:\tlearn: 0.4832528\ttotal: 17.7s\tremaining: 8.74s\n",
      "67:\tlearn: 0.4820578\ttotal: 18s\tremaining: 8.46s\n",
      "68:\tlearn: 0.4806557\ttotal: 18.2s\tremaining: 8.19s\n",
      "69:\tlearn: 0.4756379\ttotal: 18.4s\tremaining: 7.91s\n",
      "70:\tlearn: 0.4743646\ttotal: 18.7s\tremaining: 7.63s\n",
      "71:\tlearn: 0.4726313\ttotal: 18.9s\tremaining: 7.35s\n",
      "72:\tlearn: 0.4718169\ttotal: 19.1s\tremaining: 7.07s\n",
      "73:\tlearn: 0.4706119\ttotal: 19.4s\tremaining: 6.8s\n",
      "74:\tlearn: 0.4698445\ttotal: 19.6s\tremaining: 6.53s\n",
      "75:\tlearn: 0.4686293\ttotal: 19.8s\tremaining: 6.27s\n",
      "76:\tlearn: 0.4660915\ttotal: 20.1s\tremaining: 6s\n",
      "77:\tlearn: 0.4651500\ttotal: 20.3s\tremaining: 5.73s\n",
      "78:\tlearn: 0.4638920\ttotal: 20.6s\tremaining: 5.47s\n",
      "79:\tlearn: 0.4610700\ttotal: 20.8s\tremaining: 5.21s\n",
      "80:\tlearn: 0.4587343\ttotal: 21s\tremaining: 4.94s\n",
      "81:\tlearn: 0.4566768\ttotal: 21.3s\tremaining: 4.67s\n",
      "82:\tlearn: 0.4553085\ttotal: 21.5s\tremaining: 4.4s\n",
      "83:\tlearn: 0.4547424\ttotal: 21.7s\tremaining: 4.14s\n",
      "84:\tlearn: 0.4540572\ttotal: 21.9s\tremaining: 3.87s\n",
      "85:\tlearn: 0.4531289\ttotal: 22.2s\tremaining: 3.61s\n",
      "86:\tlearn: 0.4520380\ttotal: 22.4s\tremaining: 3.35s\n",
      "87:\tlearn: 0.4508234\ttotal: 22.6s\tremaining: 3.09s\n",
      "88:\tlearn: 0.4488912\ttotal: 22.9s\tremaining: 2.82s\n",
      "89:\tlearn: 0.4479047\ttotal: 23.1s\tremaining: 2.57s\n",
      "90:\tlearn: 0.4471759\ttotal: 23.3s\tremaining: 2.31s\n",
      "91:\tlearn: 0.4464676\ttotal: 23.6s\tremaining: 2.05s\n",
      "92:\tlearn: 0.4459174\ttotal: 23.8s\tremaining: 1.79s\n",
      "93:\tlearn: 0.4444806\ttotal: 24s\tremaining: 1.53s\n",
      "94:\tlearn: 0.4439715\ttotal: 24.2s\tremaining: 1.27s\n",
      "95:\tlearn: 0.4421651\ttotal: 24.3s\tremaining: 1.01s\n",
      "96:\tlearn: 0.4412115\ttotal: 24.5s\tremaining: 759ms\n",
      "97:\tlearn: 0.4403027\ttotal: 24.7s\tremaining: 505ms\n",
      "98:\tlearn: 0.4396593\ttotal: 24.9s\tremaining: 252ms\n",
      "99:\tlearn: 0.4391540\ttotal: 25.1s\tremaining: 0us\n",
      " Results from Grid Search \n",
      "\n",
      " The best estimator across ALL searched params:\n",
      " <catboost.core.CatBoostClassifier object at 0x000001CB84647108>\n",
      "\n",
      " The best score across ALL searched params:\n",
      " 0.7581432838651557\n",
      "\n",
      " The best parameters across ALL searched params:\n",
      " {'depth': 10, 'iterations': 100, 'learning_rate': 0.02}\n"
     ]
    }
   ],
   "source": [
    "from catboost import CatBoostClassifier\n",
    "CatBoost=CatBoostClassifier()\n",
    "parameters = {'depth'         : [4,5,6,7,8,9, 10],\n",
    "            'learning_rate' : [0.01,0.02,0.03,0.04],\n",
    "            'iterations'    : [10, 20,30,40,50,60,70,80,90, 100]\n",
    "             }\n",
    "\n",
    "Grid_CBC = GridSearchCV(estimator=CatBoost, param_grid = parameters,\n",
    "                               cv = 2,  n_jobs=-1)\n",
    "Grid_CBC.fit(sm_xtrain,sm_ytrain)\n",
    "\n",
    "# Results from Grid Search\n",
    "print(\" Results from Grid Search \" )\n",
    "print(\"\\n The best estimator across ALL searched params:\\n\",Grid_CBC.best_estimator_)\n",
    "print(\"\\n The best score across ALL searched params:\\n\",Grid_CBC.best_score_)\n",
    "print(\"\\n The best parameters across ALL searched params:\\n\",Grid_CBC.best_params_)"
   ]
  },
  {
   "cell_type": "code",
   "execution_count": 194,
   "metadata": {},
   "outputs": [
    {
     "name": "stdout",
     "output_type": "stream",
     "text": [
      "0:\tlearn: 0.6865569\ttotal: 162ms\tremaining: 16.1s\n",
      "1:\tlearn: 0.6808722\ttotal: 325ms\tremaining: 15.9s\n",
      "2:\tlearn: 0.6739747\ttotal: 510ms\tremaining: 16.5s\n",
      "3:\tlearn: 0.6687388\ttotal: 684ms\tremaining: 16.4s\n",
      "4:\tlearn: 0.6641737\ttotal: 871ms\tremaining: 16.5s\n",
      "5:\tlearn: 0.6569254\ttotal: 1.06s\tremaining: 16.6s\n",
      "6:\tlearn: 0.6527635\ttotal: 1.25s\tremaining: 16.6s\n",
      "7:\tlearn: 0.6451913\ttotal: 1.45s\tremaining: 16.6s\n",
      "8:\tlearn: 0.6394364\ttotal: 1.65s\tremaining: 16.7s\n",
      "9:\tlearn: 0.6353220\ttotal: 1.84s\tremaining: 16.5s\n",
      "10:\tlearn: 0.6315548\ttotal: 2.02s\tremaining: 16.4s\n",
      "11:\tlearn: 0.6279403\ttotal: 2.21s\tremaining: 16.2s\n",
      "12:\tlearn: 0.6238487\ttotal: 2.39s\tremaining: 16s\n",
      "13:\tlearn: 0.6194881\ttotal: 2.57s\tremaining: 15.8s\n",
      "14:\tlearn: 0.6145244\ttotal: 2.73s\tremaining: 15.5s\n",
      "15:\tlearn: 0.6099861\ttotal: 2.92s\tremaining: 15.4s\n",
      "16:\tlearn: 0.6068495\ttotal: 3.09s\tremaining: 15.1s\n",
      "17:\tlearn: 0.6007621\ttotal: 3.27s\tremaining: 14.9s\n",
      "18:\tlearn: 0.5969145\ttotal: 3.46s\tremaining: 14.7s\n",
      "19:\tlearn: 0.5942624\ttotal: 3.66s\tremaining: 14.6s\n",
      "20:\tlearn: 0.5906700\ttotal: 3.84s\tremaining: 14.4s\n",
      "21:\tlearn: 0.5878591\ttotal: 4.03s\tremaining: 14.3s\n",
      "22:\tlearn: 0.5850410\ttotal: 4.23s\tremaining: 14.2s\n",
      "23:\tlearn: 0.5827010\ttotal: 4.43s\tremaining: 14s\n",
      "24:\tlearn: 0.5802911\ttotal: 4.63s\tremaining: 13.9s\n",
      "25:\tlearn: 0.5771809\ttotal: 4.8s\tremaining: 13.7s\n",
      "26:\tlearn: 0.5736816\ttotal: 4.98s\tremaining: 13.5s\n",
      "27:\tlearn: 0.5709369\ttotal: 5.14s\tremaining: 13.2s\n",
      "28:\tlearn: 0.5680683\ttotal: 5.33s\tremaining: 13s\n",
      "29:\tlearn: 0.5661989\ttotal: 5.49s\tremaining: 12.8s\n",
      "30:\tlearn: 0.5637581\ttotal: 5.68s\tremaining: 12.6s\n",
      "31:\tlearn: 0.5607964\ttotal: 5.84s\tremaining: 12.4s\n",
      "32:\tlearn: 0.5582501\ttotal: 6.02s\tremaining: 12.2s\n",
      "33:\tlearn: 0.5546931\ttotal: 6.2s\tremaining: 12s\n",
      "34:\tlearn: 0.5513149\ttotal: 6.41s\tremaining: 11.9s\n",
      "35:\tlearn: 0.5479852\ttotal: 6.59s\tremaining: 11.7s\n",
      "36:\tlearn: 0.5449304\ttotal: 6.79s\tremaining: 11.6s\n",
      "37:\tlearn: 0.5424484\ttotal: 6.97s\tremaining: 11.4s\n",
      "38:\tlearn: 0.5412921\ttotal: 7.17s\tremaining: 11.2s\n",
      "39:\tlearn: 0.5396762\ttotal: 7.35s\tremaining: 11s\n",
      "40:\tlearn: 0.5363872\ttotal: 7.56s\tremaining: 10.9s\n",
      "41:\tlearn: 0.5345139\ttotal: 7.74s\tremaining: 10.7s\n",
      "42:\tlearn: 0.5302570\ttotal: 7.94s\tremaining: 10.5s\n",
      "43:\tlearn: 0.5267967\ttotal: 8.11s\tremaining: 10.3s\n",
      "44:\tlearn: 0.5256482\ttotal: 8.31s\tremaining: 10.2s\n",
      "45:\tlearn: 0.5243744\ttotal: 8.49s\tremaining: 9.96s\n",
      "46:\tlearn: 0.5217739\ttotal: 8.68s\tremaining: 9.79s\n",
      "47:\tlearn: 0.5202065\ttotal: 8.85s\tremaining: 9.59s\n",
      "48:\tlearn: 0.5174163\ttotal: 9.05s\tremaining: 9.42s\n",
      "49:\tlearn: 0.5158834\ttotal: 9.23s\tremaining: 9.23s\n",
      "50:\tlearn: 0.5137715\ttotal: 9.44s\tremaining: 9.07s\n",
      "51:\tlearn: 0.5122442\ttotal: 9.61s\tremaining: 8.87s\n",
      "52:\tlearn: 0.5105500\ttotal: 9.81s\tremaining: 8.7s\n",
      "53:\tlearn: 0.5086643\ttotal: 9.98s\tremaining: 8.51s\n",
      "54:\tlearn: 0.5051536\ttotal: 10.2s\tremaining: 8.34s\n",
      "55:\tlearn: 0.5032447\ttotal: 10.4s\tremaining: 8.14s\n",
      "56:\tlearn: 0.5012233\ttotal: 10.6s\tremaining: 7.97s\n",
      "57:\tlearn: 0.4994273\ttotal: 10.7s\tremaining: 7.77s\n",
      "58:\tlearn: 0.4973894\ttotal: 10.9s\tremaining: 7.59s\n",
      "59:\tlearn: 0.4963550\ttotal: 11.1s\tremaining: 7.4s\n",
      "60:\tlearn: 0.4943151\ttotal: 11.3s\tremaining: 7.21s\n",
      "61:\tlearn: 0.4930997\ttotal: 11.5s\tremaining: 7.04s\n",
      "62:\tlearn: 0.4907946\ttotal: 11.7s\tremaining: 6.85s\n",
      "63:\tlearn: 0.4899291\ttotal: 11.9s\tremaining: 6.68s\n",
      "64:\tlearn: 0.4883618\ttotal: 12.1s\tremaining: 6.49s\n",
      "65:\tlearn: 0.4845659\ttotal: 12.3s\tremaining: 6.31s\n",
      "66:\tlearn: 0.4832528\ttotal: 12.4s\tremaining: 6.13s\n",
      "67:\tlearn: 0.4820578\ttotal: 12.6s\tremaining: 5.95s\n",
      "68:\tlearn: 0.4806557\ttotal: 12.9s\tremaining: 5.77s\n",
      "69:\tlearn: 0.4756379\ttotal: 13s\tremaining: 5.59s\n",
      "70:\tlearn: 0.4743646\ttotal: 13.2s\tremaining: 5.41s\n",
      "71:\tlearn: 0.4726313\ttotal: 13.4s\tremaining: 5.22s\n",
      "72:\tlearn: 0.4718169\ttotal: 13.6s\tremaining: 5.04s\n",
      "73:\tlearn: 0.4706119\ttotal: 13.8s\tremaining: 4.85s\n",
      "74:\tlearn: 0.4698445\ttotal: 14s\tremaining: 4.67s\n",
      "75:\tlearn: 0.4686293\ttotal: 14.2s\tremaining: 4.49s\n",
      "76:\tlearn: 0.4660915\ttotal: 14.4s\tremaining: 4.3s\n",
      "77:\tlearn: 0.4651500\ttotal: 14.6s\tremaining: 4.12s\n",
      "78:\tlearn: 0.4638920\ttotal: 14.8s\tremaining: 3.93s\n",
      "79:\tlearn: 0.4610700\ttotal: 15s\tremaining: 3.75s\n",
      "80:\tlearn: 0.4587343\ttotal: 15.2s\tremaining: 3.56s\n",
      "81:\tlearn: 0.4566768\ttotal: 15.4s\tremaining: 3.38s\n",
      "82:\tlearn: 0.4553085\ttotal: 15.6s\tremaining: 3.19s\n",
      "83:\tlearn: 0.4547424\ttotal: 15.8s\tremaining: 3s\n",
      "84:\tlearn: 0.4540572\ttotal: 15.9s\tremaining: 2.81s\n",
      "85:\tlearn: 0.4531289\ttotal: 16.1s\tremaining: 2.62s\n",
      "86:\tlearn: 0.4520380\ttotal: 16.3s\tremaining: 2.43s\n",
      "87:\tlearn: 0.4508234\ttotal: 16.5s\tremaining: 2.24s\n",
      "88:\tlearn: 0.4488912\ttotal: 16.6s\tremaining: 2.05s\n",
      "89:\tlearn: 0.4479047\ttotal: 16.8s\tremaining: 1.87s\n",
      "90:\tlearn: 0.4471759\ttotal: 17s\tremaining: 1.68s\n",
      "91:\tlearn: 0.4464676\ttotal: 17.2s\tremaining: 1.5s\n",
      "92:\tlearn: 0.4459174\ttotal: 17.4s\tremaining: 1.31s\n",
      "93:\tlearn: 0.4444806\ttotal: 17.6s\tremaining: 1.12s\n",
      "94:\tlearn: 0.4439715\ttotal: 17.8s\tremaining: 935ms\n",
      "95:\tlearn: 0.4421651\ttotal: 18s\tremaining: 749ms\n",
      "96:\tlearn: 0.4412115\ttotal: 18.2s\tremaining: 562ms\n",
      "97:\tlearn: 0.4403027\ttotal: 18.4s\tremaining: 375ms\n",
      "98:\tlearn: 0.4396593\ttotal: 18.6s\tremaining: 187ms\n",
      "99:\tlearn: 0.4391540\ttotal: 18.7s\tremaining: 0us\n"
     ]
    },
    {
     "data": {
      "text/plain": [
       "GridSearchCV(cv=2, error_score=nan,\n",
       "             estimator=<catboost.core.CatBoostClassifier object at 0x000001CB83AECDC8>,\n",
       "             iid='deprecated', n_jobs=-1,\n",
       "             param_grid={'depth': [10], 'iterations': [100],\n",
       "                         'learning_rate': [0.02]},\n",
       "             pre_dispatch='2*n_jobs', refit=True, return_train_score=False,\n",
       "             scoring=None, verbose=0)"
      ]
     },
     "execution_count": 194,
     "metadata": {},
     "output_type": "execute_result"
    }
   ],
   "source": [
    "from catboost import CatBoostClassifier\n",
    "CatBoost=CatBoostClassifier()                                                              \n",
    "parameters = {'depth':[10], 'iterations': [100], 'learning_rate': [0.02]}\n",
    "Grid_CBC = GridSearchCV(estimator=CatBoost, param_grid = parameters,cv = 2,n_jobs=-1)\n",
    "Grid_CBC.fit(sm_xtrain,sm_ytrain)"
   ]
  },
  {
   "cell_type": "code",
   "execution_count": 199,
   "metadata": {},
   "outputs": [],
   "source": [
    "y_pred4=Grid_CBC.predict(np.array(X_test))"
   ]
  },
  {
   "cell_type": "code",
   "execution_count": 200,
   "metadata": {},
   "outputs": [
    {
     "data": {
      "text/plain": [
       "0.5747487119507685"
      ]
     },
     "execution_count": 200,
     "metadata": {},
     "output_type": "execute_result"
    }
   ],
   "source": [
    "from sklearn.metrics import roc_auc_score\n",
    "roc_auc_score(test_y, y_pred4)"
   ]
  },
  {
   "cell_type": "code",
   "execution_count": 201,
   "metadata": {},
   "outputs": [
    {
     "name": "stdout",
     "output_type": "stream",
     "text": [
      "[[1642 5933]\n",
      " [ 164 2274]]\n"
     ]
    }
   ],
   "source": [
    "Conf_metrics_sm_cb = metrics.confusion_matrix(test_y, y_pred4,labels=[0,1])\n",
    "print(Conf_metrics_sm_cb)"
   ]
  },
  {
   "cell_type": "code",
   "execution_count": 202,
   "metadata": {},
   "outputs": [
    {
     "name": "stdout",
     "output_type": "stream",
     "text": [
      "              precision    recall  f1-score   support\n",
      "\n",
      "           0       0.91      0.22      0.35      7575\n",
      "           1       0.28      0.93      0.43      2438\n",
      "\n",
      "    accuracy                           0.39     10013\n",
      "   macro avg       0.59      0.57      0.39     10013\n",
      "weighted avg       0.76      0.39      0.37     10013\n",
      "\n"
     ]
    }
   ],
   "source": [
    "#without class weigt balanced\n",
    "report = classification_report(test_y,y_pred4)\n",
    "print(report)"
   ]
  },
  {
   "cell_type": "markdown",
   "metadata": {},
   "source": [
    "# SVC"
   ]
  },
  {
   "cell_type": "code",
   "execution_count": 162,
   "metadata": {},
   "outputs": [
    {
     "name": "stdout",
     "output_type": "stream",
     "text": [
      "0.7565165285129332\n"
     ]
    }
   ],
   "source": [
    "from sklearn.svm import SVC\n",
    "svm_classifier = SVC(random_state=101)\n",
    "svm_classifier.fit(np.array(X_train), train_y)\n",
    "y_pred5 = svm_classifier.predict(np.array(X_test))\n",
    "accuracy_svc = metrics.accuracy_score(test_y,y_pred5)\n",
    "print(accuracy_svc)"
   ]
  },
  {
   "cell_type": "code",
   "execution_count": 165,
   "metadata": {},
   "outputs": [
    {
     "data": {
      "text/plain": [
       "0.5"
      ]
     },
     "execution_count": 165,
     "metadata": {},
     "output_type": "execute_result"
    }
   ],
   "source": [
    "from sklearn.metrics import roc_auc_score\n",
    "roc_auc_score(test_y, y_pred5)"
   ]
  },
  {
   "cell_type": "code",
   "execution_count": 166,
   "metadata": {},
   "outputs": [
    {
     "name": "stdout",
     "output_type": "stream",
     "text": [
      "[[7575    0]\n",
      " [2438    0]]\n"
     ]
    }
   ],
   "source": [
    "Conf_metrics_sm_xgb = metrics.confusion_matrix(test_y, y_pred5,labels=[0,1])\n",
    "print(Conf_metrics_sm_xgb)"
   ]
  },
  {
   "cell_type": "markdown",
   "metadata": {},
   "source": [
    "# DATA PREPARATION AGAIN"
   ]
  },
  {
   "cell_type": "code",
   "execution_count": 226,
   "metadata": {},
   "outputs": [
    {
     "data": {
      "text/html": [
       "<div>\n",
       "<style scoped>\n",
       "    .dataframe tbody tr th:only-of-type {\n",
       "        vertical-align: middle;\n",
       "    }\n",
       "\n",
       "    .dataframe tbody tr th {\n",
       "        vertical-align: top;\n",
       "    }\n",
       "\n",
       "    .dataframe thead th {\n",
       "        text-align: right;\n",
       "    }\n",
       "</style>\n",
       "<table border=\"1\" class=\"dataframe\">\n",
       "  <thead>\n",
       "    <tr style=\"text-align: right;\">\n",
       "      <th></th>\n",
       "      <th>ID</th>\n",
       "      <th>City_Code</th>\n",
       "      <th>Region_Code</th>\n",
       "      <th>Accomodation_Type</th>\n",
       "      <th>Reco_Insurance_Type</th>\n",
       "      <th>Upper_Age</th>\n",
       "      <th>Lower_Age</th>\n",
       "      <th>Is_Spouse</th>\n",
       "      <th>Health Indicator</th>\n",
       "      <th>Holding_Policy_Duration</th>\n",
       "      <th>Holding_Policy_Type</th>\n",
       "      <th>Reco_Policy_Cat</th>\n",
       "      <th>Reco_Policy_Premium</th>\n",
       "      <th>Response</th>\n",
       "    </tr>\n",
       "  </thead>\n",
       "  <tbody>\n",
       "    <tr>\n",
       "      <th>0</th>\n",
       "      <td>1</td>\n",
       "      <td>C3</td>\n",
       "      <td>3213</td>\n",
       "      <td>1</td>\n",
       "      <td>0</td>\n",
       "      <td>36</td>\n",
       "      <td>36</td>\n",
       "      <td>No</td>\n",
       "      <td>0.0</td>\n",
       "      <td>15</td>\n",
       "      <td>3.0</td>\n",
       "      <td>22</td>\n",
       "      <td>11628.0</td>\n",
       "      <td>0</td>\n",
       "    </tr>\n",
       "    <tr>\n",
       "      <th>1</th>\n",
       "      <td>2</td>\n",
       "      <td>C5</td>\n",
       "      <td>1117</td>\n",
       "      <td>0</td>\n",
       "      <td>1</td>\n",
       "      <td>75</td>\n",
       "      <td>22</td>\n",
       "      <td>No</td>\n",
       "      <td>1.0</td>\n",
       "      <td>NaN</td>\n",
       "      <td>NaN</td>\n",
       "      <td>22</td>\n",
       "      <td>30510.0</td>\n",
       "      <td>0</td>\n",
       "    </tr>\n",
       "  </tbody>\n",
       "</table>\n",
       "</div>"
      ],
      "text/plain": [
       "   ID City_Code Region_Code  Accomodation_Type  Reco_Insurance_Type  \\\n",
       "0   1        C3        3213                  1                    0   \n",
       "1   2        C5        1117                  0                    1   \n",
       "\n",
       "   Upper_Age  Lower_Age Is_Spouse  Health Indicator Holding_Policy_Duration  \\\n",
       "0         36         36        No               0.0                      15   \n",
       "1         75         22        No               1.0                     NaN   \n",
       "\n",
       "  Holding_Policy_Type Reco_Policy_Cat  Reco_Policy_Premium  Response  \n",
       "0                 3.0              22              11628.0         0  \n",
       "1                 NaN              22              30510.0         0  "
      ]
     },
     "execution_count": 226,
     "metadata": {},
     "output_type": "execute_result"
    }
   ],
   "source": [
    "df.head(2)"
   ]
  },
  {
   "cell_type": "code",
   "execution_count": 219,
   "metadata": {},
   "outputs": [],
   "source": [
    "df['Accomodation_Type']=df['Accomodation_Type'].cat.codes"
   ]
  },
  {
   "cell_type": "code",
   "execution_count": 225,
   "metadata": {},
   "outputs": [],
   "source": [
    "df['Reco_Insurance_Type']=df['Reco_Insurance_Type'].cat.codes"
   ]
  },
  {
   "cell_type": "code",
   "execution_count": 227,
   "metadata": {},
   "outputs": [],
   "source": [
    "df['Is_Spouse']=df['Is_Spouse'].cat.codes"
   ]
  },
  {
   "cell_type": "code",
   "execution_count": 228,
   "metadata": {},
   "outputs": [],
   "source": [
    "df['City_Code']=df['City_Code'].cat.codes"
   ]
  },
  {
   "cell_type": "code",
   "execution_count": 229,
   "metadata": {},
   "outputs": [
    {
     "data": {
      "text/html": [
       "<div>\n",
       "<style scoped>\n",
       "    .dataframe tbody tr th:only-of-type {\n",
       "        vertical-align: middle;\n",
       "    }\n",
       "\n",
       "    .dataframe tbody tr th {\n",
       "        vertical-align: top;\n",
       "    }\n",
       "\n",
       "    .dataframe thead th {\n",
       "        text-align: right;\n",
       "    }\n",
       "</style>\n",
       "<table border=\"1\" class=\"dataframe\">\n",
       "  <thead>\n",
       "    <tr style=\"text-align: right;\">\n",
       "      <th></th>\n",
       "      <th>ID</th>\n",
       "      <th>City_Code</th>\n",
       "      <th>Region_Code</th>\n",
       "      <th>Accomodation_Type</th>\n",
       "      <th>Reco_Insurance_Type</th>\n",
       "      <th>Upper_Age</th>\n",
       "      <th>Lower_Age</th>\n",
       "      <th>Is_Spouse</th>\n",
       "      <th>Health Indicator</th>\n",
       "      <th>Holding_Policy_Duration</th>\n",
       "      <th>Holding_Policy_Type</th>\n",
       "      <th>Reco_Policy_Cat</th>\n",
       "      <th>Reco_Policy_Premium</th>\n",
       "      <th>Response</th>\n",
       "    </tr>\n",
       "  </thead>\n",
       "  <tbody>\n",
       "    <tr>\n",
       "      <th>0</th>\n",
       "      <td>1</td>\n",
       "      <td>22</td>\n",
       "      <td>3213</td>\n",
       "      <td>1</td>\n",
       "      <td>0</td>\n",
       "      <td>36</td>\n",
       "      <td>36</td>\n",
       "      <td>0</td>\n",
       "      <td>0.0</td>\n",
       "      <td>15</td>\n",
       "      <td>3.0</td>\n",
       "      <td>22</td>\n",
       "      <td>11628.0</td>\n",
       "      <td>0</td>\n",
       "    </tr>\n",
       "    <tr>\n",
       "      <th>1</th>\n",
       "      <td>2</td>\n",
       "      <td>31</td>\n",
       "      <td>1117</td>\n",
       "      <td>0</td>\n",
       "      <td>1</td>\n",
       "      <td>75</td>\n",
       "      <td>22</td>\n",
       "      <td>0</td>\n",
       "      <td>1.0</td>\n",
       "      <td>NaN</td>\n",
       "      <td>NaN</td>\n",
       "      <td>22</td>\n",
       "      <td>30510.0</td>\n",
       "      <td>0</td>\n",
       "    </tr>\n",
       "    <tr>\n",
       "      <th>2</th>\n",
       "      <td>3</td>\n",
       "      <td>31</td>\n",
       "      <td>3732</td>\n",
       "      <td>0</td>\n",
       "      <td>0</td>\n",
       "      <td>32</td>\n",
       "      <td>32</td>\n",
       "      <td>0</td>\n",
       "      <td>NaN</td>\n",
       "      <td>1.0</td>\n",
       "      <td>1.0</td>\n",
       "      <td>19</td>\n",
       "      <td>7450.0</td>\n",
       "      <td>1</td>\n",
       "    </tr>\n",
       "    <tr>\n",
       "      <th>3</th>\n",
       "      <td>4</td>\n",
       "      <td>16</td>\n",
       "      <td>4378</td>\n",
       "      <td>0</td>\n",
       "      <td>1</td>\n",
       "      <td>52</td>\n",
       "      <td>48</td>\n",
       "      <td>0</td>\n",
       "      <td>0.0</td>\n",
       "      <td>15</td>\n",
       "      <td>3.0</td>\n",
       "      <td>19</td>\n",
       "      <td>17780.0</td>\n",
       "      <td>0</td>\n",
       "    </tr>\n",
       "    <tr>\n",
       "      <th>4</th>\n",
       "      <td>5</td>\n",
       "      <td>34</td>\n",
       "      <td>2190</td>\n",
       "      <td>1</td>\n",
       "      <td>0</td>\n",
       "      <td>44</td>\n",
       "      <td>44</td>\n",
       "      <td>0</td>\n",
       "      <td>1.0</td>\n",
       "      <td>3.0</td>\n",
       "      <td>1.0</td>\n",
       "      <td>16</td>\n",
       "      <td>10404.0</td>\n",
       "      <td>0</td>\n",
       "    </tr>\n",
       "  </tbody>\n",
       "</table>\n",
       "</div>"
      ],
      "text/plain": [
       "   ID  City_Code Region_Code  Accomodation_Type  Reco_Insurance_Type  \\\n",
       "0   1         22        3213                  1                    0   \n",
       "1   2         31        1117                  0                    1   \n",
       "2   3         31        3732                  0                    0   \n",
       "3   4         16        4378                  0                    1   \n",
       "4   5         34        2190                  1                    0   \n",
       "\n",
       "   Upper_Age  Lower_Age  Is_Spouse  Health Indicator Holding_Policy_Duration  \\\n",
       "0         36         36          0               0.0                      15   \n",
       "1         75         22          0               1.0                     NaN   \n",
       "2         32         32          0               NaN                     1.0   \n",
       "3         52         48          0               0.0                      15   \n",
       "4         44         44          0               1.0                     3.0   \n",
       "\n",
       "  Holding_Policy_Type Reco_Policy_Cat  Reco_Policy_Premium  Response  \n",
       "0                 3.0              22              11628.0         0  \n",
       "1                 NaN              22              30510.0         0  \n",
       "2                 1.0              19               7450.0         1  \n",
       "3                 3.0              19              17780.0         0  \n",
       "4                 1.0              16              10404.0         0  "
      ]
     },
     "execution_count": 229,
     "metadata": {},
     "output_type": "execute_result"
    }
   ],
   "source": [
    "df.head()"
   ]
  },
  {
   "cell_type": "code",
   "execution_count": 231,
   "metadata": {},
   "outputs": [],
   "source": [
    "df3=df.copy()"
   ]
  },
  {
   "cell_type": "code",
   "execution_count": 235,
   "metadata": {},
   "outputs": [
    {
     "data": {
      "text/plain": [
       "ID                             0\n",
       "City_Code                      0\n",
       "Region_Code                    0\n",
       "Accomodation_Type              0\n",
       "Reco_Insurance_Type            0\n",
       "Upper_Age                      0\n",
       "Lower_Age                      0\n",
       "Is_Spouse                      0\n",
       "Health Indicator           11691\n",
       "Holding_Policy_Duration    20251\n",
       "Holding_Policy_Type        20251\n",
       "Reco_Policy_Cat                0\n",
       "Reco_Policy_Premium            0\n",
       "Response                       0\n",
       "dtype: int64"
      ]
     },
     "execution_count": 235,
     "metadata": {},
     "output_type": "execute_result"
    }
   ],
   "source": [
    "df3.isnull().sum()"
   ]
  },
  {
   "cell_type": "code",
   "execution_count": 234,
   "metadata": {},
   "outputs": [],
   "source": [
    "from sklearn.impute import SimpleImputer\n",
    "my_imputer = SimpleImputer()\n",
    "data_with_imputed_values = pd.DataFrame(my_imputer.fit_transform(df3))\n",
    "data_with_imputed_values.columns=df3.columns\n",
    "data_with_imputed_values.index=df3.index"
   ]
  },
  {
   "cell_type": "code",
   "execution_count": 236,
   "metadata": {},
   "outputs": [
    {
     "data": {
      "text/html": [
       "<div>\n",
       "<style scoped>\n",
       "    .dataframe tbody tr th:only-of-type {\n",
       "        vertical-align: middle;\n",
       "    }\n",
       "\n",
       "    .dataframe tbody tr th {\n",
       "        vertical-align: top;\n",
       "    }\n",
       "\n",
       "    .dataframe thead th {\n",
       "        text-align: right;\n",
       "    }\n",
       "</style>\n",
       "<table border=\"1\" class=\"dataframe\">\n",
       "  <thead>\n",
       "    <tr style=\"text-align: right;\">\n",
       "      <th></th>\n",
       "      <th>ID</th>\n",
       "      <th>City_Code</th>\n",
       "      <th>Region_Code</th>\n",
       "      <th>Accomodation_Type</th>\n",
       "      <th>Reco_Insurance_Type</th>\n",
       "      <th>Upper_Age</th>\n",
       "      <th>Lower_Age</th>\n",
       "      <th>Is_Spouse</th>\n",
       "      <th>Health Indicator</th>\n",
       "      <th>Holding_Policy_Duration</th>\n",
       "      <th>Holding_Policy_Type</th>\n",
       "      <th>Reco_Policy_Cat</th>\n",
       "      <th>Reco_Policy_Premium</th>\n",
       "      <th>Response</th>\n",
       "    </tr>\n",
       "  </thead>\n",
       "  <tbody>\n",
       "    <tr>\n",
       "      <th>0</th>\n",
       "      <td>1.0</td>\n",
       "      <td>22.0</td>\n",
       "      <td>3213.0</td>\n",
       "      <td>1.0</td>\n",
       "      <td>0.0</td>\n",
       "      <td>36.0</td>\n",
       "      <td>36.0</td>\n",
       "      <td>0.0</td>\n",
       "      <td>0.000000</td>\n",
       "      <td>15.000000</td>\n",
       "      <td>3.000000</td>\n",
       "      <td>22.0</td>\n",
       "      <td>11628.0</td>\n",
       "      <td>0.0</td>\n",
       "    </tr>\n",
       "    <tr>\n",
       "      <th>1</th>\n",
       "      <td>2.0</td>\n",
       "      <td>31.0</td>\n",
       "      <td>1117.0</td>\n",
       "      <td>0.0</td>\n",
       "      <td>1.0</td>\n",
       "      <td>75.0</td>\n",
       "      <td>22.0</td>\n",
       "      <td>0.0</td>\n",
       "      <td>1.000000</td>\n",
       "      <td>6.156769</td>\n",
       "      <td>2.439228</td>\n",
       "      <td>22.0</td>\n",
       "      <td>30510.0</td>\n",
       "      <td>0.0</td>\n",
       "    </tr>\n",
       "    <tr>\n",
       "      <th>2</th>\n",
       "      <td>3.0</td>\n",
       "      <td>31.0</td>\n",
       "      <td>3732.0</td>\n",
       "      <td>0.0</td>\n",
       "      <td>0.0</td>\n",
       "      <td>32.0</td>\n",
       "      <td>32.0</td>\n",
       "      <td>0.0</td>\n",
       "      <td>1.444694</td>\n",
       "      <td>1.000000</td>\n",
       "      <td>1.000000</td>\n",
       "      <td>19.0</td>\n",
       "      <td>7450.0</td>\n",
       "      <td>1.0</td>\n",
       "    </tr>\n",
       "    <tr>\n",
       "      <th>3</th>\n",
       "      <td>4.0</td>\n",
       "      <td>16.0</td>\n",
       "      <td>4378.0</td>\n",
       "      <td>0.0</td>\n",
       "      <td>1.0</td>\n",
       "      <td>52.0</td>\n",
       "      <td>48.0</td>\n",
       "      <td>0.0</td>\n",
       "      <td>0.000000</td>\n",
       "      <td>15.000000</td>\n",
       "      <td>3.000000</td>\n",
       "      <td>19.0</td>\n",
       "      <td>17780.0</td>\n",
       "      <td>0.0</td>\n",
       "    </tr>\n",
       "    <tr>\n",
       "      <th>4</th>\n",
       "      <td>5.0</td>\n",
       "      <td>34.0</td>\n",
       "      <td>2190.0</td>\n",
       "      <td>1.0</td>\n",
       "      <td>0.0</td>\n",
       "      <td>44.0</td>\n",
       "      <td>44.0</td>\n",
       "      <td>0.0</td>\n",
       "      <td>1.000000</td>\n",
       "      <td>3.000000</td>\n",
       "      <td>1.000000</td>\n",
       "      <td>16.0</td>\n",
       "      <td>10404.0</td>\n",
       "      <td>0.0</td>\n",
       "    </tr>\n",
       "  </tbody>\n",
       "</table>\n",
       "</div>"
      ],
      "text/plain": [
       "    ID  City_Code  Region_Code  Accomodation_Type  Reco_Insurance_Type  \\\n",
       "0  1.0       22.0       3213.0                1.0                  0.0   \n",
       "1  2.0       31.0       1117.0                0.0                  1.0   \n",
       "2  3.0       31.0       3732.0                0.0                  0.0   \n",
       "3  4.0       16.0       4378.0                0.0                  1.0   \n",
       "4  5.0       34.0       2190.0                1.0                  0.0   \n",
       "\n",
       "   Upper_Age  Lower_Age  Is_Spouse  Health Indicator  Holding_Policy_Duration  \\\n",
       "0       36.0       36.0        0.0          0.000000                15.000000   \n",
       "1       75.0       22.0        0.0          1.000000                 6.156769   \n",
       "2       32.0       32.0        0.0          1.444694                 1.000000   \n",
       "3       52.0       48.0        0.0          0.000000                15.000000   \n",
       "4       44.0       44.0        0.0          1.000000                 3.000000   \n",
       "\n",
       "   Holding_Policy_Type  Reco_Policy_Cat  Reco_Policy_Premium  Response  \n",
       "0             3.000000             22.0              11628.0       0.0  \n",
       "1             2.439228             22.0              30510.0       0.0  \n",
       "2             1.000000             19.0               7450.0       1.0  \n",
       "3             3.000000             19.0              17780.0       0.0  \n",
       "4             1.000000             16.0              10404.0       0.0  "
      ]
     },
     "execution_count": 236,
     "metadata": {},
     "output_type": "execute_result"
    }
   ],
   "source": [
    "data_with_imputed_values.head()"
   ]
  },
  {
   "cell_type": "code",
   "execution_count": 241,
   "metadata": {},
   "outputs": [
    {
     "data": {
      "text/plain": [
       "ID                          float64\n",
       "City_Code                  category\n",
       "Region_Code                category\n",
       "Accomodation_Type          category\n",
       "Reco_Insurance_Type        category\n",
       "Upper_Age                   float64\n",
       "Lower_Age                   float64\n",
       "Is_Spouse                  category\n",
       "Health Indicator           category\n",
       "Holding_Policy_Duration    category\n",
       "Holding_Policy_Type        category\n",
       "Reco_Policy_Cat            category\n",
       "Reco_Policy_Premium         float64\n",
       "Response                   category\n",
       "dtype: object"
      ]
     },
     "execution_count": 241,
     "metadata": {},
     "output_type": "execute_result"
    }
   ],
   "source": [
    "data_with_imputed_values.dtypes"
   ]
  },
  {
   "cell_type": "code",
   "execution_count": 240,
   "metadata": {},
   "outputs": [],
   "source": [
    "data_with_imputed_values=data_with_imputed_values.astype({\"Holding_Policy_Type\":'category', \"Reco_Policy_Cat\":'category',\"City_Code\":'category',\"Accomodation_Type\":'category',\"Reco_Insurance_Type\":'category',\"Holding_Policy_Duration\":'category',\"Is_Spouse\":'category',\"Health Indicator\":'category','Region_Code':'category','Response':'category'})"
   ]
  },
  {
   "cell_type": "code",
   "execution_count": 242,
   "metadata": {},
   "outputs": [],
   "source": [
    "def remove_outlier(df_in, col_name):\n",
    "    q1 = df_in[col_name].quantile(0.25)\n",
    "    q3 = df_in[col_name].quantile(0.75)\n",
    "    iqr = q3-q1 #Interquartile range\n",
    "    fence_low  = q1-1.5*iqr\n",
    "    fence_high = q3+1.5*iqr\n",
    "    df_out = df_in.loc[(df_in[col_name] > fence_low) & (df_in[col_name] < fence_high)]\n",
    "    return df_out"
   ]
  },
  {
   "cell_type": "code",
   "execution_count": 247,
   "metadata": {},
   "outputs": [],
   "source": [
    "data_with_imputed_values=remove_outlier(data_with_imputed_values,'Reco_Policy_Premium')"
   ]
  },
  {
   "cell_type": "code",
   "execution_count": 249,
   "metadata": {},
   "outputs": [
    {
     "name": "stderr",
     "output_type": "stream",
     "text": [
      "C:\\Python\\lib\\site-packages\\ipykernel_launcher.py:1: SettingWithCopyWarning: \n",
      "A value is trying to be set on a copy of a slice from a DataFrame.\n",
      "Try using .loc[row_indexer,col_indexer] = value instead\n",
      "\n",
      "See the caveats in the documentation: http://pandas.pydata.org/pandas-docs/stable/user_guide/indexing.html#returning-a-view-versus-a-copy\n",
      "  \"\"\"Entry point for launching an IPython kernel.\n",
      "C:\\Python\\lib\\site-packages\\pandas\\core\\indexing.py:494: SettingWithCopyWarning: \n",
      "A value is trying to be set on a copy of a slice from a DataFrame.\n",
      "Try using .loc[row_indexer,col_indexer] = value instead\n",
      "\n",
      "See the caveats in the documentation: http://pandas.pydata.org/pandas-docs/stable/user_guide/indexing.html#returning-a-view-versus-a-copy\n",
      "  self.obj[item] = s\n"
     ]
    }
   ],
   "source": [
    "data_with_imputed_values[['City_Code','Region_Code', 'Upper_Age', 'Lower_Age', 'Health Indicator','Holding_Policy_Duration', 'Holding_Policy_Type', 'Reco_Policy_Cat','Reco_Policy_Premium']]=StandardScaler().fit_transform(data_with_imputed_values[['City_Code','Region_Code', 'Upper_Age', 'Lower_Age', 'Health Indicator','Holding_Policy_Duration', 'Holding_Policy_Type', 'Reco_Policy_Cat','Reco_Policy_Premium']])"
   ]
  },
  {
   "cell_type": "code",
   "execution_count": 565,
   "metadata": {},
   "outputs": [
    {
     "data": {
      "text/html": [
       "<div>\n",
       "<style scoped>\n",
       "    .dataframe tbody tr th:only-of-type {\n",
       "        vertical-align: middle;\n",
       "    }\n",
       "\n",
       "    .dataframe tbody tr th {\n",
       "        vertical-align: top;\n",
       "    }\n",
       "\n",
       "    .dataframe thead th {\n",
       "        text-align: right;\n",
       "    }\n",
       "</style>\n",
       "<table border=\"1\" class=\"dataframe\">\n",
       "  <thead>\n",
       "    <tr style=\"text-align: right;\">\n",
       "      <th></th>\n",
       "      <th>ID</th>\n",
       "      <th>City_Code</th>\n",
       "      <th>Region_Code</th>\n",
       "      <th>Accomodation_Type</th>\n",
       "      <th>Reco_Insurance_Type</th>\n",
       "      <th>Upper_Age</th>\n",
       "      <th>Lower_Age</th>\n",
       "      <th>Is_Spouse</th>\n",
       "      <th>Health Indicator</th>\n",
       "      <th>Holding_Policy_Duration</th>\n",
       "      <th>Holding_Policy_Type</th>\n",
       "      <th>Reco_Policy_Cat</th>\n",
       "      <th>Reco_Policy_Premium</th>\n",
       "      <th>Response</th>\n",
       "    </tr>\n",
       "  </thead>\n",
       "  <tbody>\n",
       "    <tr>\n",
       "      <th>0</th>\n",
       "      <td>1.0</td>\n",
       "      <td>0.571138</td>\n",
       "      <td>1.037601</td>\n",
       "      <td>1.0</td>\n",
       "      <td>0.0</td>\n",
       "      <td>-0.492694</td>\n",
       "      <td>-0.377296</td>\n",
       "      <td>0.0</td>\n",
       "      <td>-1.138848</td>\n",
       "      <td>2.413950</td>\n",
       "      <td>0.710439</td>\n",
       "      <td>1.087812</td>\n",
       "      <td>-0.364394</td>\n",
       "      <td>0.0</td>\n",
       "    </tr>\n",
       "    <tr>\n",
       "      <th>1</th>\n",
       "      <td>2.0</td>\n",
       "      <td>1.312036</td>\n",
       "      <td>-0.433735</td>\n",
       "      <td>0.0</td>\n",
       "      <td>1.0</td>\n",
       "      <td>1.785492</td>\n",
       "      <td>-1.189619</td>\n",
       "      <td>0.0</td>\n",
       "      <td>-0.349516</td>\n",
       "      <td>0.006245</td>\n",
       "      <td>0.004568</td>\n",
       "      <td>1.087812</td>\n",
       "      <td>2.724060</td>\n",
       "      <td>0.0</td>\n",
       "    </tr>\n",
       "    <tr>\n",
       "      <th>2</th>\n",
       "      <td>3.0</td>\n",
       "      <td>1.312036</td>\n",
       "      <td>1.401925</td>\n",
       "      <td>0.0</td>\n",
       "      <td>0.0</td>\n",
       "      <td>-0.726354</td>\n",
       "      <td>-0.609388</td>\n",
       "      <td>0.0</td>\n",
       "      <td>0.001495</td>\n",
       "      <td>-1.397765</td>\n",
       "      <td>-1.807057</td>\n",
       "      <td>0.615071</td>\n",
       "      <td>-1.047773</td>\n",
       "      <td>1.0</td>\n",
       "    </tr>\n",
       "    <tr>\n",
       "      <th>3</th>\n",
       "      <td>4.0</td>\n",
       "      <td>0.077206</td>\n",
       "      <td>1.855399</td>\n",
       "      <td>0.0</td>\n",
       "      <td>1.0</td>\n",
       "      <td>0.441946</td>\n",
       "      <td>0.318980</td>\n",
       "      <td>0.0</td>\n",
       "      <td>-1.138848</td>\n",
       "      <td>2.413950</td>\n",
       "      <td>0.710439</td>\n",
       "      <td>0.615071</td>\n",
       "      <td>0.641865</td>\n",
       "      <td>0.0</td>\n",
       "    </tr>\n",
       "    <tr>\n",
       "      <th>4</th>\n",
       "      <td>5.0</td>\n",
       "      <td>1.559002</td>\n",
       "      <td>0.319482</td>\n",
       "      <td>1.0</td>\n",
       "      <td>0.0</td>\n",
       "      <td>-0.025374</td>\n",
       "      <td>0.086888</td>\n",
       "      <td>0.0</td>\n",
       "      <td>-0.349516</td>\n",
       "      <td>-0.853234</td>\n",
       "      <td>-1.807057</td>\n",
       "      <td>0.142330</td>\n",
       "      <td>-0.564599</td>\n",
       "      <td>0.0</td>\n",
       "    </tr>\n",
       "  </tbody>\n",
       "</table>\n",
       "</div>"
      ],
      "text/plain": [
       "    ID  City_Code  Region_Code Accomodation_Type Reco_Insurance_Type  \\\n",
       "0  1.0   0.571138     1.037601               1.0                 0.0   \n",
       "1  2.0   1.312036    -0.433735               0.0                 1.0   \n",
       "2  3.0   1.312036     1.401925               0.0                 0.0   \n",
       "3  4.0   0.077206     1.855399               0.0                 1.0   \n",
       "4  5.0   1.559002     0.319482               1.0                 0.0   \n",
       "\n",
       "   Upper_Age  Lower_Age Is_Spouse  Health Indicator  Holding_Policy_Duration  \\\n",
       "0  -0.492694  -0.377296       0.0         -1.138848                 2.413950   \n",
       "1   1.785492  -1.189619       0.0         -0.349516                 0.006245   \n",
       "2  -0.726354  -0.609388       0.0          0.001495                -1.397765   \n",
       "3   0.441946   0.318980       0.0         -1.138848                 2.413950   \n",
       "4  -0.025374   0.086888       0.0         -0.349516                -0.853234   \n",
       "\n",
       "   Holding_Policy_Type  Reco_Policy_Cat  Reco_Policy_Premium Response  \n",
       "0             0.710439         1.087812            -0.364394      0.0  \n",
       "1             0.004568         1.087812             2.724060      0.0  \n",
       "2            -1.807057         0.615071            -1.047773      1.0  \n",
       "3             0.710439         0.615071             0.641865      0.0  \n",
       "4            -1.807057         0.142330            -0.564599      0.0  "
      ]
     },
     "execution_count": 565,
     "metadata": {},
     "output_type": "execute_result"
    }
   ],
   "source": [
    "data_with_imputed_values.head()"
   ]
  },
  {
   "cell_type": "code",
   "execution_count": 600,
   "metadata": {},
   "outputs": [
    {
     "name": "stderr",
     "output_type": "stream",
     "text": [
      "C:\\Python\\lib\\site-packages\\pandas\\core\\frame.py:4117: SettingWithCopyWarning: \n",
      "A value is trying to be set on a copy of a slice from a DataFrame\n",
      "\n",
      "See the caveats in the documentation: http://pandas.pydata.org/pandas-docs/stable/user_guide/indexing.html#returning-a-view-versus-a-copy\n",
      "  errors=errors,\n"
     ]
    }
   ],
   "source": [
    "X=data_with_imputed_values.loc[:, data_with_imputed_values.columns != 'ID']\n",
    "y=data_with_imputed_values['Response']\n",
    "X.drop(columns=['Response'],inplace=True)"
   ]
  },
  {
   "cell_type": "code",
   "execution_count": 601,
   "metadata": {},
   "outputs": [],
   "source": [
    "X=X[['City_Code', 'Region_Code', 'Upper_Age', 'Lower_Age','Health Indicator', 'Holding_Policy_Duration', 'Reco_Policy_Cat','Reco_Policy_Premium','Holding_Policy_Type','Reco_Insurance_Type','Is_Spouse']]"
   ]
  },
  {
   "cell_type": "code",
   "execution_count": 602,
   "metadata": {},
   "outputs": [],
   "source": [
    "X_train, X_test, y_train, y_test = train_test_split(X,y, test_size=0.001, random_state=100)"
   ]
  },
  {
   "cell_type": "code",
   "execution_count": 599,
   "metadata": {},
   "outputs": [
    {
     "data": {
      "text/plain": [
       "Index(['City_Code', 'Region_Code', 'Accomodation_Type', 'Reco_Insurance_Type',\n",
       "       'Upper_Age', 'Lower_Age', 'Is_Spouse', 'Health Indicator',\n",
       "       'Holding_Policy_Duration', 'Holding_Policy_Type', 'Reco_Policy_Cat',\n",
       "       'Reco_Policy_Premium'],\n",
       "      dtype='object')"
      ]
     },
     "execution_count": 599,
     "metadata": {},
     "output_type": "execute_result"
    }
   ],
   "source": [
    "X_train.columns"
   ]
  },
  {
   "cell_type": "code",
   "execution_count": 603,
   "metadata": {},
   "outputs": [],
   "source": [
    "encoder = preprocessing.LabelEncoder()\n",
    "train_y = encoder.fit_transform(y_train)\n",
    "test_y = encoder.fit_transform(y_test)"
   ]
  },
  {
   "cell_type": "code",
   "execution_count": 604,
   "metadata": {},
   "outputs": [],
   "source": [
    "from imblearn.pipeline import make_pipeline\n",
    "from imblearn.combine import SMOTEENN\n",
    "smote = SMOTE(k_neighbors=5, n_jobs=-1,random_state=777)\n",
    "smote_enn = make_pipeline(SimpleImputer(), SMOTEENN(smote=smote))\n",
    "sm_xtrain, sm_ytrain = smote_enn.fit_resample(X, y)"
   ]
  },
  {
   "cell_type": "code",
   "execution_count": 286,
   "metadata": {},
   "outputs": [],
   "source": [
    "from sklearn.feature_selection import SelectFromModel"
   ]
  },
  {
   "cell_type": "markdown",
   "metadata": {},
   "source": [
    "# RANDOM FOREST"
   ]
  },
  {
   "cell_type": "code",
   "execution_count": 287,
   "metadata": {},
   "outputs": [
    {
     "data": {
      "text/plain": [
       "SelectFromModel(estimator=RandomForestClassifier(bootstrap=True, ccp_alpha=0.0,\n",
       "                                                 class_weight='balanced',\n",
       "                                                 criterion='gini',\n",
       "                                                 max_depth=None,\n",
       "                                                 max_features='auto',\n",
       "                                                 max_leaf_nodes=None,\n",
       "                                                 max_samples=None,\n",
       "                                                 min_impurity_decrease=0.0,\n",
       "                                                 min_impurity_split=None,\n",
       "                                                 min_samples_leaf=1,\n",
       "                                                 min_samples_split=2,\n",
       "                                                 min_weight_fraction_leaf=0.0,\n",
       "                                                 n_estimators=500, n_jobs=None,\n",
       "                                                 oob_score=False,\n",
       "                                                 random_state=None, verbose=0,\n",
       "                                                 warm_start=False),\n",
       "                max_features=None, norm_order=1, prefit=False, threshold=None)"
      ]
     },
     "execution_count": 287,
     "metadata": {},
     "output_type": "execute_result"
    }
   ],
   "source": [
    "from sklearn.ensemble import RandomForestClassifier\n",
    "rndmf = SelectFromModel(RandomForestClassifier(n_estimators=500,class_weight='balanced'))\n",
    "rndmf.fit(sm_xtrain, sm_ytrain)"
   ]
  },
  {
   "cell_type": "code",
   "execution_count": 288,
   "metadata": {},
   "outputs": [
    {
     "name": "stdout",
     "output_type": "stream",
     "text": [
      "Index(['City_Code', 'Region_Code', 'Reco_Policy_Cat', 'Reco_Policy_Premium'], dtype='object')\n"
     ]
    }
   ],
   "source": [
    "selected_feat= X_train.columns[(rndmf.get_support())]\n",
    "print(selected_feat)"
   ]
  },
  {
   "cell_type": "code",
   "execution_count": 289,
   "metadata": {},
   "outputs": [
    {
     "name": "stdout",
     "output_type": "stream",
     "text": [
      "0.7545191251373214\n"
     ]
    }
   ],
   "source": [
    "from sklearn.ensemble import RandomForestClassifier\n",
    "rndmf = RandomForestClassifier(n_estimators=500,class_weight='balanced')\n",
    "rndmf.fit(sm_xtrain, sm_ytrain)\n",
    "y_pred1 = rndmf.predict(X_test)\n",
    "accuracy_rndmf = metrics.accuracy_score(test_y,y_pred1)\n",
    "print(accuracy_rndmf)"
   ]
  },
  {
   "cell_type": "code",
   "execution_count": 674,
   "metadata": {},
   "outputs": [
    {
     "data": {
      "text/plain": [
       "Index(['City_Code', 'Region_Code', 'Upper_Age', 'Lower_Age',\n",
       "       'Health Indicator', 'Holding_Policy_Duration', 'Reco_Policy_Cat',\n",
       "       'Reco_Policy_Premium', 'Holding_Policy_Type', 'Reco_Insurance_Type',\n",
       "       'Is_Spouse'],\n",
       "      dtype='object')"
      ]
     },
     "execution_count": 674,
     "metadata": {},
     "output_type": "execute_result"
    }
   ],
   "source": [
    "X_train.columns"
   ]
  },
  {
   "cell_type": "code",
   "execution_count": 293,
   "metadata": {},
   "outputs": [
    {
     "name": "stdout",
     "output_type": "stream",
     "text": [
      "Fitting 3 folds for each of 500 candidates, totalling 1500 fits\n"
     ]
    },
    {
     "name": "stderr",
     "output_type": "stream",
     "text": [
      "[Parallel(n_jobs=-1)]: Using backend LokyBackend with 12 concurrent workers.\n",
      "[Parallel(n_jobs=-1)]: Done  26 tasks      | elapsed:  1.7min\n",
      "[Parallel(n_jobs=-1)]: Done 176 tasks      | elapsed:  9.2min\n",
      "[Parallel(n_jobs=-1)]: Done 426 tasks      | elapsed: 24.5min\n",
      "[Parallel(n_jobs=-1)]: Done 776 tasks      | elapsed: 57.4min\n",
      "[Parallel(n_jobs=-1)]: Done 1226 tasks      | elapsed: 117.7min\n",
      "[Parallel(n_jobs=-1)]: Done 1500 out of 1500 | elapsed: 157.6min finished\n"
     ]
    }
   ],
   "source": [
    "rndmf = RandomForestClassifier(n_estimators=500,class_weight='balanced')\n",
    "n_estimators = [100, 300, 500, 800, 1200]\n",
    "max_depth = [5, 8, 15, 25, 30]\n",
    "min_samples_split = [2, 5, 10, 15, 100]\n",
    "min_samples_leaf = [1, 2, 5, 10] \n",
    "\n",
    "hyperF = dict(n_estimators = n_estimators, max_depth = max_depth,  \n",
    "              min_samples_split = min_samples_split, \n",
    "             min_samples_leaf = min_samples_leaf)\n",
    "\n",
    "gridF = GridSearchCV(rndmf, hyperF, cv = 3, verbose = 1, \n",
    "                      n_jobs = -1)\n",
    "bestF = gridF.fit(sm_xtrain, sm_ytrain)\n"
   ]
  },
  {
   "cell_type": "code",
   "execution_count": null,
   "metadata": {},
   "outputs": [],
   "source": [
    "# Results from Grid Search\n",
    "print(\" Results from Grid Search \" )\n",
    "print(\"\\n The best estimator across ALL searched params:\\n\",bestF.best_estimator_)\n",
    "print(\"\\n The best score across ALL searched params:\\n\",bestF.best_score_)\n",
    "print(\"\\n The best parameters across ALL searched params:\\n\",bestF.best_params_)"
   ]
  },
  {
   "cell_type": "code",
   "execution_count": 605,
   "metadata": {},
   "outputs": [],
   "source": [
    "RF_model= RandomForestClassifier(bootstrap=True, ccp_alpha=0.0, class_weight='balanced',\n",
    "                       criterion='gini', max_depth=30, max_features='auto',\n",
    "                       max_leaf_nodes=None, max_samples=None,\n",
    "                       min_impurity_decrease=0.0, min_impurity_split=None,\n",
    "                       min_samples_leaf=1, min_samples_split=2,\n",
    "                       min_weight_fraction_leaf=0.0, n_estimators=500,\n",
    "                       n_jobs=None, oob_score=False, random_state=None,\n",
    "                       verbose=0, warm_start=False)"
   ]
  },
  {
   "cell_type": "code",
   "execution_count": 588,
   "metadata": {},
   "outputs": [
    {
     "data": {
      "text/plain": [
       "(50010, 12)"
      ]
     },
     "execution_count": 588,
     "metadata": {},
     "output_type": "execute_result"
    }
   ],
   "source": [
    "X_train.shape"
   ]
  },
  {
   "cell_type": "code",
   "execution_count": 606,
   "metadata": {},
   "outputs": [],
   "source": [
    "RF_model=RF_model.fit(sm_xtrain, sm_ytrain)"
   ]
  },
  {
   "cell_type": "code",
   "execution_count": 610,
   "metadata": {},
   "outputs": [
    {
     "data": {
      "text/plain": [
       "(50010, 11)"
      ]
     },
     "execution_count": 610,
     "metadata": {},
     "output_type": "execute_result"
    }
   ],
   "source": [
    "X_train.shape"
   ]
  },
  {
   "cell_type": "code",
   "execution_count": 294,
   "metadata": {},
   "outputs": [
    {
     "name": "stdout",
     "output_type": "stream",
     "text": [
      " Results from Grid Search \n",
      "\n",
      " The best estimator across ALL searched params:\n",
      " RandomForestClassifier(bootstrap=True, ccp_alpha=0.0, class_weight='balanced',\n",
      "                       criterion='gini', max_depth=30, max_features='auto',\n",
      "                       max_leaf_nodes=None, max_samples=None,\n",
      "                       min_impurity_decrease=0.0, min_impurity_split=None,\n",
      "                       min_samples_leaf=1, min_samples_split=2,\n",
      "                       min_weight_fraction_leaf=0.0, n_estimators=500,\n",
      "                       n_jobs=None, oob_score=False, random_state=None,\n",
      "                       verbose=0, warm_start=False)\n",
      "\n",
      " The best score across ALL searched params:\n",
      " 0.837041945489787\n",
      "\n",
      " The best parameters across ALL searched params:\n",
      " {'max_depth': 30, 'min_samples_leaf': 1, 'min_samples_split': 2, 'n_estimators': 500}\n"
     ]
    }
   ],
   "source": [
    "# Results from Grid Search\n",
    "print(\" Results from Grid Search \" )\n",
    "print(\"\\n The best estimator across ALL searched params:\\n\",bestF.best_estimator_)\n",
    "print(\"\\n The best score across ALL searched params:\\n\",bestF.best_score_)\n",
    "print(\"\\n The best parameters across ALL searched params:\\n\",bestF.best_params_)"
   ]
  },
  {
   "cell_type": "code",
   "execution_count": 663,
   "metadata": {},
   "outputs": [
    {
     "data": {
      "text/plain": [
       "11"
      ]
     },
     "execution_count": 663,
     "metadata": {},
     "output_type": "execute_result"
    }
   ],
   "source": [
    "len(X_train.columns)"
   ]
  },
  {
   "cell_type": "code",
   "execution_count": 607,
   "metadata": {},
   "outputs": [],
   "source": [
    "y_pred1=RF_model.predict(X_test)"
   ]
  },
  {
   "cell_type": "code",
   "execution_count": 608,
   "metadata": {},
   "outputs": [],
   "source": [
    "y_pred1_proba=RF_model.predict_proba(X_test)"
   ]
  },
  {
   "cell_type": "code",
   "execution_count": 673,
   "metadata": {},
   "outputs": [
    {
     "data": {
      "text/plain": [
       "0.8299595141700407"
      ]
     },
     "execution_count": 673,
     "metadata": {},
     "output_type": "execute_result"
    }
   ],
   "source": [
    "from sklearn.metrics import roc_auc_score\n",
    "roc_auc_score(test_y, y_pred1)"
   ]
  },
  {
   "cell_type": "code",
   "execution_count": 576,
   "metadata": {},
   "outputs": [
    {
     "data": {
      "text/plain": [
       "0.8299595141700407"
      ]
     },
     "execution_count": 576,
     "metadata": {},
     "output_type": "execute_result"
    }
   ],
   "source": [
    "from sklearn.metrics import roc_auc_score\n",
    "roc_auc_score(test_y, y_pred1)"
   ]
  },
  {
   "cell_type": "code",
   "execution_count": 544,
   "metadata": {},
   "outputs": [
    {
     "data": {
      "text/plain": [
       "0.8168016194331984"
      ]
     },
     "execution_count": 544,
     "metadata": {},
     "output_type": "execute_result"
    }
   ],
   "source": [
    "from sklearn.metrics import roc_auc_score\n",
    "roc_auc_score(test_y, y_pred1)"
   ]
  },
  {
   "cell_type": "code",
   "execution_count": null,
   "metadata": {},
   "outputs": [],
   "source": [
    "y"
   ]
  },
  {
   "cell_type": "code",
   "execution_count": 545,
   "metadata": {},
   "outputs": [
    {
     "name": "stdout",
     "output_type": "stream",
     "text": [
      "              precision    recall  f1-score   support\n",
      "\n",
      "           0       0.96      0.71      0.82        38\n",
      "           1       0.52      0.92      0.67        13\n",
      "\n",
      "    accuracy                           0.76        51\n",
      "   macro avg       0.74      0.82      0.74        51\n",
      "weighted avg       0.85      0.76      0.78        51\n",
      "\n"
     ]
    }
   ],
   "source": [
    "report = classification_report(test_y,y_pred1)\n",
    "print(report)"
   ]
  },
  {
   "cell_type": "code",
   "execution_count": 291,
   "metadata": {},
   "outputs": [
    {
     "name": "stdout",
     "output_type": "stream",
     "text": [
      "              precision    recall  f1-score   support\n",
      "\n",
      "           0       0.93      0.73      0.82      7575\n",
      "           1       0.50      0.83      0.62      2438\n",
      "\n",
      "    accuracy                           0.75     10013\n",
      "   macro avg       0.71      0.78      0.72     10013\n",
      "weighted avg       0.82      0.75      0.77     10013\n",
      "\n"
     ]
    }
   ],
   "source": [
    "report = classification_report(test_y,y_pred1)\n",
    "print(report)"
   ]
  },
  {
   "cell_type": "code",
   "execution_count": 636,
   "metadata": {},
   "outputs": [
    {
     "name": "stdout",
     "output_type": "stream",
     "text": [
      "[[28 10]\n",
      " [ 1 12]]\n"
     ]
    }
   ],
   "source": [
    "Conf_metrics_sm_rndm = metrics.confusion_matrix(test_y, y_pred1,labels=[0,1])\n",
    "print(Conf_metrics_sm_rndm)"
   ]
  },
  {
   "cell_type": "code",
   "execution_count": 503,
   "metadata": {},
   "outputs": [
    {
     "data": {
      "text/plain": [
       "0.0    7575\n",
       "1.0    2438\n",
       "Name: Response, dtype: int64"
      ]
     },
     "execution_count": 503,
     "metadata": {},
     "output_type": "execute_result"
    }
   ],
   "source": [
    "y_test.value_counts()"
   ]
  },
  {
   "cell_type": "markdown",
   "metadata": {},
   "source": [
    "# CATBOOST"
   ]
  },
  {
   "cell_type": "code",
   "execution_count": 371,
   "metadata": {
    "scrolled": false
   },
   "outputs": [],
   "source": [
    "# from catboost import CatBoostClassifier\n",
    "# CatBoost=CatBoostClassifier() \n",
    "# CatBoost.fit(sm_xtrain, sm_ytrain)\n",
    "# y_pred2 = CatBoost.predict(X_test)\n",
    "# accuracy_rndmf = metrics.accuracy_score(test_y,y_pred1)\n",
    "# print(accuracy_rndmf)"
   ]
  },
  {
   "cell_type": "code",
   "execution_count": 631,
   "metadata": {},
   "outputs": [
    {
     "data": {
      "text/plain": [
       "City_Code                   float64\n",
       "Region_Code                 float64\n",
       "Upper_Age                   float64\n",
       "Lower_Age                   float64\n",
       "Health Indicator            float64\n",
       "Holding_Policy_Duration     float64\n",
       "Reco_Policy_Cat             float64\n",
       "Reco_Policy_Premium         float64\n",
       "Holding_Policy_Type         float64\n",
       "Reco_Insurance_Type        category\n",
       "Is_Spouse                  category\n",
       "dtype: object"
      ]
     },
     "execution_count": 631,
     "metadata": {},
     "output_type": "execute_result"
    }
   ],
   "source": [
    "X_test.dtypes"
   ]
  },
  {
   "cell_type": "code",
   "execution_count": 372,
   "metadata": {},
   "outputs": [
    {
     "name": "stdout",
     "output_type": "stream",
     "text": [
      "0:\tlearn: 0.6900704\ttotal: 94ms\tremaining: 18.7s\n",
      "1:\tlearn: 0.6856481\ttotal: 187ms\tremaining: 18.5s\n",
      "2:\tlearn: 0.6829497\ttotal: 291ms\tremaining: 19.1s\n",
      "3:\tlearn: 0.6803422\ttotal: 391ms\tremaining: 19.2s\n",
      "4:\tlearn: 0.6768964\ttotal: 489ms\tremaining: 19.1s\n",
      "5:\tlearn: 0.6724522\ttotal: 613ms\tremaining: 19.8s\n",
      "6:\tlearn: 0.6693641\ttotal: 745ms\tremaining: 20.6s\n",
      "7:\tlearn: 0.6670179\ttotal: 865ms\tremaining: 20.8s\n",
      "8:\tlearn: 0.6643795\ttotal: 967ms\tremaining: 20.5s\n",
      "9:\tlearn: 0.6609727\ttotal: 1.07s\tremaining: 20.3s\n",
      "10:\tlearn: 0.6578679\ttotal: 1.15s\tremaining: 19.7s\n",
      "11:\tlearn: 0.6558136\ttotal: 1.23s\tremaining: 19.2s\n",
      "12:\tlearn: 0.6535211\ttotal: 1.34s\tremaining: 19.3s\n",
      "13:\tlearn: 0.6508562\ttotal: 1.47s\tremaining: 19.5s\n",
      "14:\tlearn: 0.6487476\ttotal: 1.62s\tremaining: 20s\n",
      "15:\tlearn: 0.6465129\ttotal: 1.79s\tremaining: 20.6s\n",
      "16:\tlearn: 0.6441299\ttotal: 1.91s\tremaining: 20.5s\n",
      "17:\tlearn: 0.6409680\ttotal: 2.02s\tremaining: 20.4s\n",
      "18:\tlearn: 0.6390923\ttotal: 2.12s\tremaining: 20.2s\n",
      "19:\tlearn: 0.6368433\ttotal: 2.21s\tremaining: 19.9s\n",
      "20:\tlearn: 0.6349277\ttotal: 2.29s\tremaining: 19.6s\n",
      "21:\tlearn: 0.6331118\ttotal: 2.4s\tremaining: 19.4s\n",
      "22:\tlearn: 0.6313539\ttotal: 2.51s\tremaining: 19.3s\n",
      "23:\tlearn: 0.6295728\ttotal: 2.63s\tremaining: 19.3s\n",
      "24:\tlearn: 0.6277531\ttotal: 2.73s\tremaining: 19.1s\n",
      "25:\tlearn: 0.6261414\ttotal: 2.88s\tremaining: 19.3s\n",
      "26:\tlearn: 0.6239846\ttotal: 3s\tremaining: 19.2s\n",
      "27:\tlearn: 0.6221179\ttotal: 3.11s\tremaining: 19.1s\n",
      "28:\tlearn: 0.6204180\ttotal: 3.23s\tremaining: 19s\n",
      "29:\tlearn: 0.6189544\ttotal: 3.34s\tremaining: 18.9s\n",
      "30:\tlearn: 0.6173314\ttotal: 3.44s\tremaining: 18.8s\n",
      "31:\tlearn: 0.6156905\ttotal: 3.55s\tremaining: 18.7s\n",
      "32:\tlearn: 0.6139340\ttotal: 3.67s\tremaining: 18.6s\n",
      "33:\tlearn: 0.6112481\ttotal: 3.86s\tremaining: 18.8s\n",
      "34:\tlearn: 0.6097437\ttotal: 4.06s\tremaining: 19.2s\n",
      "35:\tlearn: 0.6083416\ttotal: 4.24s\tremaining: 19.3s\n",
      "36:\tlearn: 0.6050861\ttotal: 4.38s\tremaining: 19.3s\n",
      "37:\tlearn: 0.6036352\ttotal: 4.53s\tremaining: 19.3s\n",
      "38:\tlearn: 0.6020371\ttotal: 4.66s\tremaining: 19.2s\n",
      "39:\tlearn: 0.6005440\ttotal: 4.84s\tremaining: 19.3s\n",
      "40:\tlearn: 0.5990574\ttotal: 5s\tremaining: 19.4s\n",
      "41:\tlearn: 0.5978161\ttotal: 5.19s\tremaining: 19.5s\n",
      "42:\tlearn: 0.5963171\ttotal: 5.31s\tremaining: 19.4s\n",
      "43:\tlearn: 0.5950009\ttotal: 5.46s\tremaining: 19.4s\n",
      "44:\tlearn: 0.5936085\ttotal: 5.63s\tremaining: 19.4s\n",
      "45:\tlearn: 0.5911286\ttotal: 5.79s\tremaining: 19.4s\n",
      "46:\tlearn: 0.5888238\ttotal: 5.91s\tremaining: 19.3s\n",
      "47:\tlearn: 0.5870497\ttotal: 6.08s\tremaining: 19.2s\n",
      "48:\tlearn: 0.5853751\ttotal: 6.21s\tremaining: 19.1s\n",
      "49:\tlearn: 0.5835391\ttotal: 6.34s\tremaining: 19s\n",
      "50:\tlearn: 0.5822924\ttotal: 6.47s\tremaining: 18.9s\n",
      "51:\tlearn: 0.5809709\ttotal: 6.62s\tremaining: 18.8s\n",
      "52:\tlearn: 0.5800951\ttotal: 6.75s\tremaining: 18.7s\n",
      "53:\tlearn: 0.5787522\ttotal: 6.86s\tremaining: 18.5s\n",
      "54:\tlearn: 0.5767153\ttotal: 6.95s\tremaining: 18.3s\n",
      "55:\tlearn: 0.5757764\ttotal: 7.04s\tremaining: 18.1s\n",
      "56:\tlearn: 0.5742211\ttotal: 7.12s\tremaining: 17.9s\n",
      "57:\tlearn: 0.5731933\ttotal: 7.22s\tremaining: 17.7s\n",
      "58:\tlearn: 0.5721320\ttotal: 7.39s\tremaining: 17.7s\n",
      "59:\tlearn: 0.5710963\ttotal: 7.55s\tremaining: 17.6s\n",
      "60:\tlearn: 0.5687696\ttotal: 7.69s\tremaining: 17.5s\n",
      "61:\tlearn: 0.5668454\ttotal: 7.78s\tremaining: 17.3s\n",
      "62:\tlearn: 0.5650819\ttotal: 7.93s\tremaining: 17.3s\n",
      "63:\tlearn: 0.5633265\ttotal: 8.07s\tremaining: 17.2s\n",
      "64:\tlearn: 0.5624044\ttotal: 8.24s\tremaining: 17.1s\n",
      "65:\tlearn: 0.5608386\ttotal: 8.42s\tremaining: 17.1s\n",
      "66:\tlearn: 0.5595330\ttotal: 8.57s\tremaining: 17s\n",
      "67:\tlearn: 0.5583683\ttotal: 8.72s\tremaining: 16.9s\n",
      "68:\tlearn: 0.5567669\ttotal: 8.88s\tremaining: 16.9s\n",
      "69:\tlearn: 0.5542949\ttotal: 9.03s\tremaining: 16.8s\n",
      "70:\tlearn: 0.5532030\ttotal: 9.18s\tremaining: 16.7s\n",
      "71:\tlearn: 0.5521728\ttotal: 9.28s\tremaining: 16.5s\n",
      "72:\tlearn: 0.5503263\ttotal: 9.39s\tremaining: 16.3s\n",
      "73:\tlearn: 0.5490226\ttotal: 9.47s\tremaining: 16.1s\n",
      "74:\tlearn: 0.5479504\ttotal: 9.55s\tremaining: 15.9s\n",
      "75:\tlearn: 0.5459934\ttotal: 9.63s\tremaining: 15.7s\n",
      "76:\tlearn: 0.5447322\ttotal: 9.71s\tremaining: 15.5s\n",
      "77:\tlearn: 0.5434834\ttotal: 9.79s\tremaining: 15.3s\n",
      "78:\tlearn: 0.5426423\ttotal: 9.88s\tremaining: 15.1s\n",
      "79:\tlearn: 0.5416140\ttotal: 9.97s\tremaining: 14.9s\n",
      "80:\tlearn: 0.5403596\ttotal: 10.1s\tremaining: 14.8s\n",
      "81:\tlearn: 0.5383695\ttotal: 10.2s\tremaining: 14.6s\n",
      "82:\tlearn: 0.5366344\ttotal: 10.3s\tremaining: 14.5s\n",
      "83:\tlearn: 0.5358595\ttotal: 10.4s\tremaining: 14.3s\n",
      "84:\tlearn: 0.5347068\ttotal: 10.4s\tremaining: 14.1s\n",
      "85:\tlearn: 0.5341103\ttotal: 10.5s\tremaining: 14s\n",
      "86:\tlearn: 0.5320139\ttotal: 10.6s\tremaining: 13.8s\n",
      "87:\tlearn: 0.5310872\ttotal: 10.8s\tremaining: 13.7s\n",
      "88:\tlearn: 0.5302590\ttotal: 10.8s\tremaining: 13.5s\n",
      "89:\tlearn: 0.5292449\ttotal: 11s\tremaining: 13.4s\n",
      "90:\tlearn: 0.5275979\ttotal: 11.1s\tremaining: 13.2s\n",
      "91:\tlearn: 0.5264109\ttotal: 11.2s\tremaining: 13.1s\n",
      "92:\tlearn: 0.5252138\ttotal: 11.3s\tremaining: 12.9s\n",
      "93:\tlearn: 0.5241903\ttotal: 11.4s\tremaining: 12.8s\n",
      "94:\tlearn: 0.5234749\ttotal: 11.4s\tremaining: 12.7s\n",
      "95:\tlearn: 0.5221507\ttotal: 11.6s\tremaining: 12.5s\n",
      "96:\tlearn: 0.5215273\ttotal: 11.6s\tremaining: 12.4s\n",
      "97:\tlearn: 0.5205749\ttotal: 11.7s\tremaining: 12.2s\n",
      "98:\tlearn: 0.5192854\ttotal: 11.8s\tremaining: 12.1s\n",
      "99:\tlearn: 0.5185107\ttotal: 12s\tremaining: 12s\n",
      "100:\tlearn: 0.5174224\ttotal: 12.1s\tremaining: 11.9s\n",
      "101:\tlearn: 0.5167552\ttotal: 12.2s\tremaining: 11.7s\n",
      "102:\tlearn: 0.5156521\ttotal: 12.3s\tremaining: 11.6s\n",
      "103:\tlearn: 0.5138714\ttotal: 12.4s\tremaining: 11.5s\n",
      "104:\tlearn: 0.5132490\ttotal: 12.5s\tremaining: 11.3s\n",
      "105:\tlearn: 0.5123237\ttotal: 12.6s\tremaining: 11.2s\n",
      "106:\tlearn: 0.5110807\ttotal: 12.7s\tremaining: 11s\n",
      "107:\tlearn: 0.5104216\ttotal: 12.8s\tremaining: 10.9s\n",
      "108:\tlearn: 0.5095177\ttotal: 12.9s\tremaining: 10.8s\n",
      "109:\tlearn: 0.5090473\ttotal: 13s\tremaining: 10.6s\n",
      "110:\tlearn: 0.5080671\ttotal: 13.1s\tremaining: 10.5s\n",
      "111:\tlearn: 0.5075480\ttotal: 13.1s\tremaining: 10.3s\n",
      "112:\tlearn: 0.5067270\ttotal: 13.2s\tremaining: 10.2s\n",
      "113:\tlearn: 0.5061719\ttotal: 13.3s\tremaining: 10s\n",
      "114:\tlearn: 0.5050788\ttotal: 13.4s\tremaining: 9.91s\n",
      "115:\tlearn: 0.5046492\ttotal: 13.5s\tremaining: 9.79s\n",
      "116:\tlearn: 0.5040427\ttotal: 13.6s\tremaining: 9.66s\n",
      "117:\tlearn: 0.5035896\ttotal: 13.7s\tremaining: 9.52s\n",
      "118:\tlearn: 0.5020773\ttotal: 13.8s\tremaining: 9.39s\n",
      "119:\tlearn: 0.5010240\ttotal: 13.9s\tremaining: 9.27s\n",
      "120:\tlearn: 0.5004491\ttotal: 14s\tremaining: 9.16s\n",
      "121:\tlearn: 0.4996265\ttotal: 14.2s\tremaining: 9.05s\n",
      "122:\tlearn: 0.4991853\ttotal: 14.3s\tremaining: 8.94s\n",
      "123:\tlearn: 0.4987724\ttotal: 14.4s\tremaining: 8.81s\n",
      "124:\tlearn: 0.4978549\ttotal: 14.5s\tremaining: 8.67s\n",
      "125:\tlearn: 0.4972101\ttotal: 14.6s\tremaining: 8.55s\n",
      "126:\tlearn: 0.4966023\ttotal: 14.7s\tremaining: 8.43s\n",
      "127:\tlearn: 0.4961514\ttotal: 14.8s\tremaining: 8.31s\n",
      "128:\tlearn: 0.4954678\ttotal: 14.9s\tremaining: 8.18s\n",
      "129:\tlearn: 0.4943517\ttotal: 15s\tremaining: 8.06s\n",
      "130:\tlearn: 0.4938137\ttotal: 15.1s\tremaining: 7.93s\n",
      "131:\tlearn: 0.4926169\ttotal: 15.1s\tremaining: 7.8s\n",
      "132:\tlearn: 0.4915295\ttotal: 15.2s\tremaining: 7.67s\n",
      "133:\tlearn: 0.4905342\ttotal: 15.3s\tremaining: 7.54s\n",
      "134:\tlearn: 0.4896434\ttotal: 15.4s\tremaining: 7.42s\n",
      "135:\tlearn: 0.4891187\ttotal: 15.5s\tremaining: 7.29s\n",
      "136:\tlearn: 0.4884339\ttotal: 15.6s\tremaining: 7.18s\n",
      "137:\tlearn: 0.4878590\ttotal: 15.8s\tremaining: 7.11s\n",
      "138:\tlearn: 0.4872364\ttotal: 16s\tremaining: 7.01s\n",
      "139:\tlearn: 0.4864557\ttotal: 16.1s\tremaining: 6.91s\n",
      "140:\tlearn: 0.4855884\ttotal: 16.2s\tremaining: 6.8s\n",
      "141:\tlearn: 0.4851724\ttotal: 16.4s\tremaining: 6.7s\n",
      "142:\tlearn: 0.4847667\ttotal: 16.5s\tremaining: 6.59s\n",
      "143:\tlearn: 0.4838750\ttotal: 16.7s\tremaining: 6.5s\n",
      "144:\tlearn: 0.4835794\ttotal: 16.9s\tremaining: 6.39s\n",
      "145:\tlearn: 0.4829431\ttotal: 17s\tremaining: 6.29s\n",
      "146:\tlearn: 0.4823002\ttotal: 17.1s\tremaining: 6.17s\n",
      "147:\tlearn: 0.4813568\ttotal: 17.3s\tremaining: 6.08s\n",
      "148:\tlearn: 0.4806947\ttotal: 17.4s\tremaining: 5.97s\n",
      "149:\tlearn: 0.4801628\ttotal: 17.6s\tremaining: 5.86s\n",
      "150:\tlearn: 0.4797996\ttotal: 17.7s\tremaining: 5.75s\n",
      "151:\tlearn: 0.4793554\ttotal: 17.8s\tremaining: 5.63s\n",
      "152:\tlearn: 0.4787208\ttotal: 17.9s\tremaining: 5.51s\n",
      "153:\tlearn: 0.4779625\ttotal: 18s\tremaining: 5.38s\n",
      "154:\tlearn: 0.4772786\ttotal: 18.1s\tremaining: 5.25s\n",
      "155:\tlearn: 0.4764947\ttotal: 18.2s\tremaining: 5.13s\n",
      "156:\tlearn: 0.4750237\ttotal: 18.3s\tremaining: 5.02s\n",
      "157:\tlearn: 0.4741943\ttotal: 18.5s\tremaining: 4.91s\n",
      "158:\tlearn: 0.4736705\ttotal: 18.6s\tremaining: 4.81s\n",
      "159:\tlearn: 0.4731801\ttotal: 18.8s\tremaining: 4.7s\n",
      "160:\tlearn: 0.4725817\ttotal: 18.9s\tremaining: 4.58s\n",
      "161:\tlearn: 0.4717643\ttotal: 19s\tremaining: 4.46s\n"
     ]
    },
    {
     "name": "stdout",
     "output_type": "stream",
     "text": [
      "162:\tlearn: 0.4713270\ttotal: 19.2s\tremaining: 4.35s\n",
      "163:\tlearn: 0.4704265\ttotal: 19.3s\tremaining: 4.24s\n",
      "164:\tlearn: 0.4698468\ttotal: 19.4s\tremaining: 4.12s\n",
      "165:\tlearn: 0.4683459\ttotal: 19.5s\tremaining: 4s\n",
      "166:\tlearn: 0.4677760\ttotal: 19.7s\tremaining: 3.89s\n",
      "167:\tlearn: 0.4673303\ttotal: 19.8s\tremaining: 3.78s\n",
      "168:\tlearn: 0.4667771\ttotal: 20s\tremaining: 3.67s\n",
      "169:\tlearn: 0.4660470\ttotal: 20.2s\tremaining: 3.56s\n",
      "170:\tlearn: 0.4654438\ttotal: 20.3s\tremaining: 3.44s\n",
      "171:\tlearn: 0.4649362\ttotal: 20.5s\tremaining: 3.33s\n",
      "172:\tlearn: 0.4644344\ttotal: 20.6s\tremaining: 3.21s\n",
      "173:\tlearn: 0.4640110\ttotal: 20.7s\tremaining: 3.09s\n",
      "174:\tlearn: 0.4631463\ttotal: 20.7s\tremaining: 2.96s\n",
      "175:\tlearn: 0.4628863\ttotal: 20.8s\tremaining: 2.84s\n",
      "176:\tlearn: 0.4622682\ttotal: 20.9s\tremaining: 2.72s\n",
      "177:\tlearn: 0.4618930\ttotal: 21s\tremaining: 2.6s\n",
      "178:\tlearn: 0.4614484\ttotal: 21.1s\tremaining: 2.48s\n",
      "179:\tlearn: 0.4608714\ttotal: 21.2s\tremaining: 2.36s\n",
      "180:\tlearn: 0.4605600\ttotal: 21.3s\tremaining: 2.24s\n",
      "181:\tlearn: 0.4595065\ttotal: 21.5s\tremaining: 2.13s\n",
      "182:\tlearn: 0.4589219\ttotal: 21.6s\tremaining: 2.01s\n",
      "183:\tlearn: 0.4586312\ttotal: 21.7s\tremaining: 1.89s\n",
      "184:\tlearn: 0.4580545\ttotal: 21.8s\tremaining: 1.77s\n",
      "185:\tlearn: 0.4577927\ttotal: 21.9s\tremaining: 1.65s\n",
      "186:\tlearn: 0.4575734\ttotal: 22s\tremaining: 1.53s\n",
      "187:\tlearn: 0.4569018\ttotal: 22.1s\tremaining: 1.41s\n",
      "188:\tlearn: 0.4566798\ttotal: 22.1s\tremaining: 1.29s\n",
      "189:\tlearn: 0.4562248\ttotal: 22.2s\tremaining: 1.17s\n",
      "190:\tlearn: 0.4557927\ttotal: 22.4s\tremaining: 1.05s\n",
      "191:\tlearn: 0.4551840\ttotal: 22.5s\tremaining: 940ms\n",
      "192:\tlearn: 0.4547478\ttotal: 22.7s\tremaining: 824ms\n",
      "193:\tlearn: 0.4545131\ttotal: 22.8s\tremaining: 706ms\n",
      "194:\tlearn: 0.4539925\ttotal: 22.9s\tremaining: 588ms\n",
      "195:\tlearn: 0.4534283\ttotal: 23s\tremaining: 470ms\n",
      "196:\tlearn: 0.4530318\ttotal: 23.1s\tremaining: 353ms\n",
      "197:\tlearn: 0.4521356\ttotal: 23.3s\tremaining: 236ms\n",
      "198:\tlearn: 0.4517697\ttotal: 23.5s\tremaining: 118ms\n",
      "199:\tlearn: 0.4510416\ttotal: 23.7s\tremaining: 0us\n",
      " Results from Grid Search \n",
      "\n",
      " The best estimator across ALL searched params:\n",
      " <catboost.core.CatBoostClassifier object at 0x000001CB84839108>\n",
      "\n",
      " The best score across ALL searched params:\n",
      " 0.7453868490071187\n",
      "\n",
      " The best parameters across ALL searched params:\n",
      " {'depth': 10, 'iterations': 200, 'learning_rate': 0.01}\n"
     ]
    }
   ],
   "source": [
    "from catboost import CatBoostClassifier\n",
    "CatBoost=CatBoostClassifier()\n",
    "parameters = {'depth'         : [4,5,6,7,8,9, 10],\n",
    "            'learning_rate' : [0.01,0.02,0.03,0.04],\n",
    "            'iterations'    : [10, 20,30,40,50,60,70,80,90, 100,200]\n",
    "             }\n",
    "\n",
    "Grid_CBC = GridSearchCV(estimator=CatBoost, param_grid = parameters,\n",
    "                               cv = 2,  n_jobs=-1)\n",
    "Grid_CBC.fit(sm_xtrain,sm_ytrain)\n",
    "\n",
    "# Results from Grid Search\n",
    "print(\" Results from Grid Search \" )\n",
    "print(\"\\n The best estimator across ALL searched params:\\n\",Grid_CBC.best_estimator_)\n",
    "print(\"\\n The best score across ALL searched params:\\n\",Grid_CBC.best_score_)\n",
    "print(\"\\n The best parameters across ALL searched params:\\n\",Grid_CBC.best_params_)"
   ]
  },
  {
   "cell_type": "code",
   "execution_count": 628,
   "metadata": {},
   "outputs": [
    {
     "name": "stdout",
     "output_type": "stream",
     "text": [
      "Learning rate set to 0.051107\n",
      "0:\tlearn: 0.6811986\ttotal: 37.2ms\tremaining: 37.2s\n",
      "1:\tlearn: 0.6708061\ttotal: 61.7ms\tremaining: 30.8s\n",
      "2:\tlearn: 0.6605016\ttotal: 85.4ms\tremaining: 28.4s\n",
      "3:\tlearn: 0.6425298\ttotal: 105ms\tremaining: 26s\n",
      "4:\tlearn: 0.6297798\ttotal: 121ms\tremaining: 24.1s\n",
      "5:\tlearn: 0.6229510\ttotal: 138ms\tremaining: 22.9s\n",
      "6:\tlearn: 0.6164408\ttotal: 155ms\tremaining: 22s\n",
      "7:\tlearn: 0.6079225\ttotal: 170ms\tremaining: 21.1s\n",
      "8:\tlearn: 0.6027527\ttotal: 189ms\tremaining: 20.8s\n",
      "9:\tlearn: 0.5972508\ttotal: 208ms\tremaining: 20.6s\n",
      "10:\tlearn: 0.5878215\ttotal: 227ms\tremaining: 20.4s\n",
      "11:\tlearn: 0.5836162\ttotal: 245ms\tremaining: 20.2s\n",
      "12:\tlearn: 0.5773595\ttotal: 265ms\tremaining: 20.1s\n",
      "13:\tlearn: 0.5726358\ttotal: 282ms\tremaining: 19.9s\n",
      "14:\tlearn: 0.5679727\ttotal: 302ms\tremaining: 19.8s\n",
      "15:\tlearn: 0.5618494\ttotal: 321ms\tremaining: 19.7s\n",
      "16:\tlearn: 0.5584690\ttotal: 344ms\tremaining: 19.9s\n",
      "17:\tlearn: 0.5563627\ttotal: 365ms\tremaining: 19.9s\n",
      "18:\tlearn: 0.5503875\ttotal: 384ms\tremaining: 19.8s\n",
      "19:\tlearn: 0.5476786\ttotal: 411ms\tremaining: 20.2s\n",
      "20:\tlearn: 0.5445582\ttotal: 432ms\tremaining: 20.2s\n",
      "21:\tlearn: 0.5374797\ttotal: 450ms\tremaining: 20s\n",
      "22:\tlearn: 0.5350616\ttotal: 467ms\tremaining: 19.8s\n",
      "23:\tlearn: 0.5335836\ttotal: 485ms\tremaining: 19.7s\n",
      "24:\tlearn: 0.5299373\ttotal: 502ms\tremaining: 19.6s\n",
      "25:\tlearn: 0.5281507\ttotal: 520ms\tremaining: 19.5s\n",
      "26:\tlearn: 0.5266772\ttotal: 548ms\tremaining: 19.7s\n",
      "27:\tlearn: 0.5240969\ttotal: 566ms\tremaining: 19.6s\n",
      "28:\tlearn: 0.5176185\ttotal: 582ms\tremaining: 19.5s\n",
      "29:\tlearn: 0.5143928\ttotal: 600ms\tremaining: 19.4s\n",
      "30:\tlearn: 0.5121047\ttotal: 615ms\tremaining: 19.2s\n",
      "31:\tlearn: 0.5089885\ttotal: 632ms\tremaining: 19.1s\n",
      "32:\tlearn: 0.5074259\ttotal: 648ms\tremaining: 19s\n",
      "33:\tlearn: 0.5020775\ttotal: 668ms\tremaining: 19s\n",
      "34:\tlearn: 0.4973748\ttotal: 688ms\tremaining: 19s\n",
      "35:\tlearn: 0.4939537\ttotal: 707ms\tremaining: 18.9s\n",
      "36:\tlearn: 0.4912225\ttotal: 724ms\tremaining: 18.8s\n",
      "37:\tlearn: 0.4897946\ttotal: 746ms\tremaining: 18.9s\n",
      "38:\tlearn: 0.4874944\ttotal: 762ms\tremaining: 18.8s\n",
      "39:\tlearn: 0.4862536\ttotal: 777ms\tremaining: 18.6s\n",
      "40:\tlearn: 0.4842320\ttotal: 794ms\tremaining: 18.6s\n",
      "41:\tlearn: 0.4831821\ttotal: 815ms\tremaining: 18.6s\n",
      "42:\tlearn: 0.4815152\ttotal: 833ms\tremaining: 18.5s\n",
      "43:\tlearn: 0.4800833\ttotal: 855ms\tremaining: 18.6s\n",
      "44:\tlearn: 0.4783320\ttotal: 880ms\tremaining: 18.7s\n",
      "45:\tlearn: 0.4745967\ttotal: 901ms\tremaining: 18.7s\n",
      "46:\tlearn: 0.4725431\ttotal: 921ms\tremaining: 18.7s\n",
      "47:\tlearn: 0.4702921\ttotal: 936ms\tremaining: 18.6s\n",
      "48:\tlearn: 0.4689418\ttotal: 960ms\tremaining: 18.6s\n",
      "49:\tlearn: 0.4684421\ttotal: 977ms\tremaining: 18.6s\n",
      "50:\tlearn: 0.4678166\ttotal: 994ms\tremaining: 18.5s\n",
      "51:\tlearn: 0.4661414\ttotal: 1.01s\tremaining: 18.5s\n",
      "52:\tlearn: 0.4652494\ttotal: 1.04s\tremaining: 18.7s\n",
      "53:\tlearn: 0.4610545\ttotal: 1.08s\tremaining: 18.9s\n",
      "54:\tlearn: 0.4576285\ttotal: 1.11s\tremaining: 19.2s\n",
      "55:\tlearn: 0.4548960\ttotal: 1.15s\tremaining: 19.4s\n",
      "56:\tlearn: 0.4540396\ttotal: 1.19s\tremaining: 19.8s\n",
      "57:\tlearn: 0.4515183\ttotal: 1.23s\tremaining: 20s\n",
      "58:\tlearn: 0.4497041\ttotal: 1.26s\tremaining: 20.1s\n",
      "59:\tlearn: 0.4463848\ttotal: 1.3s\tremaining: 20.4s\n",
      "60:\tlearn: 0.4450883\ttotal: 1.34s\tremaining: 20.7s\n",
      "61:\tlearn: 0.4441579\ttotal: 1.38s\tremaining: 20.8s\n",
      "62:\tlearn: 0.4435254\ttotal: 1.4s\tremaining: 20.8s\n",
      "63:\tlearn: 0.4421206\ttotal: 1.41s\tremaining: 20.7s\n",
      "64:\tlearn: 0.4409611\ttotal: 1.43s\tremaining: 20.6s\n",
      "65:\tlearn: 0.4399599\ttotal: 1.45s\tremaining: 20.5s\n",
      "66:\tlearn: 0.4390466\ttotal: 1.48s\tremaining: 20.7s\n",
      "67:\tlearn: 0.4383815\ttotal: 1.5s\tremaining: 20.6s\n",
      "68:\tlearn: 0.4367789\ttotal: 1.52s\tremaining: 20.6s\n",
      "69:\tlearn: 0.4339876\ttotal: 1.54s\tremaining: 20.5s\n",
      "70:\tlearn: 0.4327001\ttotal: 1.56s\tremaining: 20.5s\n",
      "71:\tlearn: 0.4320328\ttotal: 1.58s\tremaining: 20.4s\n",
      "72:\tlearn: 0.4313296\ttotal: 1.6s\tremaining: 20.3s\n",
      "73:\tlearn: 0.4306425\ttotal: 1.61s\tremaining: 20.2s\n",
      "74:\tlearn: 0.4282873\ttotal: 1.63s\tremaining: 20.1s\n",
      "75:\tlearn: 0.4267439\ttotal: 1.65s\tremaining: 20s\n",
      "76:\tlearn: 0.4261549\ttotal: 1.67s\tremaining: 20s\n",
      "77:\tlearn: 0.4257532\ttotal: 1.69s\tremaining: 20s\n",
      "78:\tlearn: 0.4236418\ttotal: 1.71s\tremaining: 19.9s\n",
      "79:\tlearn: 0.4221980\ttotal: 1.72s\tremaining: 19.8s\n",
      "80:\tlearn: 0.4218681\ttotal: 1.74s\tremaining: 19.7s\n",
      "81:\tlearn: 0.4212228\ttotal: 1.76s\tremaining: 19.7s\n",
      "82:\tlearn: 0.4209193\ttotal: 1.77s\tremaining: 19.6s\n",
      "83:\tlearn: 0.4196096\ttotal: 1.79s\tremaining: 19.5s\n",
      "84:\tlearn: 0.4191385\ttotal: 1.81s\tremaining: 19.5s\n",
      "85:\tlearn: 0.4182428\ttotal: 1.84s\tremaining: 19.6s\n",
      "86:\tlearn: 0.4176053\ttotal: 1.86s\tremaining: 19.6s\n",
      "87:\tlearn: 0.4170916\ttotal: 1.89s\tremaining: 19.6s\n",
      "88:\tlearn: 0.4166054\ttotal: 1.91s\tremaining: 19.6s\n",
      "89:\tlearn: 0.4153062\ttotal: 1.94s\tremaining: 19.6s\n",
      "90:\tlearn: 0.4146690\ttotal: 1.97s\tremaining: 19.7s\n",
      "91:\tlearn: 0.4140712\ttotal: 2s\tremaining: 19.8s\n",
      "92:\tlearn: 0.4133959\ttotal: 2.04s\tremaining: 19.9s\n",
      "93:\tlearn: 0.4125826\ttotal: 2.08s\tremaining: 20s\n",
      "94:\tlearn: 0.4121172\ttotal: 2.1s\tremaining: 20s\n",
      "95:\tlearn: 0.4114791\ttotal: 2.13s\tremaining: 20.1s\n",
      "96:\tlearn: 0.4109168\ttotal: 2.15s\tremaining: 20s\n",
      "97:\tlearn: 0.4101213\ttotal: 2.2s\tremaining: 20.2s\n",
      "98:\tlearn: 0.4089342\ttotal: 2.22s\tremaining: 20.2s\n",
      "99:\tlearn: 0.4081693\ttotal: 2.24s\tremaining: 20.2s\n",
      "100:\tlearn: 0.4067995\ttotal: 2.27s\tremaining: 20.2s\n",
      "101:\tlearn: 0.4064260\ttotal: 2.28s\tremaining: 20.1s\n",
      "102:\tlearn: 0.4061835\ttotal: 2.3s\tremaining: 20.1s\n",
      "103:\tlearn: 0.4055384\ttotal: 2.32s\tremaining: 20s\n",
      "104:\tlearn: 0.4052648\ttotal: 2.35s\tremaining: 20s\n",
      "105:\tlearn: 0.4047363\ttotal: 2.37s\tremaining: 20s\n",
      "106:\tlearn: 0.4045533\ttotal: 2.39s\tremaining: 20s\n",
      "107:\tlearn: 0.4034342\ttotal: 2.41s\tremaining: 19.9s\n",
      "108:\tlearn: 0.4025045\ttotal: 2.44s\tremaining: 19.9s\n",
      "109:\tlearn: 0.4015910\ttotal: 2.45s\tremaining: 19.9s\n",
      "110:\tlearn: 0.4011685\ttotal: 2.47s\tremaining: 19.8s\n",
      "111:\tlearn: 0.4002041\ttotal: 2.49s\tremaining: 19.8s\n",
      "112:\tlearn: 0.3992337\ttotal: 2.51s\tremaining: 19.7s\n",
      "113:\tlearn: 0.3988579\ttotal: 2.54s\tremaining: 19.7s\n",
      "114:\tlearn: 0.3983470\ttotal: 2.56s\tremaining: 19.7s\n",
      "115:\tlearn: 0.3966510\ttotal: 2.58s\tremaining: 19.7s\n",
      "116:\tlearn: 0.3948033\ttotal: 2.61s\tremaining: 19.7s\n",
      "117:\tlearn: 0.3935216\ttotal: 2.63s\tremaining: 19.7s\n",
      "118:\tlearn: 0.3929053\ttotal: 2.66s\tremaining: 19.7s\n",
      "119:\tlearn: 0.3924390\ttotal: 2.68s\tremaining: 19.7s\n",
      "120:\tlearn: 0.3919991\ttotal: 2.7s\tremaining: 19.6s\n",
      "121:\tlearn: 0.3913526\ttotal: 2.72s\tremaining: 19.6s\n",
      "122:\tlearn: 0.3906357\ttotal: 2.74s\tremaining: 19.5s\n",
      "123:\tlearn: 0.3902858\ttotal: 2.76s\tremaining: 19.5s\n",
      "124:\tlearn: 0.3898242\ttotal: 2.79s\tremaining: 19.5s\n",
      "125:\tlearn: 0.3894251\ttotal: 2.81s\tremaining: 19.5s\n",
      "126:\tlearn: 0.3892071\ttotal: 2.84s\tremaining: 19.5s\n",
      "127:\tlearn: 0.3889709\ttotal: 2.85s\tremaining: 19.5s\n",
      "128:\tlearn: 0.3886202\ttotal: 2.87s\tremaining: 19.4s\n",
      "129:\tlearn: 0.3878348\ttotal: 2.89s\tremaining: 19.3s\n",
      "130:\tlearn: 0.3871681\ttotal: 2.91s\tremaining: 19.3s\n",
      "131:\tlearn: 0.3869646\ttotal: 2.92s\tremaining: 19.2s\n",
      "132:\tlearn: 0.3855612\ttotal: 2.94s\tremaining: 19.2s\n",
      "133:\tlearn: 0.3842535\ttotal: 2.96s\tremaining: 19.1s\n",
      "134:\tlearn: 0.3831919\ttotal: 2.98s\tremaining: 19.1s\n",
      "135:\tlearn: 0.3829367\ttotal: 3.01s\tremaining: 19.1s\n",
      "136:\tlearn: 0.3825282\ttotal: 3.03s\tremaining: 19.1s\n",
      "137:\tlearn: 0.3818526\ttotal: 3.06s\tremaining: 19.1s\n",
      "138:\tlearn: 0.3816051\ttotal: 3.08s\tremaining: 19.1s\n",
      "139:\tlearn: 0.3812837\ttotal: 3.11s\tremaining: 19.1s\n",
      "140:\tlearn: 0.3809327\ttotal: 3.15s\tremaining: 19.2s\n",
      "141:\tlearn: 0.3804741\ttotal: 3.18s\tremaining: 19.2s\n",
      "142:\tlearn: 0.3797185\ttotal: 3.2s\tremaining: 19.2s\n",
      "143:\tlearn: 0.3790867\ttotal: 3.23s\tremaining: 19.2s\n",
      "144:\tlearn: 0.3787016\ttotal: 3.26s\tremaining: 19.2s\n",
      "145:\tlearn: 0.3784825\ttotal: 3.29s\tremaining: 19.2s\n",
      "146:\tlearn: 0.3779570\ttotal: 3.3s\tremaining: 19.2s\n",
      "147:\tlearn: 0.3777206\ttotal: 3.33s\tremaining: 19.2s\n",
      "148:\tlearn: 0.3774026\ttotal: 3.35s\tremaining: 19.1s\n",
      "149:\tlearn: 0.3766117\ttotal: 3.39s\tremaining: 19.2s\n",
      "150:\tlearn: 0.3760716\ttotal: 3.41s\tremaining: 19.2s\n",
      "151:\tlearn: 0.3759012\ttotal: 3.43s\tremaining: 19.1s\n",
      "152:\tlearn: 0.3755311\ttotal: 3.45s\tremaining: 19.1s\n",
      "153:\tlearn: 0.3751009\ttotal: 3.47s\tremaining: 19.1s\n",
      "154:\tlearn: 0.3747449\ttotal: 3.49s\tremaining: 19s\n",
      "155:\tlearn: 0.3745619\ttotal: 3.53s\tremaining: 19.1s\n",
      "156:\tlearn: 0.3741843\ttotal: 3.57s\tremaining: 19.2s\n",
      "157:\tlearn: 0.3739904\ttotal: 3.6s\tremaining: 19.2s\n",
      "158:\tlearn: 0.3737968\ttotal: 3.63s\tremaining: 19.2s\n",
      "159:\tlearn: 0.3735652\ttotal: 3.65s\tremaining: 19.2s\n",
      "160:\tlearn: 0.3731430\ttotal: 3.7s\tremaining: 19.3s\n",
      "161:\tlearn: 0.3726106\ttotal: 3.72s\tremaining: 19.3s\n",
      "162:\tlearn: 0.3723794\ttotal: 3.74s\tremaining: 19.2s\n",
      "163:\tlearn: 0.3720358\ttotal: 3.76s\tremaining: 19.2s\n"
     ]
    },
    {
     "name": "stdout",
     "output_type": "stream",
     "text": [
      "164:\tlearn: 0.3718124\ttotal: 3.78s\tremaining: 19.1s\n",
      "165:\tlearn: 0.3715032\ttotal: 3.81s\tremaining: 19.1s\n",
      "166:\tlearn: 0.3712820\ttotal: 3.83s\tremaining: 19.1s\n",
      "167:\tlearn: 0.3711654\ttotal: 3.85s\tremaining: 19.1s\n",
      "168:\tlearn: 0.3710169\ttotal: 3.88s\tremaining: 19.1s\n",
      "169:\tlearn: 0.3706267\ttotal: 3.9s\tremaining: 19s\n",
      "170:\tlearn: 0.3702664\ttotal: 3.92s\tremaining: 19s\n",
      "171:\tlearn: 0.3693602\ttotal: 3.96s\tremaining: 19s\n",
      "172:\tlearn: 0.3691588\ttotal: 3.98s\tremaining: 19s\n",
      "173:\tlearn: 0.3689806\ttotal: 3.99s\tremaining: 19s\n",
      "174:\tlearn: 0.3680014\ttotal: 4.01s\tremaining: 18.9s\n",
      "175:\tlearn: 0.3677843\ttotal: 4.03s\tremaining: 18.9s\n",
      "176:\tlearn: 0.3674889\ttotal: 4.05s\tremaining: 18.8s\n",
      "177:\tlearn: 0.3672655\ttotal: 4.09s\tremaining: 18.9s\n",
      "178:\tlearn: 0.3666178\ttotal: 4.12s\tremaining: 18.9s\n",
      "179:\tlearn: 0.3659490\ttotal: 4.15s\tremaining: 18.9s\n",
      "180:\tlearn: 0.3657517\ttotal: 4.2s\tremaining: 19s\n",
      "181:\tlearn: 0.3655913\ttotal: 4.22s\tremaining: 19s\n",
      "182:\tlearn: 0.3652190\ttotal: 4.24s\tremaining: 18.9s\n",
      "183:\tlearn: 0.3649684\ttotal: 4.26s\tremaining: 18.9s\n",
      "184:\tlearn: 0.3644782\ttotal: 4.29s\tremaining: 18.9s\n",
      "185:\tlearn: 0.3642632\ttotal: 4.31s\tremaining: 18.9s\n",
      "186:\tlearn: 0.3641072\ttotal: 4.33s\tremaining: 18.8s\n",
      "187:\tlearn: 0.3637287\ttotal: 4.35s\tremaining: 18.8s\n",
      "188:\tlearn: 0.3631565\ttotal: 4.37s\tremaining: 18.8s\n",
      "189:\tlearn: 0.3626927\ttotal: 4.4s\tremaining: 18.7s\n",
      "190:\tlearn: 0.3624862\ttotal: 4.42s\tremaining: 18.7s\n",
      "191:\tlearn: 0.3621499\ttotal: 4.44s\tremaining: 18.7s\n",
      "192:\tlearn: 0.3619221\ttotal: 4.46s\tremaining: 18.6s\n",
      "193:\tlearn: 0.3616699\ttotal: 4.48s\tremaining: 18.6s\n",
      "194:\tlearn: 0.3615759\ttotal: 4.5s\tremaining: 18.6s\n",
      "195:\tlearn: 0.3608659\ttotal: 4.52s\tremaining: 18.5s\n",
      "196:\tlearn: 0.3603250\ttotal: 4.54s\tremaining: 18.5s\n",
      "197:\tlearn: 0.3600258\ttotal: 4.57s\tremaining: 18.5s\n",
      "198:\tlearn: 0.3597841\ttotal: 4.59s\tremaining: 18.5s\n",
      "199:\tlearn: 0.3595329\ttotal: 4.61s\tremaining: 18.5s\n",
      "200:\tlearn: 0.3590310\ttotal: 4.66s\tremaining: 18.5s\n",
      "201:\tlearn: 0.3587394\ttotal: 4.7s\tremaining: 18.6s\n",
      "202:\tlearn: 0.3585634\ttotal: 4.74s\tremaining: 18.6s\n",
      "203:\tlearn: 0.3578501\ttotal: 4.77s\tremaining: 18.6s\n",
      "204:\tlearn: 0.3576003\ttotal: 4.81s\tremaining: 18.6s\n",
      "205:\tlearn: 0.3574758\ttotal: 4.84s\tremaining: 18.7s\n",
      "206:\tlearn: 0.3573188\ttotal: 4.86s\tremaining: 18.6s\n",
      "207:\tlearn: 0.3571974\ttotal: 4.89s\tremaining: 18.6s\n",
      "208:\tlearn: 0.3566679\ttotal: 4.92s\tremaining: 18.6s\n",
      "209:\tlearn: 0.3563448\ttotal: 4.96s\tremaining: 18.6s\n",
      "210:\tlearn: 0.3561177\ttotal: 5.02s\tremaining: 18.8s\n",
      "211:\tlearn: 0.3559596\ttotal: 5.05s\tremaining: 18.8s\n",
      "212:\tlearn: 0.3557784\ttotal: 5.07s\tremaining: 18.7s\n",
      "213:\tlearn: 0.3549651\ttotal: 5.1s\tremaining: 18.7s\n",
      "214:\tlearn: 0.3545495\ttotal: 5.12s\tremaining: 18.7s\n",
      "215:\tlearn: 0.3542701\ttotal: 5.14s\tremaining: 18.6s\n",
      "216:\tlearn: 0.3534156\ttotal: 5.16s\tremaining: 18.6s\n",
      "217:\tlearn: 0.3531442\ttotal: 5.19s\tremaining: 18.6s\n",
      "218:\tlearn: 0.3527666\ttotal: 5.21s\tremaining: 18.6s\n",
      "219:\tlearn: 0.3522645\ttotal: 5.24s\tremaining: 18.6s\n",
      "220:\tlearn: 0.3520026\ttotal: 5.25s\tremaining: 18.5s\n",
      "221:\tlearn: 0.3518100\ttotal: 5.29s\tremaining: 18.5s\n",
      "222:\tlearn: 0.3514994\ttotal: 5.32s\tremaining: 18.5s\n",
      "223:\tlearn: 0.3511565\ttotal: 5.33s\tremaining: 18.5s\n",
      "224:\tlearn: 0.3507436\ttotal: 5.35s\tremaining: 18.4s\n",
      "225:\tlearn: 0.3505587\ttotal: 5.37s\tremaining: 18.4s\n",
      "226:\tlearn: 0.3501506\ttotal: 5.41s\tremaining: 18.4s\n",
      "227:\tlearn: 0.3497272\ttotal: 5.43s\tremaining: 18.4s\n",
      "228:\tlearn: 0.3490483\ttotal: 5.45s\tremaining: 18.4s\n",
      "229:\tlearn: 0.3485946\ttotal: 5.48s\tremaining: 18.4s\n",
      "230:\tlearn: 0.3479697\ttotal: 5.51s\tremaining: 18.3s\n",
      "231:\tlearn: 0.3477606\ttotal: 5.53s\tremaining: 18.3s\n",
      "232:\tlearn: 0.3474847\ttotal: 5.55s\tremaining: 18.3s\n",
      "233:\tlearn: 0.3473505\ttotal: 5.57s\tremaining: 18.2s\n",
      "234:\tlearn: 0.3470692\ttotal: 5.6s\tremaining: 18.2s\n",
      "235:\tlearn: 0.3468419\ttotal: 5.63s\tremaining: 18.2s\n",
      "236:\tlearn: 0.3464715\ttotal: 5.65s\tremaining: 18.2s\n",
      "237:\tlearn: 0.3462081\ttotal: 5.68s\tremaining: 18.2s\n",
      "238:\tlearn: 0.3460185\ttotal: 5.7s\tremaining: 18.1s\n",
      "239:\tlearn: 0.3456199\ttotal: 5.72s\tremaining: 18.1s\n",
      "240:\tlearn: 0.3453828\ttotal: 5.75s\tremaining: 18.1s\n",
      "241:\tlearn: 0.3452523\ttotal: 5.78s\tremaining: 18.1s\n",
      "242:\tlearn: 0.3445790\ttotal: 5.8s\tremaining: 18.1s\n",
      "243:\tlearn: 0.3440293\ttotal: 5.84s\tremaining: 18.1s\n",
      "244:\tlearn: 0.3427738\ttotal: 5.87s\tremaining: 18.1s\n",
      "245:\tlearn: 0.3425294\ttotal: 5.9s\tremaining: 18.1s\n",
      "246:\tlearn: 0.3420873\ttotal: 5.92s\tremaining: 18s\n",
      "247:\tlearn: 0.3417126\ttotal: 5.94s\tremaining: 18s\n",
      "248:\tlearn: 0.3414793\ttotal: 5.96s\tremaining: 18s\n",
      "249:\tlearn: 0.3412142\ttotal: 5.98s\tremaining: 17.9s\n",
      "250:\tlearn: 0.3410208\ttotal: 6s\tremaining: 17.9s\n",
      "251:\tlearn: 0.3404124\ttotal: 6.02s\tremaining: 17.9s\n",
      "252:\tlearn: 0.3394456\ttotal: 6.04s\tremaining: 17.8s\n",
      "253:\tlearn: 0.3390309\ttotal: 6.06s\tremaining: 17.8s\n",
      "254:\tlearn: 0.3388745\ttotal: 6.08s\tremaining: 17.8s\n",
      "255:\tlearn: 0.3386613\ttotal: 6.1s\tremaining: 17.7s\n",
      "256:\tlearn: 0.3382232\ttotal: 6.12s\tremaining: 17.7s\n",
      "257:\tlearn: 0.3379761\ttotal: 6.15s\tremaining: 17.7s\n",
      "258:\tlearn: 0.3377101\ttotal: 6.17s\tremaining: 17.6s\n",
      "259:\tlearn: 0.3374997\ttotal: 6.18s\tremaining: 17.6s\n",
      "260:\tlearn: 0.3373083\ttotal: 6.2s\tremaining: 17.6s\n",
      "261:\tlearn: 0.3370650\ttotal: 6.22s\tremaining: 17.5s\n",
      "262:\tlearn: 0.3369198\ttotal: 6.24s\tremaining: 17.5s\n",
      "263:\tlearn: 0.3366772\ttotal: 6.25s\tremaining: 17.4s\n",
      "264:\tlearn: 0.3364354\ttotal: 6.27s\tremaining: 17.4s\n",
      "265:\tlearn: 0.3358922\ttotal: 6.29s\tremaining: 17.4s\n",
      "266:\tlearn: 0.3355840\ttotal: 6.31s\tremaining: 17.3s\n",
      "267:\tlearn: 0.3353903\ttotal: 6.33s\tremaining: 17.3s\n",
      "268:\tlearn: 0.3350360\ttotal: 6.35s\tremaining: 17.3s\n",
      "269:\tlearn: 0.3348611\ttotal: 6.37s\tremaining: 17.2s\n",
      "270:\tlearn: 0.3347195\ttotal: 6.38s\tremaining: 17.2s\n",
      "271:\tlearn: 0.3345575\ttotal: 6.4s\tremaining: 17.1s\n",
      "272:\tlearn: 0.3344247\ttotal: 6.42s\tremaining: 17.1s\n",
      "273:\tlearn: 0.3340598\ttotal: 6.44s\tremaining: 17.1s\n",
      "274:\tlearn: 0.3339552\ttotal: 6.46s\tremaining: 17s\n",
      "275:\tlearn: 0.3337863\ttotal: 6.48s\tremaining: 17s\n",
      "276:\tlearn: 0.3334104\ttotal: 6.5s\tremaining: 17s\n",
      "277:\tlearn: 0.3330746\ttotal: 6.51s\tremaining: 16.9s\n",
      "278:\tlearn: 0.3329303\ttotal: 6.54s\tremaining: 16.9s\n",
      "279:\tlearn: 0.3323723\ttotal: 6.55s\tremaining: 16.9s\n",
      "280:\tlearn: 0.3319836\ttotal: 6.57s\tremaining: 16.8s\n",
      "281:\tlearn: 0.3317498\ttotal: 6.59s\tremaining: 16.8s\n",
      "282:\tlearn: 0.3310794\ttotal: 6.61s\tremaining: 16.7s\n",
      "283:\tlearn: 0.3307658\ttotal: 6.63s\tremaining: 16.7s\n",
      "284:\tlearn: 0.3305524\ttotal: 6.65s\tremaining: 16.7s\n",
      "285:\tlearn: 0.3304104\ttotal: 6.67s\tremaining: 16.6s\n",
      "286:\tlearn: 0.3302079\ttotal: 6.69s\tremaining: 16.6s\n",
      "287:\tlearn: 0.3296647\ttotal: 6.71s\tremaining: 16.6s\n",
      "288:\tlearn: 0.3294970\ttotal: 6.73s\tremaining: 16.6s\n",
      "289:\tlearn: 0.3292942\ttotal: 6.75s\tremaining: 16.5s\n",
      "290:\tlearn: 0.3291370\ttotal: 6.76s\tremaining: 16.5s\n",
      "291:\tlearn: 0.3290113\ttotal: 6.78s\tremaining: 16.4s\n",
      "292:\tlearn: 0.3286222\ttotal: 6.8s\tremaining: 16.4s\n",
      "293:\tlearn: 0.3282843\ttotal: 6.82s\tremaining: 16.4s\n",
      "294:\tlearn: 0.3276010\ttotal: 6.84s\tremaining: 16.3s\n",
      "295:\tlearn: 0.3274133\ttotal: 6.86s\tremaining: 16.3s\n",
      "296:\tlearn: 0.3272467\ttotal: 6.88s\tremaining: 16.3s\n",
      "297:\tlearn: 0.3270058\ttotal: 6.9s\tremaining: 16.3s\n",
      "298:\tlearn: 0.3268314\ttotal: 6.92s\tremaining: 16.2s\n",
      "299:\tlearn: 0.3264167\ttotal: 6.95s\tremaining: 16.2s\n",
      "300:\tlearn: 0.3259180\ttotal: 6.96s\tremaining: 16.2s\n",
      "301:\tlearn: 0.3257654\ttotal: 6.98s\tremaining: 16.1s\n",
      "302:\tlearn: 0.3254438\ttotal: 7s\tremaining: 16.1s\n",
      "303:\tlearn: 0.3249202\ttotal: 7.02s\tremaining: 16.1s\n",
      "304:\tlearn: 0.3246461\ttotal: 7.04s\tremaining: 16s\n",
      "305:\tlearn: 0.3243781\ttotal: 7.07s\tremaining: 16s\n",
      "306:\tlearn: 0.3240441\ttotal: 7.09s\tremaining: 16s\n",
      "307:\tlearn: 0.3233995\ttotal: 7.11s\tremaining: 16s\n",
      "308:\tlearn: 0.3231242\ttotal: 7.13s\tremaining: 16s\n",
      "309:\tlearn: 0.3229802\ttotal: 7.15s\tremaining: 15.9s\n",
      "310:\tlearn: 0.3228368\ttotal: 7.18s\tremaining: 15.9s\n",
      "311:\tlearn: 0.3226721\ttotal: 7.2s\tremaining: 15.9s\n",
      "312:\tlearn: 0.3225241\ttotal: 7.22s\tremaining: 15.9s\n",
      "313:\tlearn: 0.3223126\ttotal: 7.25s\tremaining: 15.8s\n",
      "314:\tlearn: 0.3221184\ttotal: 7.26s\tremaining: 15.8s\n",
      "315:\tlearn: 0.3219240\ttotal: 7.28s\tremaining: 15.8s\n",
      "316:\tlearn: 0.3217779\ttotal: 7.3s\tremaining: 15.7s\n",
      "317:\tlearn: 0.3216853\ttotal: 7.31s\tremaining: 15.7s\n",
      "318:\tlearn: 0.3214490\ttotal: 7.33s\tremaining: 15.7s\n",
      "319:\tlearn: 0.3213083\ttotal: 7.35s\tremaining: 15.6s\n",
      "320:\tlearn: 0.3209156\ttotal: 7.37s\tremaining: 15.6s\n",
      "321:\tlearn: 0.3207938\ttotal: 7.39s\tremaining: 15.6s\n",
      "322:\tlearn: 0.3204892\ttotal: 7.41s\tremaining: 15.5s\n",
      "323:\tlearn: 0.3203536\ttotal: 7.43s\tremaining: 15.5s\n",
      "324:\tlearn: 0.3202685\ttotal: 7.45s\tremaining: 15.5s\n",
      "325:\tlearn: 0.3197613\ttotal: 7.47s\tremaining: 15.4s\n",
      "326:\tlearn: 0.3196485\ttotal: 7.49s\tremaining: 15.4s\n",
      "327:\tlearn: 0.3193643\ttotal: 7.52s\tremaining: 15.4s\n"
     ]
    },
    {
     "name": "stdout",
     "output_type": "stream",
     "text": [
      "328:\tlearn: 0.3192136\ttotal: 7.54s\tremaining: 15.4s\n",
      "329:\tlearn: 0.3188308\ttotal: 7.56s\tremaining: 15.3s\n",
      "330:\tlearn: 0.3184850\ttotal: 7.59s\tremaining: 15.3s\n",
      "331:\tlearn: 0.3182439\ttotal: 7.61s\tremaining: 15.3s\n",
      "332:\tlearn: 0.3180031\ttotal: 7.63s\tremaining: 15.3s\n",
      "333:\tlearn: 0.3178432\ttotal: 7.67s\tremaining: 15.3s\n",
      "334:\tlearn: 0.3176930\ttotal: 7.68s\tremaining: 15.3s\n",
      "335:\tlearn: 0.3175548\ttotal: 7.71s\tremaining: 15.2s\n",
      "336:\tlearn: 0.3174097\ttotal: 7.72s\tremaining: 15.2s\n",
      "337:\tlearn: 0.3172914\ttotal: 7.74s\tremaining: 15.2s\n",
      "338:\tlearn: 0.3171348\ttotal: 7.76s\tremaining: 15.1s\n",
      "339:\tlearn: 0.3168324\ttotal: 7.78s\tremaining: 15.1s\n",
      "340:\tlearn: 0.3167173\ttotal: 7.81s\tremaining: 15.1s\n",
      "341:\tlearn: 0.3165925\ttotal: 7.83s\tremaining: 15.1s\n",
      "342:\tlearn: 0.3164547\ttotal: 7.85s\tremaining: 15s\n",
      "343:\tlearn: 0.3163324\ttotal: 7.87s\tremaining: 15s\n",
      "344:\tlearn: 0.3161824\ttotal: 7.88s\tremaining: 15s\n",
      "345:\tlearn: 0.3160259\ttotal: 7.9s\tremaining: 14.9s\n",
      "346:\tlearn: 0.3158468\ttotal: 7.92s\tremaining: 14.9s\n",
      "347:\tlearn: 0.3156955\ttotal: 7.95s\tremaining: 14.9s\n",
      "348:\tlearn: 0.3155493\ttotal: 7.98s\tremaining: 14.9s\n",
      "349:\tlearn: 0.3153240\ttotal: 8s\tremaining: 14.9s\n",
      "350:\tlearn: 0.3151146\ttotal: 8.02s\tremaining: 14.8s\n",
      "351:\tlearn: 0.3150226\ttotal: 8.04s\tremaining: 14.8s\n",
      "352:\tlearn: 0.3148483\ttotal: 8.06s\tremaining: 14.8s\n",
      "353:\tlearn: 0.3147615\ttotal: 8.09s\tremaining: 14.8s\n",
      "354:\tlearn: 0.3146231\ttotal: 8.11s\tremaining: 14.7s\n",
      "355:\tlearn: 0.3144985\ttotal: 8.13s\tremaining: 14.7s\n",
      "356:\tlearn: 0.3143726\ttotal: 8.15s\tremaining: 14.7s\n",
      "357:\tlearn: 0.3142907\ttotal: 8.17s\tremaining: 14.7s\n",
      "358:\tlearn: 0.3141524\ttotal: 8.19s\tremaining: 14.6s\n",
      "359:\tlearn: 0.3140465\ttotal: 8.21s\tremaining: 14.6s\n",
      "360:\tlearn: 0.3138691\ttotal: 8.24s\tremaining: 14.6s\n",
      "361:\tlearn: 0.3136857\ttotal: 8.27s\tremaining: 14.6s\n",
      "362:\tlearn: 0.3135555\ttotal: 8.29s\tremaining: 14.6s\n",
      "363:\tlearn: 0.3134141\ttotal: 8.32s\tremaining: 14.5s\n",
      "364:\tlearn: 0.3132991\ttotal: 8.34s\tremaining: 14.5s\n",
      "365:\tlearn: 0.3131097\ttotal: 8.36s\tremaining: 14.5s\n",
      "366:\tlearn: 0.3129907\ttotal: 8.39s\tremaining: 14.5s\n",
      "367:\tlearn: 0.3128946\ttotal: 8.41s\tremaining: 14.5s\n",
      "368:\tlearn: 0.3127803\ttotal: 8.45s\tremaining: 14.4s\n",
      "369:\tlearn: 0.3126557\ttotal: 8.47s\tremaining: 14.4s\n",
      "370:\tlearn: 0.3124939\ttotal: 8.49s\tremaining: 14.4s\n",
      "371:\tlearn: 0.3122767\ttotal: 8.51s\tremaining: 14.4s\n",
      "372:\tlearn: 0.3121847\ttotal: 8.53s\tremaining: 14.3s\n",
      "373:\tlearn: 0.3120572\ttotal: 8.56s\tremaining: 14.3s\n",
      "374:\tlearn: 0.3119299\ttotal: 8.58s\tremaining: 14.3s\n",
      "375:\tlearn: 0.3117993\ttotal: 8.6s\tremaining: 14.3s\n",
      "376:\tlearn: 0.3116274\ttotal: 8.62s\tremaining: 14.3s\n",
      "377:\tlearn: 0.3115178\ttotal: 8.64s\tremaining: 14.2s\n",
      "378:\tlearn: 0.3113771\ttotal: 8.67s\tremaining: 14.2s\n",
      "379:\tlearn: 0.3110017\ttotal: 8.69s\tremaining: 14.2s\n",
      "380:\tlearn: 0.3108361\ttotal: 8.71s\tremaining: 14.2s\n",
      "381:\tlearn: 0.3107398\ttotal: 8.75s\tremaining: 14.1s\n",
      "382:\tlearn: 0.3106532\ttotal: 8.77s\tremaining: 14.1s\n",
      "383:\tlearn: 0.3105821\ttotal: 8.79s\tremaining: 14.1s\n",
      "384:\tlearn: 0.3103033\ttotal: 8.81s\tremaining: 14.1s\n",
      "385:\tlearn: 0.3101335\ttotal: 8.83s\tremaining: 14s\n",
      "386:\tlearn: 0.3099868\ttotal: 8.85s\tremaining: 14s\n",
      "387:\tlearn: 0.3098884\ttotal: 8.87s\tremaining: 14s\n",
      "388:\tlearn: 0.3097911\ttotal: 8.89s\tremaining: 14s\n",
      "389:\tlearn: 0.3094471\ttotal: 8.91s\tremaining: 13.9s\n",
      "390:\tlearn: 0.3093601\ttotal: 8.93s\tremaining: 13.9s\n",
      "391:\tlearn: 0.3091777\ttotal: 8.95s\tremaining: 13.9s\n",
      "392:\tlearn: 0.3088268\ttotal: 8.97s\tremaining: 13.9s\n",
      "393:\tlearn: 0.3087145\ttotal: 8.99s\tremaining: 13.8s\n",
      "394:\tlearn: 0.3085980\ttotal: 9.01s\tremaining: 13.8s\n",
      "395:\tlearn: 0.3084163\ttotal: 9.03s\tremaining: 13.8s\n",
      "396:\tlearn: 0.3083336\ttotal: 9.05s\tremaining: 13.7s\n",
      "397:\tlearn: 0.3082515\ttotal: 9.07s\tremaining: 13.7s\n",
      "398:\tlearn: 0.3080864\ttotal: 9.09s\tremaining: 13.7s\n",
      "399:\tlearn: 0.3079668\ttotal: 9.11s\tremaining: 13.7s\n",
      "400:\tlearn: 0.3078105\ttotal: 9.13s\tremaining: 13.6s\n",
      "401:\tlearn: 0.3076537\ttotal: 9.15s\tremaining: 13.6s\n",
      "402:\tlearn: 0.3075236\ttotal: 9.18s\tremaining: 13.6s\n",
      "403:\tlearn: 0.3074177\ttotal: 9.2s\tremaining: 13.6s\n",
      "404:\tlearn: 0.3072752\ttotal: 9.21s\tremaining: 13.5s\n",
      "405:\tlearn: 0.3071636\ttotal: 9.23s\tremaining: 13.5s\n",
      "406:\tlearn: 0.3068246\ttotal: 9.25s\tremaining: 13.5s\n",
      "407:\tlearn: 0.3065855\ttotal: 9.27s\tremaining: 13.5s\n",
      "408:\tlearn: 0.3064278\ttotal: 9.29s\tremaining: 13.4s\n",
      "409:\tlearn: 0.3063123\ttotal: 9.31s\tremaining: 13.4s\n",
      "410:\tlearn: 0.3060752\ttotal: 9.33s\tremaining: 13.4s\n",
      "411:\tlearn: 0.3059774\ttotal: 9.35s\tremaining: 13.3s\n",
      "412:\tlearn: 0.3058930\ttotal: 9.38s\tremaining: 13.3s\n",
      "413:\tlearn: 0.3058173\ttotal: 9.4s\tremaining: 13.3s\n",
      "414:\tlearn: 0.3057111\ttotal: 9.42s\tremaining: 13.3s\n",
      "415:\tlearn: 0.3055951\ttotal: 9.44s\tremaining: 13.3s\n",
      "416:\tlearn: 0.3054654\ttotal: 9.46s\tremaining: 13.2s\n",
      "417:\tlearn: 0.3053043\ttotal: 9.48s\tremaining: 13.2s\n",
      "418:\tlearn: 0.3052366\ttotal: 9.51s\tremaining: 13.2s\n",
      "419:\tlearn: 0.3050907\ttotal: 9.53s\tremaining: 13.2s\n",
      "420:\tlearn: 0.3049187\ttotal: 9.54s\tremaining: 13.1s\n",
      "421:\tlearn: 0.3046948\ttotal: 9.56s\tremaining: 13.1s\n",
      "422:\tlearn: 0.3045734\ttotal: 9.59s\tremaining: 13.1s\n",
      "423:\tlearn: 0.3044236\ttotal: 9.61s\tremaining: 13.1s\n",
      "424:\tlearn: 0.3041305\ttotal: 9.63s\tremaining: 13s\n",
      "425:\tlearn: 0.3040355\ttotal: 9.64s\tremaining: 13s\n",
      "426:\tlearn: 0.3039546\ttotal: 9.67s\tremaining: 13s\n",
      "427:\tlearn: 0.3038233\ttotal: 9.69s\tremaining: 12.9s\n",
      "428:\tlearn: 0.3036464\ttotal: 9.7s\tremaining: 12.9s\n",
      "429:\tlearn: 0.3035260\ttotal: 9.72s\tremaining: 12.9s\n",
      "430:\tlearn: 0.3033856\ttotal: 9.73s\tremaining: 12.9s\n",
      "431:\tlearn: 0.3032005\ttotal: 9.75s\tremaining: 12.8s\n",
      "432:\tlearn: 0.3031064\ttotal: 9.77s\tremaining: 12.8s\n",
      "433:\tlearn: 0.3028735\ttotal: 9.79s\tremaining: 12.8s\n",
      "434:\tlearn: 0.3027226\ttotal: 9.8s\tremaining: 12.7s\n",
      "435:\tlearn: 0.3025967\ttotal: 9.82s\tremaining: 12.7s\n",
      "436:\tlearn: 0.3025296\ttotal: 9.84s\tremaining: 12.7s\n",
      "437:\tlearn: 0.3024094\ttotal: 9.86s\tremaining: 12.7s\n",
      "438:\tlearn: 0.3022125\ttotal: 9.88s\tremaining: 12.6s\n",
      "439:\tlearn: 0.3020556\ttotal: 9.89s\tremaining: 12.6s\n",
      "440:\tlearn: 0.3019624\ttotal: 9.91s\tremaining: 12.6s\n",
      "441:\tlearn: 0.3018277\ttotal: 9.92s\tremaining: 12.5s\n",
      "442:\tlearn: 0.3017238\ttotal: 9.94s\tremaining: 12.5s\n",
      "443:\tlearn: 0.3016115\ttotal: 9.96s\tremaining: 12.5s\n",
      "444:\tlearn: 0.3014570\ttotal: 9.99s\tremaining: 12.5s\n",
      "445:\tlearn: 0.3013249\ttotal: 10s\tremaining: 12.4s\n",
      "446:\tlearn: 0.3010454\ttotal: 10s\tremaining: 12.4s\n",
      "447:\tlearn: 0.3009368\ttotal: 10.1s\tremaining: 12.4s\n",
      "448:\tlearn: 0.3008545\ttotal: 10.1s\tremaining: 12.4s\n",
      "449:\tlearn: 0.3006887\ttotal: 10.1s\tremaining: 12.3s\n",
      "450:\tlearn: 0.3005974\ttotal: 10.1s\tremaining: 12.3s\n",
      "451:\tlearn: 0.3003443\ttotal: 10.1s\tremaining: 12.3s\n",
      "452:\tlearn: 0.3002330\ttotal: 10.2s\tremaining: 12.3s\n",
      "453:\tlearn: 0.3001197\ttotal: 10.2s\tremaining: 12.2s\n",
      "454:\tlearn: 0.2999762\ttotal: 10.2s\tremaining: 12.2s\n",
      "455:\tlearn: 0.2998761\ttotal: 10.2s\tremaining: 12.2s\n",
      "456:\tlearn: 0.2997737\ttotal: 10.2s\tremaining: 12.2s\n",
      "457:\tlearn: 0.2996349\ttotal: 10.3s\tremaining: 12.1s\n",
      "458:\tlearn: 0.2995385\ttotal: 10.3s\tremaining: 12.1s\n",
      "459:\tlearn: 0.2994846\ttotal: 10.3s\tremaining: 12.1s\n",
      "460:\tlearn: 0.2993234\ttotal: 10.3s\tremaining: 12.1s\n",
      "461:\tlearn: 0.2991979\ttotal: 10.3s\tremaining: 12s\n",
      "462:\tlearn: 0.2990910\ttotal: 10.4s\tremaining: 12s\n",
      "463:\tlearn: 0.2989591\ttotal: 10.4s\tremaining: 12s\n",
      "464:\tlearn: 0.2988767\ttotal: 10.4s\tremaining: 12s\n",
      "465:\tlearn: 0.2987558\ttotal: 10.4s\tremaining: 12s\n",
      "466:\tlearn: 0.2986274\ttotal: 10.5s\tremaining: 11.9s\n",
      "467:\tlearn: 0.2985043\ttotal: 10.5s\tremaining: 11.9s\n",
      "468:\tlearn: 0.2984009\ttotal: 10.5s\tremaining: 11.9s\n",
      "469:\tlearn: 0.2982226\ttotal: 10.5s\tremaining: 11.9s\n",
      "470:\tlearn: 0.2980645\ttotal: 10.5s\tremaining: 11.8s\n",
      "471:\tlearn: 0.2979327\ttotal: 10.6s\tremaining: 11.8s\n",
      "472:\tlearn: 0.2978469\ttotal: 10.6s\tremaining: 11.8s\n",
      "473:\tlearn: 0.2977450\ttotal: 10.6s\tremaining: 11.8s\n",
      "474:\tlearn: 0.2976330\ttotal: 10.6s\tremaining: 11.7s\n",
      "475:\tlearn: 0.2975446\ttotal: 10.6s\tremaining: 11.7s\n",
      "476:\tlearn: 0.2974342\ttotal: 10.7s\tremaining: 11.7s\n",
      "477:\tlearn: 0.2973122\ttotal: 10.7s\tremaining: 11.7s\n",
      "478:\tlearn: 0.2972009\ttotal: 10.7s\tremaining: 11.6s\n",
      "479:\tlearn: 0.2970770\ttotal: 10.7s\tremaining: 11.6s\n",
      "480:\tlearn: 0.2969718\ttotal: 10.7s\tremaining: 11.6s\n",
      "481:\tlearn: 0.2968556\ttotal: 10.8s\tremaining: 11.6s\n",
      "482:\tlearn: 0.2967701\ttotal: 10.8s\tremaining: 11.5s\n",
      "483:\tlearn: 0.2965931\ttotal: 10.8s\tremaining: 11.5s\n",
      "484:\tlearn: 0.2964999\ttotal: 10.8s\tremaining: 11.5s\n",
      "485:\tlearn: 0.2963832\ttotal: 10.8s\tremaining: 11.5s\n",
      "486:\tlearn: 0.2963038\ttotal: 10.9s\tremaining: 11.4s\n",
      "487:\tlearn: 0.2961208\ttotal: 10.9s\tremaining: 11.4s\n",
      "488:\tlearn: 0.2960351\ttotal: 10.9s\tremaining: 11.4s\n",
      "489:\tlearn: 0.2959118\ttotal: 10.9s\tremaining: 11.4s\n",
      "490:\tlearn: 0.2958141\ttotal: 10.9s\tremaining: 11.3s\n",
      "491:\tlearn: 0.2957500\ttotal: 11s\tremaining: 11.3s\n",
      "492:\tlearn: 0.2956229\ttotal: 11s\tremaining: 11.3s\n",
      "493:\tlearn: 0.2955464\ttotal: 11s\tremaining: 11.3s\n",
      "494:\tlearn: 0.2953979\ttotal: 11s\tremaining: 11.2s\n"
     ]
    },
    {
     "name": "stdout",
     "output_type": "stream",
     "text": [
      "495:\tlearn: 0.2952647\ttotal: 11s\tremaining: 11.2s\n",
      "496:\tlearn: 0.2951549\ttotal: 11.1s\tremaining: 11.2s\n",
      "497:\tlearn: 0.2950667\ttotal: 11.1s\tremaining: 11.2s\n",
      "498:\tlearn: 0.2949517\ttotal: 11.1s\tremaining: 11.1s\n",
      "499:\tlearn: 0.2948650\ttotal: 11.1s\tremaining: 11.1s\n",
      "500:\tlearn: 0.2947491\ttotal: 11.1s\tremaining: 11.1s\n",
      "501:\tlearn: 0.2946099\ttotal: 11.2s\tremaining: 11.1s\n",
      "502:\tlearn: 0.2945240\ttotal: 11.2s\tremaining: 11s\n",
      "503:\tlearn: 0.2944291\ttotal: 11.2s\tremaining: 11s\n",
      "504:\tlearn: 0.2941449\ttotal: 11.2s\tremaining: 11s\n",
      "505:\tlearn: 0.2940483\ttotal: 11.3s\tremaining: 11s\n",
      "506:\tlearn: 0.2938949\ttotal: 11.3s\tremaining: 11s\n",
      "507:\tlearn: 0.2938011\ttotal: 11.3s\tremaining: 11s\n",
      "508:\tlearn: 0.2936122\ttotal: 11.3s\tremaining: 10.9s\n",
      "509:\tlearn: 0.2934316\ttotal: 11.4s\tremaining: 10.9s\n",
      "510:\tlearn: 0.2933476\ttotal: 11.4s\tremaining: 10.9s\n",
      "511:\tlearn: 0.2932612\ttotal: 11.4s\tremaining: 10.9s\n",
      "512:\tlearn: 0.2931715\ttotal: 11.4s\tremaining: 10.9s\n",
      "513:\tlearn: 0.2930071\ttotal: 11.5s\tremaining: 10.8s\n",
      "514:\tlearn: 0.2928849\ttotal: 11.5s\tremaining: 10.8s\n",
      "515:\tlearn: 0.2927534\ttotal: 11.5s\tremaining: 10.8s\n",
      "516:\tlearn: 0.2926810\ttotal: 11.5s\tremaining: 10.8s\n",
      "517:\tlearn: 0.2926024\ttotal: 11.5s\tremaining: 10.7s\n",
      "518:\tlearn: 0.2924951\ttotal: 11.6s\tremaining: 10.7s\n",
      "519:\tlearn: 0.2923922\ttotal: 11.6s\tremaining: 10.7s\n",
      "520:\tlearn: 0.2922975\ttotal: 11.6s\tremaining: 10.7s\n",
      "521:\tlearn: 0.2921913\ttotal: 11.6s\tremaining: 10.7s\n",
      "522:\tlearn: 0.2920730\ttotal: 11.7s\tremaining: 10.6s\n",
      "523:\tlearn: 0.2920075\ttotal: 11.7s\tremaining: 10.6s\n",
      "524:\tlearn: 0.2918934\ttotal: 11.7s\tremaining: 10.6s\n",
      "525:\tlearn: 0.2917862\ttotal: 11.7s\tremaining: 10.5s\n",
      "526:\tlearn: 0.2915639\ttotal: 11.7s\tremaining: 10.5s\n",
      "527:\tlearn: 0.2914887\ttotal: 11.7s\tremaining: 10.5s\n",
      "528:\tlearn: 0.2913993\ttotal: 11.8s\tremaining: 10.5s\n",
      "529:\tlearn: 0.2913279\ttotal: 11.8s\tremaining: 10.4s\n",
      "530:\tlearn: 0.2911090\ttotal: 11.8s\tremaining: 10.4s\n",
      "531:\tlearn: 0.2910176\ttotal: 11.8s\tremaining: 10.4s\n",
      "532:\tlearn: 0.2909345\ttotal: 11.8s\tremaining: 10.4s\n",
      "533:\tlearn: 0.2908669\ttotal: 11.9s\tremaining: 10.3s\n",
      "534:\tlearn: 0.2907381\ttotal: 11.9s\tremaining: 10.3s\n",
      "535:\tlearn: 0.2906177\ttotal: 11.9s\tremaining: 10.3s\n",
      "536:\tlearn: 0.2905287\ttotal: 11.9s\tremaining: 10.3s\n",
      "537:\tlearn: 0.2904087\ttotal: 11.9s\tremaining: 10.2s\n",
      "538:\tlearn: 0.2903127\ttotal: 11.9s\tremaining: 10.2s\n",
      "539:\tlearn: 0.2900960\ttotal: 12s\tremaining: 10.2s\n",
      "540:\tlearn: 0.2899904\ttotal: 12s\tremaining: 10.2s\n",
      "541:\tlearn: 0.2899341\ttotal: 12s\tremaining: 10.1s\n",
      "542:\tlearn: 0.2898850\ttotal: 12s\tremaining: 10.1s\n",
      "543:\tlearn: 0.2896589\ttotal: 12.1s\tremaining: 10.1s\n",
      "544:\tlearn: 0.2895604\ttotal: 12.1s\tremaining: 10.1s\n",
      "545:\tlearn: 0.2894875\ttotal: 12.1s\tremaining: 10.1s\n",
      "546:\tlearn: 0.2893940\ttotal: 12.1s\tremaining: 10s\n",
      "547:\tlearn: 0.2892861\ttotal: 12.2s\tremaining: 10s\n",
      "548:\tlearn: 0.2891637\ttotal: 12.2s\tremaining: 10s\n",
      "549:\tlearn: 0.2890139\ttotal: 12.2s\tremaining: 9.98s\n",
      "550:\tlearn: 0.2889036\ttotal: 12.2s\tremaining: 9.96s\n",
      "551:\tlearn: 0.2888414\ttotal: 12.2s\tremaining: 9.94s\n",
      "552:\tlearn: 0.2887789\ttotal: 12.3s\tremaining: 9.91s\n",
      "553:\tlearn: 0.2886504\ttotal: 12.3s\tremaining: 9.88s\n",
      "554:\tlearn: 0.2885330\ttotal: 12.3s\tremaining: 9.86s\n",
      "555:\tlearn: 0.2884637\ttotal: 12.3s\tremaining: 9.83s\n",
      "556:\tlearn: 0.2882465\ttotal: 12.3s\tremaining: 9.8s\n",
      "557:\tlearn: 0.2881437\ttotal: 12.3s\tremaining: 9.78s\n",
      "558:\tlearn: 0.2880127\ttotal: 12.4s\tremaining: 9.75s\n",
      "559:\tlearn: 0.2879269\ttotal: 12.4s\tremaining: 9.73s\n",
      "560:\tlearn: 0.2877803\ttotal: 12.4s\tremaining: 9.71s\n",
      "561:\tlearn: 0.2876425\ttotal: 12.4s\tremaining: 9.68s\n",
      "562:\tlearn: 0.2875320\ttotal: 12.4s\tremaining: 9.65s\n",
      "563:\tlearn: 0.2874263\ttotal: 12.5s\tremaining: 9.63s\n",
      "564:\tlearn: 0.2873528\ttotal: 12.5s\tremaining: 9.6s\n",
      "565:\tlearn: 0.2872676\ttotal: 12.5s\tremaining: 9.58s\n",
      "566:\tlearn: 0.2872036\ttotal: 12.5s\tremaining: 9.55s\n",
      "567:\tlearn: 0.2871295\ttotal: 12.5s\tremaining: 9.53s\n",
      "568:\tlearn: 0.2870554\ttotal: 12.5s\tremaining: 9.5s\n",
      "569:\tlearn: 0.2869512\ttotal: 12.6s\tremaining: 9.48s\n",
      "570:\tlearn: 0.2868806\ttotal: 12.6s\tremaining: 9.45s\n",
      "571:\tlearn: 0.2867970\ttotal: 12.6s\tremaining: 9.43s\n",
      "572:\tlearn: 0.2866959\ttotal: 12.6s\tremaining: 9.4s\n",
      "573:\tlearn: 0.2865996\ttotal: 12.6s\tremaining: 9.37s\n",
      "574:\tlearn: 0.2865127\ttotal: 12.6s\tremaining: 9.35s\n",
      "575:\tlearn: 0.2863822\ttotal: 12.7s\tremaining: 9.33s\n",
      "576:\tlearn: 0.2862586\ttotal: 12.7s\tremaining: 9.3s\n",
      "577:\tlearn: 0.2861329\ttotal: 12.7s\tremaining: 9.28s\n",
      "578:\tlearn: 0.2860202\ttotal: 12.7s\tremaining: 9.26s\n",
      "579:\tlearn: 0.2859689\ttotal: 12.8s\tremaining: 9.24s\n",
      "580:\tlearn: 0.2858488\ttotal: 12.8s\tremaining: 9.22s\n",
      "581:\tlearn: 0.2857442\ttotal: 12.8s\tremaining: 9.19s\n",
      "582:\tlearn: 0.2856836\ttotal: 12.8s\tremaining: 9.16s\n",
      "583:\tlearn: 0.2855999\ttotal: 12.8s\tremaining: 9.14s\n",
      "584:\tlearn: 0.2855389\ttotal: 12.9s\tremaining: 9.12s\n",
      "585:\tlearn: 0.2854623\ttotal: 12.9s\tremaining: 9.09s\n",
      "586:\tlearn: 0.2853787\ttotal: 12.9s\tremaining: 9.07s\n",
      "587:\tlearn: 0.2853088\ttotal: 12.9s\tremaining: 9.05s\n",
      "588:\tlearn: 0.2852138\ttotal: 12.9s\tremaining: 9.03s\n",
      "589:\tlearn: 0.2850200\ttotal: 13s\tremaining: 9s\n",
      "590:\tlearn: 0.2849373\ttotal: 13s\tremaining: 8.98s\n",
      "591:\tlearn: 0.2848624\ttotal: 13s\tremaining: 8.96s\n",
      "592:\tlearn: 0.2847678\ttotal: 13s\tremaining: 8.93s\n",
      "593:\tlearn: 0.2846992\ttotal: 13s\tremaining: 8.91s\n",
      "594:\tlearn: 0.2845968\ttotal: 13.1s\tremaining: 8.89s\n",
      "595:\tlearn: 0.2844546\ttotal: 13.1s\tremaining: 8.87s\n",
      "596:\tlearn: 0.2843663\ttotal: 13.1s\tremaining: 8.85s\n",
      "597:\tlearn: 0.2842662\ttotal: 13.1s\tremaining: 8.83s\n",
      "598:\tlearn: 0.2841717\ttotal: 13.2s\tremaining: 8.81s\n",
      "599:\tlearn: 0.2840841\ttotal: 13.2s\tremaining: 8.79s\n",
      "600:\tlearn: 0.2839944\ttotal: 13.2s\tremaining: 8.76s\n",
      "601:\tlearn: 0.2839071\ttotal: 13.2s\tremaining: 8.74s\n",
      "602:\tlearn: 0.2837949\ttotal: 13.2s\tremaining: 8.72s\n",
      "603:\tlearn: 0.2837265\ttotal: 13.3s\tremaining: 8.7s\n",
      "604:\tlearn: 0.2835462\ttotal: 13.3s\tremaining: 8.67s\n",
      "605:\tlearn: 0.2834328\ttotal: 13.3s\tremaining: 8.65s\n",
      "606:\tlearn: 0.2833506\ttotal: 13.3s\tremaining: 8.63s\n",
      "607:\tlearn: 0.2832938\ttotal: 13.3s\tremaining: 8.6s\n",
      "608:\tlearn: 0.2831949\ttotal: 13.4s\tremaining: 8.58s\n",
      "609:\tlearn: 0.2830834\ttotal: 13.4s\tremaining: 8.55s\n",
      "610:\tlearn: 0.2830088\ttotal: 13.4s\tremaining: 8.53s\n",
      "611:\tlearn: 0.2829095\ttotal: 13.4s\tremaining: 8.5s\n",
      "612:\tlearn: 0.2828251\ttotal: 13.4s\tremaining: 8.49s\n",
      "613:\tlearn: 0.2827543\ttotal: 13.5s\tremaining: 8.46s\n",
      "614:\tlearn: 0.2826382\ttotal: 13.5s\tremaining: 8.44s\n",
      "615:\tlearn: 0.2825524\ttotal: 13.5s\tremaining: 8.42s\n",
      "616:\tlearn: 0.2824051\ttotal: 13.5s\tremaining: 8.4s\n",
      "617:\tlearn: 0.2823248\ttotal: 13.5s\tremaining: 8.37s\n",
      "618:\tlearn: 0.2822081\ttotal: 13.6s\tremaining: 8.35s\n",
      "619:\tlearn: 0.2821297\ttotal: 13.6s\tremaining: 8.33s\n",
      "620:\tlearn: 0.2820483\ttotal: 13.6s\tremaining: 8.3s\n",
      "621:\tlearn: 0.2819214\ttotal: 13.6s\tremaining: 8.28s\n",
      "622:\tlearn: 0.2818374\ttotal: 13.6s\tremaining: 8.26s\n",
      "623:\tlearn: 0.2816540\ttotal: 13.7s\tremaining: 8.24s\n",
      "624:\tlearn: 0.2815763\ttotal: 13.7s\tremaining: 8.21s\n",
      "625:\tlearn: 0.2814491\ttotal: 13.7s\tremaining: 8.19s\n",
      "626:\tlearn: 0.2813720\ttotal: 13.7s\tremaining: 8.17s\n",
      "627:\tlearn: 0.2813153\ttotal: 13.8s\tremaining: 8.14s\n",
      "628:\tlearn: 0.2812107\ttotal: 13.8s\tremaining: 8.12s\n",
      "629:\tlearn: 0.2811473\ttotal: 13.8s\tremaining: 8.1s\n",
      "630:\tlearn: 0.2810360\ttotal: 13.8s\tremaining: 8.08s\n",
      "631:\tlearn: 0.2809782\ttotal: 13.8s\tremaining: 8.05s\n",
      "632:\tlearn: 0.2808828\ttotal: 13.9s\tremaining: 8.03s\n",
      "633:\tlearn: 0.2807994\ttotal: 13.9s\tremaining: 8.01s\n",
      "634:\tlearn: 0.2806823\ttotal: 13.9s\tremaining: 7.99s\n",
      "635:\tlearn: 0.2806089\ttotal: 13.9s\tremaining: 7.97s\n",
      "636:\tlearn: 0.2805258\ttotal: 13.9s\tremaining: 7.95s\n",
      "637:\tlearn: 0.2804194\ttotal: 14s\tremaining: 7.92s\n",
      "638:\tlearn: 0.2803319\ttotal: 14s\tremaining: 7.91s\n",
      "639:\tlearn: 0.2802237\ttotal: 14s\tremaining: 7.89s\n",
      "640:\tlearn: 0.2800997\ttotal: 14s\tremaining: 7.87s\n",
      "641:\tlearn: 0.2799943\ttotal: 14.1s\tremaining: 7.84s\n",
      "642:\tlearn: 0.2799110\ttotal: 14.1s\tremaining: 7.82s\n",
      "643:\tlearn: 0.2798154\ttotal: 14.1s\tremaining: 7.8s\n",
      "644:\tlearn: 0.2797349\ttotal: 14.1s\tremaining: 7.77s\n",
      "645:\tlearn: 0.2796628\ttotal: 14.1s\tremaining: 7.75s\n",
      "646:\tlearn: 0.2795550\ttotal: 14.2s\tremaining: 7.73s\n",
      "647:\tlearn: 0.2794992\ttotal: 14.2s\tremaining: 7.71s\n",
      "648:\tlearn: 0.2794055\ttotal: 14.2s\tremaining: 7.68s\n",
      "649:\tlearn: 0.2793253\ttotal: 14.2s\tremaining: 7.66s\n",
      "650:\tlearn: 0.2792388\ttotal: 14.2s\tremaining: 7.64s\n",
      "651:\tlearn: 0.2791749\ttotal: 14.3s\tremaining: 7.61s\n",
      "652:\tlearn: 0.2790894\ttotal: 14.3s\tremaining: 7.59s\n",
      "653:\tlearn: 0.2790191\ttotal: 14.3s\tremaining: 7.57s\n"
     ]
    },
    {
     "name": "stdout",
     "output_type": "stream",
     "text": [
      "654:\tlearn: 0.2789392\ttotal: 14.3s\tremaining: 7.54s\n",
      "655:\tlearn: 0.2788370\ttotal: 14.3s\tremaining: 7.52s\n",
      "656:\tlearn: 0.2787724\ttotal: 14.4s\tremaining: 7.5s\n",
      "657:\tlearn: 0.2786607\ttotal: 14.4s\tremaining: 7.47s\n",
      "658:\tlearn: 0.2785317\ttotal: 14.4s\tremaining: 7.45s\n",
      "659:\tlearn: 0.2784383\ttotal: 14.4s\tremaining: 7.43s\n",
      "660:\tlearn: 0.2783437\ttotal: 14.4s\tremaining: 7.4s\n",
      "661:\tlearn: 0.2782118\ttotal: 14.5s\tremaining: 7.38s\n",
      "662:\tlearn: 0.2781567\ttotal: 14.5s\tremaining: 7.36s\n",
      "663:\tlearn: 0.2780926\ttotal: 14.5s\tremaining: 7.33s\n",
      "664:\tlearn: 0.2779872\ttotal: 14.5s\tremaining: 7.31s\n",
      "665:\tlearn: 0.2779206\ttotal: 14.5s\tremaining: 7.29s\n",
      "666:\tlearn: 0.2778452\ttotal: 14.6s\tremaining: 7.26s\n",
      "667:\tlearn: 0.2777614\ttotal: 14.6s\tremaining: 7.24s\n",
      "668:\tlearn: 0.2776570\ttotal: 14.6s\tremaining: 7.22s\n",
      "669:\tlearn: 0.2775934\ttotal: 14.6s\tremaining: 7.2s\n",
      "670:\tlearn: 0.2774182\ttotal: 14.6s\tremaining: 7.17s\n",
      "671:\tlearn: 0.2773053\ttotal: 14.6s\tremaining: 7.15s\n",
      "672:\tlearn: 0.2771775\ttotal: 14.7s\tremaining: 7.12s\n",
      "673:\tlearn: 0.2771056\ttotal: 14.7s\tremaining: 7.1s\n",
      "674:\tlearn: 0.2770148\ttotal: 14.7s\tremaining: 7.08s\n",
      "675:\tlearn: 0.2769116\ttotal: 14.7s\tremaining: 7.05s\n",
      "676:\tlearn: 0.2767309\ttotal: 14.7s\tremaining: 7.03s\n",
      "677:\tlearn: 0.2766275\ttotal: 14.8s\tremaining: 7.01s\n",
      "678:\tlearn: 0.2765622\ttotal: 14.8s\tremaining: 6.99s\n",
      "679:\tlearn: 0.2765013\ttotal: 14.8s\tremaining: 6.96s\n",
      "680:\tlearn: 0.2764276\ttotal: 14.8s\tremaining: 6.94s\n",
      "681:\tlearn: 0.2763380\ttotal: 14.8s\tremaining: 6.91s\n",
      "682:\tlearn: 0.2762699\ttotal: 14.8s\tremaining: 6.89s\n",
      "683:\tlearn: 0.2762306\ttotal: 14.9s\tremaining: 6.86s\n",
      "684:\tlearn: 0.2761350\ttotal: 14.9s\tremaining: 6.84s\n",
      "685:\tlearn: 0.2760396\ttotal: 14.9s\tremaining: 6.82s\n",
      "686:\tlearn: 0.2759558\ttotal: 14.9s\tremaining: 6.8s\n",
      "687:\tlearn: 0.2758925\ttotal: 14.9s\tremaining: 6.77s\n",
      "688:\tlearn: 0.2757758\ttotal: 15s\tremaining: 6.75s\n",
      "689:\tlearn: 0.2756990\ttotal: 15s\tremaining: 6.73s\n",
      "690:\tlearn: 0.2755897\ttotal: 15s\tremaining: 6.71s\n",
      "691:\tlearn: 0.2755076\ttotal: 15s\tremaining: 6.68s\n",
      "692:\tlearn: 0.2754152\ttotal: 15s\tremaining: 6.66s\n",
      "693:\tlearn: 0.2753655\ttotal: 15s\tremaining: 6.63s\n",
      "694:\tlearn: 0.2752823\ttotal: 15.1s\tremaining: 6.61s\n",
      "695:\tlearn: 0.2751736\ttotal: 15.1s\tremaining: 6.59s\n",
      "696:\tlearn: 0.2750629\ttotal: 15.1s\tremaining: 6.57s\n",
      "697:\tlearn: 0.2749820\ttotal: 15.1s\tremaining: 6.54s\n",
      "698:\tlearn: 0.2749163\ttotal: 15.1s\tremaining: 6.52s\n",
      "699:\tlearn: 0.2747201\ttotal: 15.2s\tremaining: 6.5s\n",
      "700:\tlearn: 0.2745553\ttotal: 15.2s\tremaining: 6.48s\n",
      "701:\tlearn: 0.2744924\ttotal: 15.2s\tremaining: 6.46s\n",
      "702:\tlearn: 0.2744510\ttotal: 15.2s\tremaining: 6.43s\n",
      "703:\tlearn: 0.2743674\ttotal: 15.3s\tremaining: 6.41s\n",
      "704:\tlearn: 0.2743152\ttotal: 15.3s\tremaining: 6.39s\n",
      "705:\tlearn: 0.2742474\ttotal: 15.3s\tremaining: 6.37s\n",
      "706:\tlearn: 0.2741838\ttotal: 15.3s\tremaining: 6.35s\n",
      "707:\tlearn: 0.2740830\ttotal: 15.3s\tremaining: 6.33s\n",
      "708:\tlearn: 0.2739726\ttotal: 15.4s\tremaining: 6.31s\n",
      "709:\tlearn: 0.2739001\ttotal: 15.4s\tremaining: 6.29s\n",
      "710:\tlearn: 0.2738539\ttotal: 15.4s\tremaining: 6.27s\n",
      "711:\tlearn: 0.2737894\ttotal: 15.4s\tremaining: 6.25s\n",
      "712:\tlearn: 0.2737185\ttotal: 15.5s\tremaining: 6.23s\n",
      "713:\tlearn: 0.2736734\ttotal: 15.5s\tremaining: 6.21s\n",
      "714:\tlearn: 0.2736064\ttotal: 15.5s\tremaining: 6.19s\n",
      "715:\tlearn: 0.2735180\ttotal: 15.6s\tremaining: 6.17s\n",
      "716:\tlearn: 0.2734579\ttotal: 15.6s\tremaining: 6.15s\n",
      "717:\tlearn: 0.2733957\ttotal: 15.6s\tremaining: 6.13s\n",
      "718:\tlearn: 0.2732837\ttotal: 15.6s\tremaining: 6.11s\n",
      "719:\tlearn: 0.2732163\ttotal: 15.6s\tremaining: 6.08s\n",
      "720:\tlearn: 0.2731246\ttotal: 15.7s\tremaining: 6.06s\n",
      "721:\tlearn: 0.2730492\ttotal: 15.7s\tremaining: 6.04s\n",
      "722:\tlearn: 0.2729569\ttotal: 15.7s\tremaining: 6.02s\n",
      "723:\tlearn: 0.2728786\ttotal: 15.7s\tremaining: 6s\n",
      "724:\tlearn: 0.2727989\ttotal: 15.8s\tremaining: 5.98s\n",
      "725:\tlearn: 0.2727279\ttotal: 15.8s\tremaining: 5.96s\n",
      "726:\tlearn: 0.2726352\ttotal: 15.8s\tremaining: 5.94s\n",
      "727:\tlearn: 0.2725688\ttotal: 15.8s\tremaining: 5.92s\n",
      "728:\tlearn: 0.2725198\ttotal: 15.9s\tremaining: 5.89s\n",
      "729:\tlearn: 0.2724039\ttotal: 15.9s\tremaining: 5.87s\n",
      "730:\tlearn: 0.2723419\ttotal: 15.9s\tremaining: 5.85s\n",
      "731:\tlearn: 0.2722458\ttotal: 15.9s\tremaining: 5.83s\n",
      "732:\tlearn: 0.2721758\ttotal: 15.9s\tremaining: 5.81s\n",
      "733:\tlearn: 0.2721118\ttotal: 16s\tremaining: 5.78s\n",
      "734:\tlearn: 0.2720555\ttotal: 16s\tremaining: 5.76s\n",
      "735:\tlearn: 0.2720087\ttotal: 16s\tremaining: 5.74s\n",
      "736:\tlearn: 0.2719301\ttotal: 16s\tremaining: 5.72s\n",
      "737:\tlearn: 0.2718592\ttotal: 16s\tremaining: 5.7s\n",
      "738:\tlearn: 0.2717966\ttotal: 16.1s\tremaining: 5.67s\n",
      "739:\tlearn: 0.2717383\ttotal: 16.1s\tremaining: 5.65s\n",
      "740:\tlearn: 0.2716225\ttotal: 16.1s\tremaining: 5.63s\n",
      "741:\tlearn: 0.2715390\ttotal: 16.1s\tremaining: 5.6s\n",
      "742:\tlearn: 0.2713692\ttotal: 16.1s\tremaining: 5.58s\n",
      "743:\tlearn: 0.2712818\ttotal: 16.2s\tremaining: 5.56s\n",
      "744:\tlearn: 0.2711864\ttotal: 16.2s\tremaining: 5.54s\n",
      "745:\tlearn: 0.2711138\ttotal: 16.2s\tremaining: 5.51s\n",
      "746:\tlearn: 0.2710352\ttotal: 16.2s\tremaining: 5.49s\n",
      "747:\tlearn: 0.2708516\ttotal: 16.2s\tremaining: 5.47s\n",
      "748:\tlearn: 0.2707798\ttotal: 16.3s\tremaining: 5.45s\n",
      "749:\tlearn: 0.2707004\ttotal: 16.3s\tremaining: 5.43s\n",
      "750:\tlearn: 0.2706208\ttotal: 16.3s\tremaining: 5.4s\n",
      "751:\tlearn: 0.2705602\ttotal: 16.3s\tremaining: 5.38s\n",
      "752:\tlearn: 0.2705066\ttotal: 16.3s\tremaining: 5.36s\n",
      "753:\tlearn: 0.2703824\ttotal: 16.4s\tremaining: 5.34s\n",
      "754:\tlearn: 0.2703044\ttotal: 16.4s\tremaining: 5.32s\n",
      "755:\tlearn: 0.2701903\ttotal: 16.4s\tremaining: 5.3s\n",
      "756:\tlearn: 0.2701282\ttotal: 16.4s\tremaining: 5.27s\n",
      "757:\tlearn: 0.2700829\ttotal: 16.4s\tremaining: 5.25s\n",
      "758:\tlearn: 0.2699798\ttotal: 16.5s\tremaining: 5.23s\n",
      "759:\tlearn: 0.2699284\ttotal: 16.5s\tremaining: 5.21s\n",
      "760:\tlearn: 0.2698652\ttotal: 16.5s\tremaining: 5.18s\n",
      "761:\tlearn: 0.2697212\ttotal: 16.5s\tremaining: 5.16s\n",
      "762:\tlearn: 0.2696485\ttotal: 16.5s\tremaining: 5.14s\n",
      "763:\tlearn: 0.2695771\ttotal: 16.6s\tremaining: 5.12s\n",
      "764:\tlearn: 0.2695195\ttotal: 16.6s\tremaining: 5.09s\n",
      "765:\tlearn: 0.2694052\ttotal: 16.6s\tremaining: 5.07s\n",
      "766:\tlearn: 0.2693393\ttotal: 16.6s\tremaining: 5.05s\n",
      "767:\tlearn: 0.2692562\ttotal: 16.6s\tremaining: 5.03s\n",
      "768:\tlearn: 0.2691969\ttotal: 16.7s\tremaining: 5.01s\n",
      "769:\tlearn: 0.2690875\ttotal: 16.7s\tremaining: 4.98s\n",
      "770:\tlearn: 0.2690119\ttotal: 16.7s\tremaining: 4.96s\n",
      "771:\tlearn: 0.2688899\ttotal: 16.7s\tremaining: 4.94s\n",
      "772:\tlearn: 0.2688358\ttotal: 16.8s\tremaining: 4.92s\n",
      "773:\tlearn: 0.2688003\ttotal: 16.8s\tremaining: 4.9s\n",
      "774:\tlearn: 0.2686164\ttotal: 16.8s\tremaining: 4.88s\n",
      "775:\tlearn: 0.2685616\ttotal: 16.8s\tremaining: 4.85s\n",
      "776:\tlearn: 0.2685098\ttotal: 16.8s\tremaining: 4.83s\n",
      "777:\tlearn: 0.2684121\ttotal: 16.9s\tremaining: 4.81s\n",
      "778:\tlearn: 0.2683471\ttotal: 16.9s\tremaining: 4.79s\n",
      "779:\tlearn: 0.2682515\ttotal: 16.9s\tremaining: 4.76s\n",
      "780:\tlearn: 0.2681221\ttotal: 16.9s\tremaining: 4.74s\n",
      "781:\tlearn: 0.2680349\ttotal: 16.9s\tremaining: 4.72s\n",
      "782:\tlearn: 0.2678931\ttotal: 17s\tremaining: 4.7s\n",
      "783:\tlearn: 0.2678079\ttotal: 17s\tremaining: 4.68s\n",
      "784:\tlearn: 0.2676965\ttotal: 17s\tremaining: 4.66s\n",
      "785:\tlearn: 0.2676406\ttotal: 17s\tremaining: 4.63s\n",
      "786:\tlearn: 0.2675060\ttotal: 17s\tremaining: 4.61s\n",
      "787:\tlearn: 0.2674176\ttotal: 17.1s\tremaining: 4.59s\n",
      "788:\tlearn: 0.2672787\ttotal: 17.1s\tremaining: 4.57s\n",
      "789:\tlearn: 0.2672184\ttotal: 17.1s\tremaining: 4.54s\n",
      "790:\tlearn: 0.2671742\ttotal: 17.1s\tremaining: 4.52s\n",
      "791:\tlearn: 0.2670863\ttotal: 17.1s\tremaining: 4.5s\n",
      "792:\tlearn: 0.2670033\ttotal: 17.2s\tremaining: 4.48s\n",
      "793:\tlearn: 0.2669092\ttotal: 17.2s\tremaining: 4.46s\n",
      "794:\tlearn: 0.2668386\ttotal: 17.2s\tremaining: 4.43s\n",
      "795:\tlearn: 0.2667781\ttotal: 17.2s\tremaining: 4.41s\n",
      "796:\tlearn: 0.2667002\ttotal: 17.2s\tremaining: 4.39s\n",
      "797:\tlearn: 0.2666333\ttotal: 17.3s\tremaining: 4.37s\n",
      "798:\tlearn: 0.2665790\ttotal: 17.3s\tremaining: 4.34s\n",
      "799:\tlearn: 0.2665141\ttotal: 17.3s\tremaining: 4.32s\n",
      "800:\tlearn: 0.2664390\ttotal: 17.3s\tremaining: 4.3s\n",
      "801:\tlearn: 0.2663660\ttotal: 17.3s\tremaining: 4.28s\n",
      "802:\tlearn: 0.2662996\ttotal: 17.3s\tremaining: 4.25s\n",
      "803:\tlearn: 0.2662411\ttotal: 17.4s\tremaining: 4.23s\n",
      "804:\tlearn: 0.2661724\ttotal: 17.4s\tremaining: 4.21s\n",
      "805:\tlearn: 0.2660822\ttotal: 17.4s\tremaining: 4.19s\n",
      "806:\tlearn: 0.2660072\ttotal: 17.4s\tremaining: 4.17s\n",
      "807:\tlearn: 0.2659386\ttotal: 17.4s\tremaining: 4.14s\n",
      "808:\tlearn: 0.2658862\ttotal: 17.5s\tremaining: 4.12s\n",
      "809:\tlearn: 0.2658135\ttotal: 17.5s\tremaining: 4.1s\n",
      "810:\tlearn: 0.2657251\ttotal: 17.5s\tremaining: 4.08s\n",
      "811:\tlearn: 0.2656556\ttotal: 17.5s\tremaining: 4.06s\n",
      "812:\tlearn: 0.2655994\ttotal: 17.5s\tremaining: 4.03s\n",
      "813:\tlearn: 0.2655487\ttotal: 17.6s\tremaining: 4.01s\n",
      "814:\tlearn: 0.2654515\ttotal: 17.6s\tremaining: 3.99s\n",
      "815:\tlearn: 0.2653229\ttotal: 17.6s\tremaining: 3.96s\n",
      "816:\tlearn: 0.2652321\ttotal: 17.6s\tremaining: 3.94s\n"
     ]
    },
    {
     "name": "stdout",
     "output_type": "stream",
     "text": [
      "817:\tlearn: 0.2651737\ttotal: 17.6s\tremaining: 3.92s\n",
      "818:\tlearn: 0.2651052\ttotal: 17.6s\tremaining: 3.9s\n",
      "819:\tlearn: 0.2650313\ttotal: 17.7s\tremaining: 3.88s\n",
      "820:\tlearn: 0.2649465\ttotal: 17.7s\tremaining: 3.85s\n",
      "821:\tlearn: 0.2648770\ttotal: 17.7s\tremaining: 3.83s\n",
      "822:\tlearn: 0.2648140\ttotal: 17.7s\tremaining: 3.81s\n",
      "823:\tlearn: 0.2647337\ttotal: 17.7s\tremaining: 3.79s\n",
      "824:\tlearn: 0.2646532\ttotal: 17.8s\tremaining: 3.77s\n",
      "825:\tlearn: 0.2645908\ttotal: 17.8s\tremaining: 3.74s\n",
      "826:\tlearn: 0.2645413\ttotal: 17.8s\tremaining: 3.72s\n",
      "827:\tlearn: 0.2644541\ttotal: 17.8s\tremaining: 3.7s\n",
      "828:\tlearn: 0.2644087\ttotal: 17.8s\tremaining: 3.67s\n",
      "829:\tlearn: 0.2642920\ttotal: 17.8s\tremaining: 3.65s\n",
      "830:\tlearn: 0.2642161\ttotal: 17.9s\tremaining: 3.63s\n",
      "831:\tlearn: 0.2641324\ttotal: 17.9s\tremaining: 3.61s\n",
      "832:\tlearn: 0.2640794\ttotal: 17.9s\tremaining: 3.59s\n",
      "833:\tlearn: 0.2640081\ttotal: 17.9s\tremaining: 3.57s\n",
      "834:\tlearn: 0.2639433\ttotal: 17.9s\tremaining: 3.54s\n",
      "835:\tlearn: 0.2638695\ttotal: 18s\tremaining: 3.52s\n",
      "836:\tlearn: 0.2637933\ttotal: 18s\tremaining: 3.5s\n",
      "837:\tlearn: 0.2637139\ttotal: 18s\tremaining: 3.48s\n",
      "838:\tlearn: 0.2636507\ttotal: 18s\tremaining: 3.46s\n",
      "839:\tlearn: 0.2635888\ttotal: 18s\tremaining: 3.44s\n",
      "840:\tlearn: 0.2635600\ttotal: 18.1s\tremaining: 3.42s\n",
      "841:\tlearn: 0.2634832\ttotal: 18.1s\tremaining: 3.39s\n",
      "842:\tlearn: 0.2634336\ttotal: 18.1s\tremaining: 3.37s\n",
      "843:\tlearn: 0.2633320\ttotal: 18.1s\tremaining: 3.35s\n",
      "844:\tlearn: 0.2632736\ttotal: 18.1s\tremaining: 3.33s\n",
      "845:\tlearn: 0.2631874\ttotal: 18.2s\tremaining: 3.31s\n",
      "846:\tlearn: 0.2631248\ttotal: 18.2s\tremaining: 3.29s\n",
      "847:\tlearn: 0.2630781\ttotal: 18.2s\tremaining: 3.26s\n",
      "848:\tlearn: 0.2630071\ttotal: 18.2s\tremaining: 3.24s\n",
      "849:\tlearn: 0.2629247\ttotal: 18.3s\tremaining: 3.22s\n",
      "850:\tlearn: 0.2628446\ttotal: 18.3s\tremaining: 3.2s\n",
      "851:\tlearn: 0.2627243\ttotal: 18.3s\tremaining: 3.18s\n",
      "852:\tlearn: 0.2626491\ttotal: 18.3s\tremaining: 3.16s\n",
      "853:\tlearn: 0.2626100\ttotal: 18.4s\tremaining: 3.14s\n",
      "854:\tlearn: 0.2625351\ttotal: 18.4s\tremaining: 3.12s\n",
      "855:\tlearn: 0.2624620\ttotal: 18.4s\tremaining: 3.09s\n",
      "856:\tlearn: 0.2623822\ttotal: 18.4s\tremaining: 3.07s\n",
      "857:\tlearn: 0.2622894\ttotal: 18.4s\tremaining: 3.05s\n",
      "858:\tlearn: 0.2621889\ttotal: 18.5s\tremaining: 3.03s\n",
      "859:\tlearn: 0.2621334\ttotal: 18.5s\tremaining: 3.01s\n",
      "860:\tlearn: 0.2620589\ttotal: 18.5s\tremaining: 2.99s\n",
      "861:\tlearn: 0.2619809\ttotal: 18.5s\tremaining: 2.96s\n",
      "862:\tlearn: 0.2619110\ttotal: 18.5s\tremaining: 2.94s\n",
      "863:\tlearn: 0.2618285\ttotal: 18.6s\tremaining: 2.92s\n",
      "864:\tlearn: 0.2617734\ttotal: 18.6s\tremaining: 2.9s\n",
      "865:\tlearn: 0.2617101\ttotal: 18.6s\tremaining: 2.88s\n",
      "866:\tlearn: 0.2616466\ttotal: 18.6s\tremaining: 2.86s\n",
      "867:\tlearn: 0.2615810\ttotal: 18.6s\tremaining: 2.83s\n",
      "868:\tlearn: 0.2614961\ttotal: 18.7s\tremaining: 2.81s\n",
      "869:\tlearn: 0.2614419\ttotal: 18.7s\tremaining: 2.79s\n",
      "870:\tlearn: 0.2613397\ttotal: 18.7s\tremaining: 2.77s\n",
      "871:\tlearn: 0.2612992\ttotal: 18.7s\tremaining: 2.75s\n",
      "872:\tlearn: 0.2612252\ttotal: 18.8s\tremaining: 2.73s\n",
      "873:\tlearn: 0.2611453\ttotal: 18.8s\tremaining: 2.71s\n",
      "874:\tlearn: 0.2610839\ttotal: 18.8s\tremaining: 2.69s\n",
      "875:\tlearn: 0.2610364\ttotal: 18.8s\tremaining: 2.66s\n",
      "876:\tlearn: 0.2609321\ttotal: 18.8s\tremaining: 2.64s\n",
      "877:\tlearn: 0.2608704\ttotal: 18.9s\tremaining: 2.62s\n",
      "878:\tlearn: 0.2608310\ttotal: 18.9s\tremaining: 2.6s\n",
      "879:\tlearn: 0.2607821\ttotal: 18.9s\tremaining: 2.58s\n",
      "880:\tlearn: 0.2607159\ttotal: 18.9s\tremaining: 2.56s\n",
      "881:\tlearn: 0.2606591\ttotal: 18.9s\tremaining: 2.53s\n",
      "882:\tlearn: 0.2606206\ttotal: 19s\tremaining: 2.51s\n",
      "883:\tlearn: 0.2605396\ttotal: 19s\tremaining: 2.49s\n",
      "884:\tlearn: 0.2604877\ttotal: 19s\tremaining: 2.47s\n",
      "885:\tlearn: 0.2604279\ttotal: 19s\tremaining: 2.45s\n",
      "886:\tlearn: 0.2603840\ttotal: 19.1s\tremaining: 2.43s\n",
      "887:\tlearn: 0.2603333\ttotal: 19.1s\tremaining: 2.4s\n",
      "888:\tlearn: 0.2602688\ttotal: 19.1s\tremaining: 2.38s\n",
      "889:\tlearn: 0.2601777\ttotal: 19.1s\tremaining: 2.36s\n",
      "890:\tlearn: 0.2600732\ttotal: 19.1s\tremaining: 2.34s\n",
      "891:\tlearn: 0.2600084\ttotal: 19.2s\tremaining: 2.32s\n",
      "892:\tlearn: 0.2599524\ttotal: 19.2s\tremaining: 2.3s\n",
      "893:\tlearn: 0.2599087\ttotal: 19.2s\tremaining: 2.28s\n",
      "894:\tlearn: 0.2598672\ttotal: 19.2s\tremaining: 2.26s\n",
      "895:\tlearn: 0.2597532\ttotal: 19.3s\tremaining: 2.23s\n",
      "896:\tlearn: 0.2596757\ttotal: 19.3s\tremaining: 2.21s\n",
      "897:\tlearn: 0.2595672\ttotal: 19.3s\tremaining: 2.19s\n",
      "898:\tlearn: 0.2595075\ttotal: 19.3s\tremaining: 2.17s\n",
      "899:\tlearn: 0.2594495\ttotal: 19.3s\tremaining: 2.15s\n",
      "900:\tlearn: 0.2593745\ttotal: 19.4s\tremaining: 2.13s\n",
      "901:\tlearn: 0.2593062\ttotal: 19.4s\tremaining: 2.1s\n",
      "902:\tlearn: 0.2592442\ttotal: 19.4s\tremaining: 2.08s\n",
      "903:\tlearn: 0.2591580\ttotal: 19.4s\tremaining: 2.06s\n",
      "904:\tlearn: 0.2590540\ttotal: 19.4s\tremaining: 2.04s\n",
      "905:\tlearn: 0.2589859\ttotal: 19.4s\tremaining: 2.02s\n",
      "906:\tlearn: 0.2589065\ttotal: 19.5s\tremaining: 2s\n",
      "907:\tlearn: 0.2588465\ttotal: 19.5s\tremaining: 1.98s\n",
      "908:\tlearn: 0.2587328\ttotal: 19.5s\tremaining: 1.95s\n",
      "909:\tlearn: 0.2586392\ttotal: 19.5s\tremaining: 1.93s\n",
      "910:\tlearn: 0.2585301\ttotal: 19.6s\tremaining: 1.91s\n",
      "911:\tlearn: 0.2584600\ttotal: 19.6s\tremaining: 1.89s\n",
      "912:\tlearn: 0.2584253\ttotal: 19.6s\tremaining: 1.87s\n",
      "913:\tlearn: 0.2583401\ttotal: 19.6s\tremaining: 1.84s\n",
      "914:\tlearn: 0.2582485\ttotal: 19.6s\tremaining: 1.82s\n",
      "915:\tlearn: 0.2581822\ttotal: 19.7s\tremaining: 1.8s\n",
      "916:\tlearn: 0.2581273\ttotal: 19.7s\tremaining: 1.78s\n",
      "917:\tlearn: 0.2580495\ttotal: 19.7s\tremaining: 1.76s\n",
      "918:\tlearn: 0.2580081\ttotal: 19.7s\tremaining: 1.74s\n",
      "919:\tlearn: 0.2579471\ttotal: 19.7s\tremaining: 1.72s\n",
      "920:\tlearn: 0.2578942\ttotal: 19.8s\tremaining: 1.69s\n",
      "921:\tlearn: 0.2578414\ttotal: 19.8s\tremaining: 1.67s\n",
      "922:\tlearn: 0.2577386\ttotal: 19.8s\tremaining: 1.65s\n",
      "923:\tlearn: 0.2576514\ttotal: 19.8s\tremaining: 1.63s\n",
      "924:\tlearn: 0.2576288\ttotal: 19.8s\tremaining: 1.61s\n",
      "925:\tlearn: 0.2575439\ttotal: 19.8s\tremaining: 1.58s\n",
      "926:\tlearn: 0.2574878\ttotal: 19.9s\tremaining: 1.56s\n",
      "927:\tlearn: 0.2574346\ttotal: 19.9s\tremaining: 1.54s\n",
      "928:\tlearn: 0.2573727\ttotal: 19.9s\tremaining: 1.52s\n",
      "929:\tlearn: 0.2573073\ttotal: 19.9s\tremaining: 1.5s\n",
      "930:\tlearn: 0.2572166\ttotal: 19.9s\tremaining: 1.48s\n",
      "931:\tlearn: 0.2571571\ttotal: 19.9s\tremaining: 1.46s\n",
      "932:\tlearn: 0.2571082\ttotal: 20s\tremaining: 1.43s\n",
      "933:\tlearn: 0.2570480\ttotal: 20s\tremaining: 1.41s\n",
      "934:\tlearn: 0.2569865\ttotal: 20s\tremaining: 1.39s\n",
      "935:\tlearn: 0.2569305\ttotal: 20s\tremaining: 1.37s\n",
      "936:\tlearn: 0.2568659\ttotal: 20s\tremaining: 1.35s\n",
      "937:\tlearn: 0.2567847\ttotal: 20.1s\tremaining: 1.32s\n",
      "938:\tlearn: 0.2567292\ttotal: 20.1s\tremaining: 1.3s\n",
      "939:\tlearn: 0.2566760\ttotal: 20.1s\tremaining: 1.28s\n",
      "940:\tlearn: 0.2565748\ttotal: 20.1s\tremaining: 1.26s\n",
      "941:\tlearn: 0.2564588\ttotal: 20.1s\tremaining: 1.24s\n",
      "942:\tlearn: 0.2563380\ttotal: 20.1s\tremaining: 1.22s\n",
      "943:\tlearn: 0.2562565\ttotal: 20.2s\tremaining: 1.2s\n",
      "944:\tlearn: 0.2561715\ttotal: 20.2s\tremaining: 1.17s\n",
      "945:\tlearn: 0.2561066\ttotal: 20.2s\tremaining: 1.15s\n",
      "946:\tlearn: 0.2560458\ttotal: 20.2s\tremaining: 1.13s\n",
      "947:\tlearn: 0.2559699\ttotal: 20.2s\tremaining: 1.11s\n",
      "948:\tlearn: 0.2558936\ttotal: 20.3s\tremaining: 1.09s\n",
      "949:\tlearn: 0.2558443\ttotal: 20.3s\tremaining: 1.07s\n",
      "950:\tlearn: 0.2557974\ttotal: 20.3s\tremaining: 1.05s\n",
      "951:\tlearn: 0.2557180\ttotal: 20.3s\tremaining: 1.02s\n",
      "952:\tlearn: 0.2556307\ttotal: 20.3s\tremaining: 1s\n",
      "953:\tlearn: 0.2555872\ttotal: 20.4s\tremaining: 981ms\n",
      "954:\tlearn: 0.2555031\ttotal: 20.4s\tremaining: 960ms\n",
      "955:\tlearn: 0.2554520\ttotal: 20.4s\tremaining: 938ms\n",
      "956:\tlearn: 0.2553797\ttotal: 20.4s\tremaining: 917ms\n",
      "957:\tlearn: 0.2553253\ttotal: 20.4s\tremaining: 895ms\n",
      "958:\tlearn: 0.2552923\ttotal: 20.4s\tremaining: 874ms\n",
      "959:\tlearn: 0.2552299\ttotal: 20.5s\tremaining: 853ms\n",
      "960:\tlearn: 0.2551594\ttotal: 20.5s\tremaining: 831ms\n",
      "961:\tlearn: 0.2551107\ttotal: 20.5s\tremaining: 810ms\n",
      "962:\tlearn: 0.2550605\ttotal: 20.5s\tremaining: 788ms\n",
      "963:\tlearn: 0.2549858\ttotal: 20.5s\tremaining: 767ms\n",
      "964:\tlearn: 0.2549073\ttotal: 20.6s\tremaining: 745ms\n",
      "965:\tlearn: 0.2548230\ttotal: 20.6s\tremaining: 724ms\n",
      "966:\tlearn: 0.2547601\ttotal: 20.6s\tremaining: 703ms\n",
      "967:\tlearn: 0.2547162\ttotal: 20.6s\tremaining: 682ms\n",
      "968:\tlearn: 0.2546163\ttotal: 20.6s\tremaining: 660ms\n",
      "969:\tlearn: 0.2545175\ttotal: 20.7s\tremaining: 639ms\n",
      "970:\tlearn: 0.2544609\ttotal: 20.7s\tremaining: 618ms\n",
      "971:\tlearn: 0.2544189\ttotal: 20.7s\tremaining: 596ms\n",
      "972:\tlearn: 0.2543796\ttotal: 20.7s\tremaining: 575ms\n",
      "973:\tlearn: 0.2543402\ttotal: 20.7s\tremaining: 554ms\n",
      "974:\tlearn: 0.2542603\ttotal: 20.8s\tremaining: 532ms\n",
      "975:\tlearn: 0.2541812\ttotal: 20.8s\tremaining: 511ms\n",
      "976:\tlearn: 0.2540950\ttotal: 20.8s\tremaining: 490ms\n",
      "977:\tlearn: 0.2540378\ttotal: 20.8s\tremaining: 469ms\n",
      "978:\tlearn: 0.2539918\ttotal: 20.9s\tremaining: 447ms\n",
      "979:\tlearn: 0.2539482\ttotal: 20.9s\tremaining: 426ms\n",
      "980:\tlearn: 0.2538729\ttotal: 20.9s\tremaining: 405ms\n",
      "981:\tlearn: 0.2538328\ttotal: 20.9s\tremaining: 383ms\n",
      "982:\tlearn: 0.2537635\ttotal: 20.9s\tremaining: 362ms\n"
     ]
    },
    {
     "name": "stdout",
     "output_type": "stream",
     "text": [
      "983:\tlearn: 0.2536931\ttotal: 21s\tremaining: 341ms\n",
      "984:\tlearn: 0.2536201\ttotal: 21s\tremaining: 320ms\n",
      "985:\tlearn: 0.2535517\ttotal: 21s\tremaining: 298ms\n",
      "986:\tlearn: 0.2534710\ttotal: 21s\tremaining: 277ms\n",
      "987:\tlearn: 0.2534253\ttotal: 21s\tremaining: 256ms\n",
      "988:\tlearn: 0.2533707\ttotal: 21.1s\tremaining: 234ms\n",
      "989:\tlearn: 0.2533192\ttotal: 21.1s\tremaining: 213ms\n",
      "990:\tlearn: 0.2532543\ttotal: 21.1s\tremaining: 192ms\n",
      "991:\tlearn: 0.2531980\ttotal: 21.1s\tremaining: 170ms\n",
      "992:\tlearn: 0.2531421\ttotal: 21.2s\tremaining: 149ms\n",
      "993:\tlearn: 0.2530962\ttotal: 21.2s\tremaining: 128ms\n",
      "994:\tlearn: 0.2529918\ttotal: 21.2s\tremaining: 107ms\n",
      "995:\tlearn: 0.2529453\ttotal: 21.2s\tremaining: 85.2ms\n",
      "996:\tlearn: 0.2528813\ttotal: 21.2s\tremaining: 63.9ms\n",
      "997:\tlearn: 0.2527885\ttotal: 21.3s\tremaining: 42.6ms\n",
      "998:\tlearn: 0.2527193\ttotal: 21.3s\tremaining: 21.3ms\n",
      "999:\tlearn: 0.2526280\ttotal: 21.3s\tremaining: 0us\n"
     ]
    },
    {
     "data": {
      "text/plain": [
       "<catboost.core.CatBoostClassifier at 0x1cb84b6de08>"
      ]
     },
     "execution_count": 628,
     "metadata": {},
     "output_type": "execute_result"
    }
   ],
   "source": [
    "from catboost import CatBoostClassifier\n",
    "CatBoost=CatBoostClassifier()\n",
    "                                                 \n",
    "                                                \n",
    "                                                                                                           \n",
    "CatBoost.fit(sm_xtrain,sm_ytrain)"
   ]
  },
  {
   "cell_type": "code",
   "execution_count": 632,
   "metadata": {},
   "outputs": [],
   "source": [
    "y_pred2=CatBoost.predict(np.array(X_test))"
   ]
  },
  {
   "cell_type": "code",
   "execution_count": 633,
   "metadata": {},
   "outputs": [
    {
     "data": {
      "text/plain": [
       "0.5981781376518218"
      ]
     },
     "execution_count": 633,
     "metadata": {},
     "output_type": "execute_result"
    }
   ],
   "source": [
    "roc_auc_score(test_y, y_pred2)"
   ]
  },
  {
   "cell_type": "code",
   "execution_count": 634,
   "metadata": {},
   "outputs": [
    {
     "name": "stdout",
     "output_type": "stream",
     "text": [
      "              precision    recall  f1-score   support\n",
      "\n",
      "           0       0.81      0.66      0.72        38\n",
      "           1       0.35      0.54      0.42        13\n",
      "\n",
      "    accuracy                           0.63        51\n",
      "   macro avg       0.58      0.60      0.57        51\n",
      "weighted avg       0.69      0.63      0.65        51\n",
      "\n"
     ]
    }
   ],
   "source": [
    "report = classification_report(test_y,y_pred2)\n",
    "print(report)"
   ]
  },
  {
   "cell_type": "code",
   "execution_count": 442,
   "metadata": {},
   "outputs": [
    {
     "name": "stdout",
     "output_type": "stream",
     "text": [
      "              precision    recall  f1-score   support\n",
      "\n",
      "           0       0.91      0.60      0.72      7575\n",
      "           1       0.39      0.81      0.53      2438\n",
      "\n",
      "    accuracy                           0.65     10013\n",
      "   macro avg       0.65      0.70      0.62     10013\n",
      "weighted avg       0.78      0.65      0.67     10013\n",
      "\n"
     ]
    }
   ],
   "source": [
    "report = classification_report(test_y,y_pred2)\n",
    "print(report)"
   ]
  },
  {
   "cell_type": "code",
   "execution_count": 635,
   "metadata": {},
   "outputs": [
    {
     "name": "stdout",
     "output_type": "stream",
     "text": [
      "[[25 13]\n",
      " [ 6  7]]\n"
     ]
    }
   ],
   "source": [
    "Conf_metrics_sm_cat = metrics.confusion_matrix(test_y, y_pred2,labels=[0,1])\n",
    "print(Conf_metrics_sm_cat)"
   ]
  },
  {
   "cell_type": "markdown",
   "metadata": {},
   "source": [
    "# GRADIENT DESCENT"
   ]
  },
  {
   "cell_type": "code",
   "execution_count": 641,
   "metadata": {},
   "outputs": [],
   "source": [
    "from sklearn.ensemble import GradientBoostingClassifier\n",
    "gb = GradientBoostingClassifier(n_estimators=600)\n",
    "gb.fit(np.array(sm_xtrain), sm_ytrain)\n",
    "y_pred3 = gb.predict(X_test)"
   ]
  },
  {
   "cell_type": "code",
   "execution_count": 642,
   "metadata": {},
   "outputs": [
    {
     "name": "stdout",
     "output_type": "stream",
     "text": [
      "0.6470588235294118\n"
     ]
    }
   ],
   "source": [
    "accuracy_gb = metrics.accuracy_score(test_y,y_pred3)\n",
    "print(accuracy_gb)"
   ]
  },
  {
   "cell_type": "code",
   "execution_count": 643,
   "metadata": {},
   "outputs": [
    {
     "data": {
      "text/plain": [
       "0.5607287449392713"
      ]
     },
     "execution_count": 643,
     "metadata": {},
     "output_type": "execute_result"
    }
   ],
   "source": [
    "roc_auc_score(test_y, y_pred3)"
   ]
  },
  {
   "cell_type": "code",
   "execution_count": 644,
   "metadata": {},
   "outputs": [
    {
     "name": "stdout",
     "output_type": "stream",
     "text": [
      "              precision    recall  f1-score   support\n",
      "\n",
      "           0       0.78      0.74      0.76        38\n",
      "           1       0.33      0.38      0.36        13\n",
      "\n",
      "    accuracy                           0.65        51\n",
      "   macro avg       0.56      0.56      0.56        51\n",
      "weighted avg       0.66      0.65      0.65        51\n",
      "\n"
     ]
    }
   ],
   "source": [
    "report = classification_report(test_y,y_pred3)\n",
    "print(report)"
   ]
  },
  {
   "cell_type": "code",
   "execution_count": 645,
   "metadata": {},
   "outputs": [
    {
     "name": "stdout",
     "output_type": "stream",
     "text": [
      "[[28 10]\n",
      " [ 8  5]]\n"
     ]
    }
   ],
   "source": [
    "Conf_metrics_sm_gd = metrics.confusion_matrix(test_y, y_pred3,labels=[0,1])\n",
    "print(Conf_metrics_sm_gd)"
   ]
  },
  {
   "cell_type": "markdown",
   "metadata": {},
   "source": [
    "# XGBOOST"
   ]
  },
  {
   "cell_type": "code",
   "execution_count": 320,
   "metadata": {},
   "outputs": [
    {
     "name": "stdout",
     "output_type": "stream",
     "text": [
      "[22:58:46] WARNING: C:/Users/Administrator/workspace/xgboost-win64_release_1.3.0/src/learner.cc:1061: Starting in XGBoost 1.3.0, the default evaluation metric used with the objective 'binary:logistic' was changed from 'error' to 'logloss'. Explicitly set eval_metric if you'd like to restore the old behavior.\n",
      "0.7178667731948467\n"
     ]
    }
   ],
   "source": [
    "xgb=XGBClassifier()\n",
    "xgb.fit(np.array(sm_xtrain), sm_ytrain)\n",
    "y_pred4 = xgb.predict(np.array(X_test))\n",
    "accuracy_xgb = metrics.accuracy_score(test_y,y_pred4)\n",
    "print(accuracy_xgb)"
   ]
  },
  {
   "cell_type": "code",
   "execution_count": 321,
   "metadata": {},
   "outputs": [
    {
     "data": {
      "text/plain": [
       "0.6665242840937088"
      ]
     },
     "execution_count": 321,
     "metadata": {},
     "output_type": "execute_result"
    }
   ],
   "source": [
    "roc_auc_score(test_y, y_pred4)"
   ]
  },
  {
   "cell_type": "code",
   "execution_count": 323,
   "metadata": {},
   "outputs": [
    {
     "name": "stdout",
     "output_type": "stream",
     "text": [
      "              precision    recall  f1-score   support\n",
      "\n",
      "           0       0.85      0.77      0.80      7575\n",
      "           1       0.44      0.57      0.49      2438\n",
      "\n",
      "    accuracy                           0.72     10013\n",
      "   macro avg       0.64      0.67      0.65     10013\n",
      "weighted avg       0.75      0.72      0.73     10013\n",
      "\n"
     ]
    }
   ],
   "source": [
    "report = classification_report(test_y,y_pred4)\n",
    "print(report)"
   ]
  },
  {
   "cell_type": "code",
   "execution_count": 325,
   "metadata": {},
   "outputs": [
    {
     "name": "stdout",
     "output_type": "stream",
     "text": [
      "[[5807 1768]\n",
      " [1057 1381]]\n"
     ]
    }
   ],
   "source": [
    "Conf_metrics_sm_gd = metrics.confusion_matrix(test_y, y_pred4,labels=[0,1])\n",
    "print(Conf_metrics_sm_gd)"
   ]
  },
  {
   "cell_type": "markdown",
   "metadata": {},
   "source": [
    "# LIGHT GBM"
   ]
  },
  {
   "cell_type": "code",
   "execution_count": 329,
   "metadata": {},
   "outputs": [
    {
     "name": "stdout",
     "output_type": "stream",
     "text": [
      "0.6678318186357735\n"
     ]
    }
   ],
   "source": [
    "from lightgbm import LGBMClassifier\n",
    "LGB=LGBMClassifier()\n",
    "LGB.fit(np.array(sm_xtrain), sm_ytrain)\n",
    "y_pred5 = LGB.predict(np.array(X_test))\n",
    "accuracy_LGB = metrics.accuracy_score(test_y,y_pred5)\n",
    "print(accuracy_LGB)"
   ]
  },
  {
   "cell_type": "code",
   "execution_count": 330,
   "metadata": {},
   "outputs": [
    {
     "data": {
      "text/plain": [
       "0.6305343069171561"
      ]
     },
     "execution_count": 330,
     "metadata": {},
     "output_type": "execute_result"
    }
   ],
   "source": [
    "roc_auc_score(test_y, y_pred5)"
   ]
  },
  {
   "cell_type": "code",
   "execution_count": 332,
   "metadata": {},
   "outputs": [
    {
     "name": "stdout",
     "output_type": "stream",
     "text": [
      "[[5327 2248]\n",
      " [1078 1360]]\n"
     ]
    }
   ],
   "source": [
    "Conf_metrics_sm_lgb = metrics.confusion_matrix(test_y, y_pred5,labels=[0,1])\n",
    "print(Conf_metrics_sm_lgb)"
   ]
  },
  {
   "cell_type": "markdown",
   "metadata": {},
   "source": [
    "# DECISION TREE"
   ]
  },
  {
   "cell_type": "code",
   "execution_count": 715,
   "metadata": {},
   "outputs": [],
   "source": [
    "from sklearn.tree import DecisionTreeClassifier\n",
    "dt_cls = DecisionTreeClassifier(random_state=101)\n",
    "dt_cls.fit(sm_xtrain,sm_ytrain)\n",
    "y_pred6=dt_cls.predict(X_test)                                           "
   ]
  },
  {
   "cell_type": "code",
   "execution_count": 716,
   "metadata": {},
   "outputs": [
    {
     "data": {
      "text/plain": [
       "0.8552631578947368"
      ]
     },
     "execution_count": 716,
     "metadata": {},
     "output_type": "execute_result"
    }
   ],
   "source": [
    "roc_auc_score(test_y, y_pred6)"
   ]
  },
  {
   "cell_type": "code",
   "execution_count": 717,
   "metadata": {},
   "outputs": [
    {
     "name": "stdout",
     "output_type": "stream",
     "text": [
      "[[27 11]\n",
      " [ 0 13]]\n"
     ]
    }
   ],
   "source": [
    "Conf_metrics_sm_dt = metrics.confusion_matrix(test_y, y_pred6,labels=[0,1])\n",
    "print(Conf_metrics_sm_dt)"
   ]
  },
  {
   "cell_type": "code",
   "execution_count": 690,
   "metadata": {},
   "outputs": [
    {
     "data": {
      "text/plain": [
       "array([0., 1., 0., 1., 0., 1., 1., 1., 0., 0., 0., 1., 0., 1., 0., 0., 1.,\n",
       "       1., 0., 1., 0., 1., 0., 1., 1., 1., 0., 1., 1., 1., 0., 1., 1., 0.,\n",
       "       0., 1., 1., 1., 1., 0., 1., 1., 1., 1., 1., 1., 1., 1., 0., 0., 0.])"
      ]
     },
     "execution_count": 690,
     "metadata": {},
     "output_type": "execute_result"
    }
   ],
   "source": [
    "tree_cv.predict(X_test)"
   ]
  },
  {
   "cell_type": "code",
   "execution_count": null,
   "metadata": {},
   "outputs": [],
   "source": []
  },
  {
   "cell_type": "markdown",
   "metadata": {},
   "source": [
    "# TEST"
   ]
  },
  {
   "cell_type": "code",
   "execution_count": 613,
   "metadata": {},
   "outputs": [],
   "source": [
    "Test=pd.read_csv(r'C:\\Users\\aditya_jyoti\\Documents\\Docs\\Hackathon\\test_YCcRUnU.csv')"
   ]
  },
  {
   "cell_type": "code",
   "execution_count": 614,
   "metadata": {},
   "outputs": [
    {
     "data": {
      "text/html": [
       "<div>\n",
       "<style scoped>\n",
       "    .dataframe tbody tr th:only-of-type {\n",
       "        vertical-align: middle;\n",
       "    }\n",
       "\n",
       "    .dataframe tbody tr th {\n",
       "        vertical-align: top;\n",
       "    }\n",
       "\n",
       "    .dataframe thead th {\n",
       "        text-align: right;\n",
       "    }\n",
       "</style>\n",
       "<table border=\"1\" class=\"dataframe\">\n",
       "  <thead>\n",
       "    <tr style=\"text-align: right;\">\n",
       "      <th></th>\n",
       "      <th>ID</th>\n",
       "      <th>City_Code</th>\n",
       "      <th>Region_Code</th>\n",
       "      <th>Accomodation_Type</th>\n",
       "      <th>Reco_Insurance_Type</th>\n",
       "      <th>Upper_Age</th>\n",
       "      <th>Lower_Age</th>\n",
       "      <th>Is_Spouse</th>\n",
       "      <th>Health Indicator</th>\n",
       "      <th>Holding_Policy_Duration</th>\n",
       "      <th>Holding_Policy_Type</th>\n",
       "      <th>Reco_Policy_Cat</th>\n",
       "      <th>Reco_Policy_Premium</th>\n",
       "    </tr>\n",
       "  </thead>\n",
       "  <tbody>\n",
       "    <tr>\n",
       "      <th>0</th>\n",
       "      <td>50883</td>\n",
       "      <td>C1</td>\n",
       "      <td>156</td>\n",
       "      <td>Owned</td>\n",
       "      <td>Individual</td>\n",
       "      <td>30</td>\n",
       "      <td>30</td>\n",
       "      <td>No</td>\n",
       "      <td>NaN</td>\n",
       "      <td>6.0</td>\n",
       "      <td>3.0</td>\n",
       "      <td>5</td>\n",
       "      <td>11934.0</td>\n",
       "    </tr>\n",
       "    <tr>\n",
       "      <th>1</th>\n",
       "      <td>50884</td>\n",
       "      <td>C4</td>\n",
       "      <td>7</td>\n",
       "      <td>Owned</td>\n",
       "      <td>Joint</td>\n",
       "      <td>69</td>\n",
       "      <td>68</td>\n",
       "      <td>Yes</td>\n",
       "      <td>X1</td>\n",
       "      <td>3.0</td>\n",
       "      <td>3.0</td>\n",
       "      <td>18</td>\n",
       "      <td>32204.8</td>\n",
       "    </tr>\n",
       "    <tr>\n",
       "      <th>2</th>\n",
       "      <td>50885</td>\n",
       "      <td>C1</td>\n",
       "      <td>564</td>\n",
       "      <td>Rented</td>\n",
       "      <td>Individual</td>\n",
       "      <td>28</td>\n",
       "      <td>28</td>\n",
       "      <td>No</td>\n",
       "      <td>X3</td>\n",
       "      <td>2.0</td>\n",
       "      <td>4.0</td>\n",
       "      <td>17</td>\n",
       "      <td>9240.0</td>\n",
       "    </tr>\n",
       "    <tr>\n",
       "      <th>3</th>\n",
       "      <td>50886</td>\n",
       "      <td>C3</td>\n",
       "      <td>1177</td>\n",
       "      <td>Rented</td>\n",
       "      <td>Individual</td>\n",
       "      <td>23</td>\n",
       "      <td>23</td>\n",
       "      <td>No</td>\n",
       "      <td>X3</td>\n",
       "      <td>3.0</td>\n",
       "      <td>3.0</td>\n",
       "      <td>18</td>\n",
       "      <td>9086.0</td>\n",
       "    </tr>\n",
       "    <tr>\n",
       "      <th>4</th>\n",
       "      <td>50887</td>\n",
       "      <td>C1</td>\n",
       "      <td>951</td>\n",
       "      <td>Owned</td>\n",
       "      <td>Individual</td>\n",
       "      <td>75</td>\n",
       "      <td>75</td>\n",
       "      <td>No</td>\n",
       "      <td>X3</td>\n",
       "      <td>NaN</td>\n",
       "      <td>NaN</td>\n",
       "      <td>5</td>\n",
       "      <td>22534.0</td>\n",
       "    </tr>\n",
       "  </tbody>\n",
       "</table>\n",
       "</div>"
      ],
      "text/plain": [
       "      ID City_Code  Region_Code Accomodation_Type Reco_Insurance_Type  \\\n",
       "0  50883        C1          156             Owned          Individual   \n",
       "1  50884        C4            7             Owned               Joint   \n",
       "2  50885        C1          564            Rented          Individual   \n",
       "3  50886        C3         1177            Rented          Individual   \n",
       "4  50887        C1          951             Owned          Individual   \n",
       "\n",
       "   Upper_Age  Lower_Age Is_Spouse Health Indicator Holding_Policy_Duration  \\\n",
       "0         30         30        No              NaN                     6.0   \n",
       "1         69         68       Yes               X1                     3.0   \n",
       "2         28         28        No               X3                     2.0   \n",
       "3         23         23        No               X3                     3.0   \n",
       "4         75         75        No               X3                     NaN   \n",
       "\n",
       "   Holding_Policy_Type  Reco_Policy_Cat  Reco_Policy_Premium  \n",
       "0                  3.0                5              11934.0  \n",
       "1                  3.0               18              32204.8  \n",
       "2                  4.0               17               9240.0  \n",
       "3                  3.0               18               9086.0  \n",
       "4                  NaN                5              22534.0  "
      ]
     },
     "execution_count": 614,
     "metadata": {},
     "output_type": "execute_result"
    }
   ],
   "source": [
    "Test.head()"
   ]
  },
  {
   "cell_type": "code",
   "execution_count": 615,
   "metadata": {},
   "outputs": [],
   "source": [
    "Test['Holding_Policy_Duration']=Test['Holding_Policy_Duration'].replace('14+',15)"
   ]
  },
  {
   "cell_type": "code",
   "execution_count": 616,
   "metadata": {},
   "outputs": [],
   "source": [
    "Test=Test.astype({\"Holding_Policy_Type\":'category', \"Reco_Policy_Cat\":'category',\"City_Code\":'category',\"Accomodation_Type\":'category',\"Reco_Insurance_Type\":'category',\"Holding_Policy_Duration\":'category',\"Is_Spouse\":'category',\"Health Indicator\":'category','Region_Code':'category'})"
   ]
  },
  {
   "cell_type": "code",
   "execution_count": 617,
   "metadata": {},
   "outputs": [],
   "source": [
    "Test['Accomodation_Type']=Test['Accomodation_Type'].cat.codes\n",
    "Test['Reco_Insurance_Type']=Test['Reco_Insurance_Type'].cat.codes\n",
    "Test['City_Code']=Test['City_Code'].cat.codes"
   ]
  },
  {
   "cell_type": "code",
   "execution_count": 618,
   "metadata": {},
   "outputs": [],
   "source": [
    "Test['Health Indicator']=Test['Health Indicator'].cat.codes\n",
    "Test['Health Indicator']=Test['Health Indicator'].replace(-1, np.nan)"
   ]
  },
  {
   "cell_type": "code",
   "execution_count": 619,
   "metadata": {},
   "outputs": [
    {
     "data": {
      "text/plain": [
       "Index(['ID', 'City_Code', 'Region_Code', 'Accomodation_Type',\n",
       "       'Reco_Insurance_Type', 'Upper_Age', 'Lower_Age', 'Is_Spouse',\n",
       "       'Health Indicator', 'Holding_Policy_Duration', 'Holding_Policy_Type',\n",
       "       'Reco_Policy_Cat', 'Reco_Policy_Premium'],\n",
       "      dtype='object')"
      ]
     },
     "execution_count": 619,
     "metadata": {},
     "output_type": "execute_result"
    }
   ],
   "source": [
    "Test.columns"
   ]
  },
  {
   "cell_type": "code",
   "execution_count": 620,
   "metadata": {},
   "outputs": [],
   "source": [
    "Test=Test[['ID','City_Code', 'Region_Code', 'Upper_Age', 'Lower_Age','Health Indicator', 'Holding_Policy_Duration', 'Reco_Policy_Cat','Reco_Policy_Premium','Holding_Policy_Type','Accomodation_Type','Reco_Insurance_Type']]"
   ]
  },
  {
   "cell_type": "code",
   "execution_count": 621,
   "metadata": {},
   "outputs": [],
   "source": [
    "from sklearn.impute import SimpleImputer\n",
    "my_imputer = SimpleImputer()\n",
    "Test_data = pd.DataFrame(my_imputer.fit_transform(Test))\n",
    "Test_data.columns=Test.columns\n",
    "Test_data.index=Test.index"
   ]
  },
  {
   "cell_type": "code",
   "execution_count": 480,
   "metadata": {},
   "outputs": [
    {
     "data": {
      "text/plain": [
       "Index(['ID', 'City_Code', 'Region_Code', 'Upper_Age', 'Lower_Age',\n",
       "       'Health Indicator', 'Holding_Policy_Duration', 'Reco_Policy_Cat',\n",
       "       'Reco_Policy_Premium', 'Holding_Policy_Type'],\n",
       "      dtype='object')"
      ]
     },
     "execution_count": 480,
     "metadata": {},
     "output_type": "execute_result"
    }
   ],
   "source": [
    "Test_data.columns"
   ]
  },
  {
   "cell_type": "code",
   "execution_count": 622,
   "metadata": {},
   "outputs": [],
   "source": [
    "Test_data[['City_Code','Region_Code', 'Upper_Age', 'Lower_Age', 'Health Indicator','Holding_Policy_Duration', 'Holding_Policy_Type', 'Reco_Policy_Cat','Reco_Policy_Premium']]=StandardScaler().fit_transform(Test_data[['City_Code','Region_Code', 'Upper_Age', 'Lower_Age', 'Health Indicator','Holding_Policy_Duration', 'Holding_Policy_Type', 'Reco_Policy_Cat','Reco_Policy_Premium']])"
   ]
  },
  {
   "cell_type": "code",
   "execution_count": 623,
   "metadata": {},
   "outputs": [],
   "source": [
    "Final_Test_data=Test_data.drop(columns=['ID'])"
   ]
  },
  {
   "cell_type": "code",
   "execution_count": 718,
   "metadata": {},
   "outputs": [],
   "source": [
    "y_final=dt_cls.predict_proba(Final_Test_data)[:,1]"
   ]
  },
  {
   "cell_type": "code",
   "execution_count": 665,
   "metadata": {},
   "outputs": [
    {
     "data": {
      "text/plain": [
       "array([0.97152353, 0.678     , 0.98985772, ..., 0.052     , 0.90611931,\n",
       "       0.772     ])"
      ]
     },
     "execution_count": 665,
     "metadata": {},
     "output_type": "execute_result"
    }
   ],
   "source": [
    "y_final"
   ]
  },
  {
   "cell_type": "code",
   "execution_count": 548,
   "metadata": {},
   "outputs": [
    {
     "data": {
      "text/plain": [
       "array([[0.04454356, 0.95545644],\n",
       "       [0.27821699, 0.72178301],\n",
       "       [0.004     , 0.996     ],\n",
       "       ...,\n",
       "       [0.97      , 0.03      ],\n",
       "       [0.06355805, 0.93644195],\n",
       "       [0.234     , 0.766     ]])"
      ]
     },
     "execution_count": 548,
     "metadata": {},
     "output_type": "execute_result"
    }
   ],
   "source": [
    "y_final"
   ]
  },
  {
   "cell_type": "code",
   "execution_count": 719,
   "metadata": {},
   "outputs": [],
   "source": [
    "Test_data['Response']=y_final"
   ]
  },
  {
   "cell_type": "code",
   "execution_count": 720,
   "metadata": {},
   "outputs": [
    {
     "data": {
      "text/plain": [
       "Index(['ID', 'City_Code', 'Region_Code', 'Upper_Age', 'Lower_Age',\n",
       "       'Health Indicator', 'Holding_Policy_Duration', 'Reco_Policy_Cat',\n",
       "       'Reco_Policy_Premium', 'Holding_Policy_Type', 'Accomodation_Type',\n",
       "       'Reco_Insurance_Type', 'Response'],\n",
       "      dtype='object')"
      ]
     },
     "execution_count": 720,
     "metadata": {},
     "output_type": "execute_result"
    }
   ],
   "source": [
    "Test_data.columns"
   ]
  },
  {
   "cell_type": "code",
   "execution_count": 721,
   "metadata": {},
   "outputs": [],
   "source": [
    "result=Test_data[['ID','Response']]"
   ]
  },
  {
   "cell_type": "code",
   "execution_count": 722,
   "metadata": {},
   "outputs": [
    {
     "data": {
      "text/plain": [
       "1.0    19408\n",
       "0.0     2397\n",
       "Name: Response, dtype: int64"
      ]
     },
     "execution_count": 722,
     "metadata": {},
     "output_type": "execute_result"
    }
   ],
   "source": [
    "result['Response'].value_counts()"
   ]
  },
  {
   "cell_type": "code",
   "execution_count": 627,
   "metadata": {},
   "outputs": [
    {
     "data": {
      "text/plain": [
       "1.0    19364\n",
       "0.0     2441\n",
       "Name: Response, dtype: int64"
      ]
     },
     "execution_count": 627,
     "metadata": {},
     "output_type": "execute_result"
    }
   ],
   "source": [
    "result['Response'].value_counts()"
   ]
  },
  {
   "cell_type": "code",
   "execution_count": 560,
   "metadata": {},
   "outputs": [
    {
     "data": {
      "text/plain": [
       "1.0    19224\n",
       "0.0     2581\n",
       "Name: Response, dtype: int64"
      ]
     },
     "execution_count": 560,
     "metadata": {},
     "output_type": "execute_result"
    }
   ],
   "source": [
    "result['Response'].value_counts()"
   ]
  },
  {
   "cell_type": "code",
   "execution_count": 515,
   "metadata": {},
   "outputs": [
    {
     "data": {
      "text/plain": [
       "1.0    20817\n",
       "0.0      988\n",
       "Name: Response, dtype: int64"
      ]
     },
     "execution_count": 515,
     "metadata": {},
     "output_type": "execute_result"
    }
   ],
   "source": [
    "result['Response'].value_counts()"
   ]
  },
  {
   "cell_type": "code",
   "execution_count": 508,
   "metadata": {},
   "outputs": [
    {
     "data": {
      "text/html": [
       "<div>\n",
       "<style scoped>\n",
       "    .dataframe tbody tr th:only-of-type {\n",
       "        vertical-align: middle;\n",
       "    }\n",
       "\n",
       "    .dataframe tbody tr th {\n",
       "        vertical-align: top;\n",
       "    }\n",
       "\n",
       "    .dataframe thead th {\n",
       "        text-align: right;\n",
       "    }\n",
       "</style>\n",
       "<table border=\"1\" class=\"dataframe\">\n",
       "  <thead>\n",
       "    <tr style=\"text-align: right;\">\n",
       "      <th></th>\n",
       "      <th>ID</th>\n",
       "      <th>Response</th>\n",
       "    </tr>\n",
       "  </thead>\n",
       "  <tbody>\n",
       "    <tr>\n",
       "      <th>0</th>\n",
       "      <td>50883.0</td>\n",
       "      <td>1.0</td>\n",
       "    </tr>\n",
       "    <tr>\n",
       "      <th>1</th>\n",
       "      <td>50884.0</td>\n",
       "      <td>1.0</td>\n",
       "    </tr>\n",
       "    <tr>\n",
       "      <th>2</th>\n",
       "      <td>50885.0</td>\n",
       "      <td>1.0</td>\n",
       "    </tr>\n",
       "    <tr>\n",
       "      <th>3</th>\n",
       "      <td>50886.0</td>\n",
       "      <td>1.0</td>\n",
       "    </tr>\n",
       "    <tr>\n",
       "      <th>4</th>\n",
       "      <td>50887.0</td>\n",
       "      <td>1.0</td>\n",
       "    </tr>\n",
       "  </tbody>\n",
       "</table>\n",
       "</div>"
      ],
      "text/plain": [
       "        ID  Response\n",
       "0  50883.0       1.0\n",
       "1  50884.0       1.0\n",
       "2  50885.0       1.0\n",
       "3  50886.0       1.0\n",
       "4  50887.0       1.0"
      ]
     },
     "execution_count": 508,
     "metadata": {},
     "output_type": "execute_result"
    }
   ],
   "source": [
    "result.head()"
   ]
  },
  {
   "cell_type": "code",
   "execution_count": 723,
   "metadata": {},
   "outputs": [],
   "source": [
    "result.to_csv(r'C:\\Users\\aditya_jyoti\\Documents\\Docs\\Hackathon\\dt.csv')"
   ]
  },
  {
   "cell_type": "code",
   "execution_count": 656,
   "metadata": {},
   "outputs": [],
   "source": [
    "check=pd.read_csv(r'C:\\Users\\aditya_jyoti\\Documents\\Docs\\Hackathon\\Random_forest.csv')"
   ]
  },
  {
   "cell_type": "code",
   "execution_count": null,
   "metadata": {},
   "outputs": [],
   "source": [
    "predicted=[0 if i > 0.70 else 1 for i in y_prob1]"
   ]
  },
  {
   "cell_type": "code",
   "execution_count": 660,
   "metadata": {},
   "outputs": [
    {
     "data": {
      "text/plain": [
       "1    19224\n",
       "0     2581\n",
       "Name: Response, dtype: int64"
      ]
     },
     "execution_count": 660,
     "metadata": {},
     "output_type": "execute_result"
    }
   ],
   "source": [
    "check['Response'].apply(lambda x:1 if x > 0.5 else 0 ).value_counts()"
   ]
  },
  {
   "cell_type": "code",
   "execution_count": 561,
   "metadata": {},
   "outputs": [
    {
     "data": {
      "text/plain": [
       "Index(['City_Code', 'Region_Code', 'Upper_Age', 'Lower_Age',\n",
       "       'Health Indicator', 'Holding_Policy_Duration', 'Reco_Policy_Cat',\n",
       "       'Reco_Policy_Premium', 'Holding_Policy_Type'],\n",
       "      dtype='object')"
      ]
     },
     "execution_count": 561,
     "metadata": {},
     "output_type": "execute_result"
    }
   ],
   "source": [
    "X_train.columns"
   ]
  },
  {
   "cell_type": "code",
   "execution_count": 562,
   "metadata": {},
   "outputs": [
    {
     "data": {
      "text/plain": [
       "Index(['ID', 'City_Code', 'Region_Code', 'Accomodation_Type',\n",
       "       'Reco_Insurance_Type', 'Upper_Age', 'Lower_Age', 'Is_Spouse',\n",
       "       'Health Indicator', 'Holding_Policy_Duration', 'Holding_Policy_Type',\n",
       "       'Reco_Policy_Cat', 'Reco_Policy_Premium', 'Response'],\n",
       "      dtype='object')"
      ]
     },
     "execution_count": 562,
     "metadata": {},
     "output_type": "execute_result"
    }
   ],
   "source": [
    "df.columns"
   ]
  },
  {
   "cell_type": "code",
   "execution_count": 563,
   "metadata": {},
   "outputs": [
    {
     "data": {
      "text/plain": [
       "0    40536\n",
       "1    10346\n",
       "Name: Reco_Insurance_Type, dtype: int64"
      ]
     },
     "execution_count": 563,
     "metadata": {},
     "output_type": "execute_result"
    }
   ],
   "source": [
    "df['Reco_Insurance_Type'].value_counts()"
   ]
  },
  {
   "cell_type": "code",
   "execution_count": 564,
   "metadata": {},
   "outputs": [
    {
     "data": {
      "text/plain": [
       "0    42460\n",
       "1     8422\n",
       "Name: Is_Spouse, dtype: int64"
      ]
     },
     "execution_count": 564,
     "metadata": {},
     "output_type": "execute_result"
    }
   ],
   "source": [
    "df['Is_Spouse'].value_counts()"
   ]
  },
  {
   "cell_type": "code",
   "execution_count": null,
   "metadata": {},
   "outputs": [],
   "source": []
  }
 ],
 "metadata": {
  "kernelspec": {
   "display_name": "Python 3",
   "language": "python",
   "name": "python3"
  },
  "language_info": {
   "codemirror_mode": {
    "name": "ipython",
    "version": 3
   },
   "file_extension": ".py",
   "mimetype": "text/x-python",
   "name": "python",
   "nbconvert_exporter": "python",
   "pygments_lexer": "ipython3",
   "version": "3.7.6"
  }
 },
 "nbformat": 4,
 "nbformat_minor": 4
}
