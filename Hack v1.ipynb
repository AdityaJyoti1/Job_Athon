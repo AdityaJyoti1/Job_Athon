{
 "cells": [
  {
   "cell_type": "code",
   "execution_count": 104,
   "metadata": {},
   "outputs": [],
   "source": [
    "import pandas as pd\n",
    "import numpy as np\n",
    "import matplotlib.pyplot as plt\n",
    "import seaborn as sns\n",
    "from sklearn.model_selection import train_test_split\n",
    "from sklearn.preprocessing import StandardScaler\n",
    "from sklearn import model_selection, preprocessing\n",
    "from sklearn.linear_model import LogisticRegression\n",
    "from sklearn import metrics\n",
    "from sklearn.metrics import classification_report\n",
    "from sklearn.model_selection import GridSearchCV"
   ]
  },
  {
   "cell_type": "code",
   "execution_count": 23,
   "metadata": {},
   "outputs": [],
   "source": [
    "df=pd.read_csv(r'C:\\Users\\aditya_jyoti\\Documents\\Docs\\Hackathon\\train_Df64byy.csv')"
   ]
  },
  {
   "cell_type": "code",
   "execution_count": 24,
   "metadata": {},
   "outputs": [
    {
     "data": {
      "text/html": [
       "<div>\n",
       "<style scoped>\n",
       "    .dataframe tbody tr th:only-of-type {\n",
       "        vertical-align: middle;\n",
       "    }\n",
       "\n",
       "    .dataframe tbody tr th {\n",
       "        vertical-align: top;\n",
       "    }\n",
       "\n",
       "    .dataframe thead th {\n",
       "        text-align: right;\n",
       "    }\n",
       "</style>\n",
       "<table border=\"1\" class=\"dataframe\">\n",
       "  <thead>\n",
       "    <tr style=\"text-align: right;\">\n",
       "      <th></th>\n",
       "      <th>ID</th>\n",
       "      <th>City_Code</th>\n",
       "      <th>Region_Code</th>\n",
       "      <th>Accomodation_Type</th>\n",
       "      <th>Reco_Insurance_Type</th>\n",
       "      <th>Upper_Age</th>\n",
       "      <th>Lower_Age</th>\n",
       "      <th>Is_Spouse</th>\n",
       "      <th>Health Indicator</th>\n",
       "      <th>Holding_Policy_Duration</th>\n",
       "      <th>Holding_Policy_Type</th>\n",
       "      <th>Reco_Policy_Cat</th>\n",
       "      <th>Reco_Policy_Premium</th>\n",
       "      <th>Response</th>\n",
       "    </tr>\n",
       "  </thead>\n",
       "  <tbody>\n",
       "    <tr>\n",
       "      <th>0</th>\n",
       "      <td>1</td>\n",
       "      <td>C3</td>\n",
       "      <td>3213</td>\n",
       "      <td>Rented</td>\n",
       "      <td>Individual</td>\n",
       "      <td>36</td>\n",
       "      <td>36</td>\n",
       "      <td>No</td>\n",
       "      <td>X1</td>\n",
       "      <td>14+</td>\n",
       "      <td>3.0</td>\n",
       "      <td>22</td>\n",
       "      <td>11628.0</td>\n",
       "      <td>0</td>\n",
       "    </tr>\n",
       "    <tr>\n",
       "      <th>1</th>\n",
       "      <td>2</td>\n",
       "      <td>C5</td>\n",
       "      <td>1117</td>\n",
       "      <td>Owned</td>\n",
       "      <td>Joint</td>\n",
       "      <td>75</td>\n",
       "      <td>22</td>\n",
       "      <td>No</td>\n",
       "      <td>X2</td>\n",
       "      <td>NaN</td>\n",
       "      <td>NaN</td>\n",
       "      <td>22</td>\n",
       "      <td>30510.0</td>\n",
       "      <td>0</td>\n",
       "    </tr>\n",
       "    <tr>\n",
       "      <th>2</th>\n",
       "      <td>3</td>\n",
       "      <td>C5</td>\n",
       "      <td>3732</td>\n",
       "      <td>Owned</td>\n",
       "      <td>Individual</td>\n",
       "      <td>32</td>\n",
       "      <td>32</td>\n",
       "      <td>No</td>\n",
       "      <td>NaN</td>\n",
       "      <td>1.0</td>\n",
       "      <td>1.0</td>\n",
       "      <td>19</td>\n",
       "      <td>7450.0</td>\n",
       "      <td>1</td>\n",
       "    </tr>\n",
       "    <tr>\n",
       "      <th>3</th>\n",
       "      <td>4</td>\n",
       "      <td>C24</td>\n",
       "      <td>4378</td>\n",
       "      <td>Owned</td>\n",
       "      <td>Joint</td>\n",
       "      <td>52</td>\n",
       "      <td>48</td>\n",
       "      <td>No</td>\n",
       "      <td>X1</td>\n",
       "      <td>14+</td>\n",
       "      <td>3.0</td>\n",
       "      <td>19</td>\n",
       "      <td>17780.0</td>\n",
       "      <td>0</td>\n",
       "    </tr>\n",
       "    <tr>\n",
       "      <th>4</th>\n",
       "      <td>5</td>\n",
       "      <td>C8</td>\n",
       "      <td>2190</td>\n",
       "      <td>Rented</td>\n",
       "      <td>Individual</td>\n",
       "      <td>44</td>\n",
       "      <td>44</td>\n",
       "      <td>No</td>\n",
       "      <td>X2</td>\n",
       "      <td>3.0</td>\n",
       "      <td>1.0</td>\n",
       "      <td>16</td>\n",
       "      <td>10404.0</td>\n",
       "      <td>0</td>\n",
       "    </tr>\n",
       "  </tbody>\n",
       "</table>\n",
       "</div>"
      ],
      "text/plain": [
       "   ID City_Code  Region_Code Accomodation_Type Reco_Insurance_Type  Upper_Age  \\\n",
       "0   1        C3         3213            Rented          Individual         36   \n",
       "1   2        C5         1117             Owned               Joint         75   \n",
       "2   3        C5         3732             Owned          Individual         32   \n",
       "3   4       C24         4378             Owned               Joint         52   \n",
       "4   5        C8         2190            Rented          Individual         44   \n",
       "\n",
       "   Lower_Age Is_Spouse Health Indicator Holding_Policy_Duration  \\\n",
       "0         36        No               X1                     14+   \n",
       "1         22        No               X2                     NaN   \n",
       "2         32        No              NaN                     1.0   \n",
       "3         48        No               X1                     14+   \n",
       "4         44        No               X2                     3.0   \n",
       "\n",
       "   Holding_Policy_Type  Reco_Policy_Cat  Reco_Policy_Premium  Response  \n",
       "0                  3.0               22              11628.0         0  \n",
       "1                  NaN               22              30510.0         0  \n",
       "2                  1.0               19               7450.0         1  \n",
       "3                  3.0               19              17780.0         0  \n",
       "4                  1.0               16              10404.0         0  "
      ]
     },
     "execution_count": 24,
     "metadata": {},
     "output_type": "execute_result"
    }
   ],
   "source": [
    "df.head()"
   ]
  },
  {
   "cell_type": "code",
   "execution_count": 25,
   "metadata": {},
   "outputs": [],
   "source": [
    "# df=df.fillna('')"
   ]
  },
  {
   "cell_type": "code",
   "execution_count": 26,
   "metadata": {},
   "outputs": [],
   "source": [
    "df1=df.copy()"
   ]
  },
  {
   "cell_type": "code",
   "execution_count": 5,
   "metadata": {},
   "outputs": [
    {
     "data": {
      "text/plain": [
       "ID                             0\n",
       "City_Code                      0\n",
       "Region_Code                    0\n",
       "Accomodation_Type              0\n",
       "Reco_Insurance_Type            0\n",
       "Upper_Age                      0\n",
       "Lower_Age                      0\n",
       "Is_Spouse                      0\n",
       "Health Indicator           11691\n",
       "Holding_Policy_Duration    20251\n",
       "Holding_Policy_Type        20251\n",
       "Reco_Policy_Cat                0\n",
       "Reco_Policy_Premium            0\n",
       "Response                       0\n",
       "dtype: int64"
      ]
     },
     "execution_count": 5,
     "metadata": {},
     "output_type": "execute_result"
    }
   ],
   "source": [
    "df.isnull().sum()"
   ]
  },
  {
   "cell_type": "code",
   "execution_count": 6,
   "metadata": {},
   "outputs": [
    {
     "data": {
      "text/plain": [
       "ID                         50882\n",
       "City_Code                     36\n",
       "Region_Code                 5316\n",
       "Accomodation_Type              2\n",
       "Reco_Insurance_Type            2\n",
       "Upper_Age                     58\n",
       "Lower_Age                     60\n",
       "Is_Spouse                      2\n",
       "Health Indicator               9\n",
       "Holding_Policy_Duration       15\n",
       "Holding_Policy_Type            4\n",
       "Reco_Policy_Cat               22\n",
       "Reco_Policy_Premium         6977\n",
       "Response                       2\n",
       "dtype: int64"
      ]
     },
     "execution_count": 6,
     "metadata": {},
     "output_type": "execute_result"
    }
   ],
   "source": [
    "df.T.apply(lambda x: x.nunique(), axis=1)"
   ]
  },
  {
   "cell_type": "code",
   "execution_count": 7,
   "metadata": {},
   "outputs": [
    {
     "name": "stdout",
     "output_type": "stream",
     "text": [
      "<class 'pandas.core.frame.DataFrame'>\n",
      "RangeIndex: 50882 entries, 0 to 50881\n",
      "Data columns (total 14 columns):\n",
      " #   Column                   Non-Null Count  Dtype  \n",
      "---  ------                   --------------  -----  \n",
      " 0   ID                       50882 non-null  int64  \n",
      " 1   City_Code                50882 non-null  object \n",
      " 2   Region_Code              50882 non-null  int64  \n",
      " 3   Accomodation_Type        50882 non-null  object \n",
      " 4   Reco_Insurance_Type      50882 non-null  object \n",
      " 5   Upper_Age                50882 non-null  int64  \n",
      " 6   Lower_Age                50882 non-null  int64  \n",
      " 7   Is_Spouse                50882 non-null  object \n",
      " 8   Health Indicator         39191 non-null  object \n",
      " 9   Holding_Policy_Duration  30631 non-null  object \n",
      " 10  Holding_Policy_Type      30631 non-null  float64\n",
      " 11  Reco_Policy_Cat          50882 non-null  int64  \n",
      " 12  Reco_Policy_Premium      50882 non-null  float64\n",
      " 13  Response                 50882 non-null  int64  \n",
      "dtypes: float64(2), int64(6), object(6)\n",
      "memory usage: 5.4+ MB\n"
     ]
    }
   ],
   "source": [
    "df.info()"
   ]
  },
  {
   "cell_type": "code",
   "execution_count": 49,
   "metadata": {},
   "outputs": [],
   "source": [
    "# df['Holding_Policy_Type']=df['Holding_Policy_Type'].fillna(0)\n",
    "# df['Holding_Policy_Duration']=df['Holding_Policy_Duration'].fillna(0)\n",
    "# df['Health Indicator']=df['Health Indicator'].fillna(0)"
   ]
  },
  {
   "cell_type": "code",
   "execution_count": 27,
   "metadata": {},
   "outputs": [],
   "source": [
    "df['Holding_Policy_Duration']=df['Holding_Policy_Duration'].replace('14+',15)"
   ]
  },
  {
   "cell_type": "code",
   "execution_count": 28,
   "metadata": {},
   "outputs": [],
   "source": [
    "df=df.astype({\"Holding_Policy_Type\":'category', \"Reco_Policy_Cat\":'category',\"City_Code\":'category',\"Accomodation_Type\":'category',\"Reco_Insurance_Type\":'category',\"Holding_Policy_Duration\":'category',\"Is_Spouse\":'category',\"Health Indicator\":'category','Region_Code':'category'})"
   ]
  },
  {
   "cell_type": "code",
   "execution_count": 12,
   "metadata": {},
   "outputs": [
    {
     "name": "stdout",
     "output_type": "stream",
     "text": [
      "<class 'pandas.core.frame.DataFrame'>\n",
      "RangeIndex: 50882 entries, 0 to 50881\n",
      "Data columns (total 14 columns):\n",
      " #   Column                   Non-Null Count  Dtype   \n",
      "---  ------                   --------------  -----   \n",
      " 0   ID                       50882 non-null  int64   \n",
      " 1   City_Code                50882 non-null  category\n",
      " 2   Region_Code              50882 non-null  category\n",
      " 3   Accomodation_Type        50882 non-null  category\n",
      " 4   Reco_Insurance_Type      50882 non-null  category\n",
      " 5   Upper_Age                50882 non-null  int64   \n",
      " 6   Lower_Age                50882 non-null  int64   \n",
      " 7   Is_Spouse                50882 non-null  category\n",
      " 8   Health Indicator         50882 non-null  category\n",
      " 9   Holding_Policy_Duration  50882 non-null  category\n",
      " 10  Holding_Policy_Type      50882 non-null  category\n",
      " 11  Reco_Policy_Cat          50882 non-null  category\n",
      " 12  Reco_Policy_Premium      50882 non-null  float64 \n",
      " 13  Response                 50882 non-null  int64   \n",
      "dtypes: category(9), float64(1), int64(4)\n",
      "memory usage: 2.6 MB\n"
     ]
    }
   ],
   "source": [
    "df.info()"
   ]
  },
  {
   "cell_type": "code",
   "execution_count": 29,
   "metadata": {},
   "outputs": [],
   "source": [
    "#No missing values in num variables\n",
    "num_vars=df.columns[df.dtypes!='category']\n",
    "cat_vars=df.columns[df.dtypes=='category']"
   ]
  },
  {
   "cell_type": "code",
   "execution_count": 49,
   "metadata": {},
   "outputs": [
    {
     "data": {
      "text/plain": [
       "Holding_Policy_Type        20251\n",
       "Holding_Policy_Duration    20251\n",
       "Health Indicator           11691\n",
       "Reco_Policy_Cat                0\n",
       "Is_Spouse                      0\n",
       "Reco_Insurance_Type            0\n",
       "Accomodation_Type              0\n",
       "Region_Code                    0\n",
       "City_Code                      0\n",
       "dtype: int64"
      ]
     },
     "execution_count": 49,
     "metadata": {},
     "output_type": "execute_result"
    }
   ],
   "source": [
    "df1[cat_vars].isnull().sum().sort_values(ascending=False)"
   ]
  },
  {
   "cell_type": "code",
   "execution_count": 48,
   "metadata": {},
   "outputs": [
    {
     "data": {
      "text/plain": [
       "0.0    13010\n",
       "1.0    10332\n",
       "2.0     6762\n",
       "3.0     5743\n",
       "4.0     1727\n",
       "5.0     1280\n",
       "6.0      196\n",
       "7.0       78\n",
       "8.0       63\n",
       "Name: Health Indicator, dtype: int64"
      ]
     },
     "execution_count": 48,
     "metadata": {},
     "output_type": "execute_result"
    }
   ],
   "source": [
    "df2['Health Indicator'].value_counts()"
   ]
  },
  {
   "cell_type": "code",
   "execution_count": 37,
   "metadata": {},
   "outputs": [],
   "source": [
    "df['Health Indicator']=df['Health Indicator'].cat.codes\n",
    "df['Health Indicator']=df['Health Indicator'].replace(-1, np.nan)\n",
    "# df1['Health Indicator'].isnull().sum()"
   ]
  },
  {
   "cell_type": "code",
   "execution_count": 59,
   "metadata": {},
   "outputs": [],
   "source": [
    "df2=pd.get_dummies(df, columns=['City_Code','Accomodation_Type','Reco_Insurance_Type','Is_Spouse'])"
   ]
  },
  {
   "cell_type": "code",
   "execution_count": 62,
   "metadata": {},
   "outputs": [
    {
     "data": {
      "text/html": [
       "<div>\n",
       "<style scoped>\n",
       "    .dataframe tbody tr th:only-of-type {\n",
       "        vertical-align: middle;\n",
       "    }\n",
       "\n",
       "    .dataframe tbody tr th {\n",
       "        vertical-align: top;\n",
       "    }\n",
       "\n",
       "    .dataframe thead th {\n",
       "        text-align: right;\n",
       "    }\n",
       "</style>\n",
       "<table border=\"1\" class=\"dataframe\">\n",
       "  <thead>\n",
       "    <tr style=\"text-align: right;\">\n",
       "      <th></th>\n",
       "      <th>ID</th>\n",
       "      <th>Region_Code</th>\n",
       "      <th>Upper_Age</th>\n",
       "      <th>Lower_Age</th>\n",
       "      <th>Health Indicator</th>\n",
       "      <th>Holding_Policy_Duration</th>\n",
       "      <th>Holding_Policy_Type</th>\n",
       "      <th>Reco_Policy_Cat</th>\n",
       "      <th>Reco_Policy_Premium</th>\n",
       "      <th>Response</th>\n",
       "      <th>...</th>\n",
       "      <th>City_Code_C6</th>\n",
       "      <th>City_Code_C7</th>\n",
       "      <th>City_Code_C8</th>\n",
       "      <th>City_Code_C9</th>\n",
       "      <th>Accomodation_Type_Owned</th>\n",
       "      <th>Accomodation_Type_Rented</th>\n",
       "      <th>Reco_Insurance_Type_Individual</th>\n",
       "      <th>Reco_Insurance_Type_Joint</th>\n",
       "      <th>Is_Spouse_No</th>\n",
       "      <th>Is_Spouse_Yes</th>\n",
       "    </tr>\n",
       "  </thead>\n",
       "  <tbody>\n",
       "    <tr>\n",
       "      <th>0</th>\n",
       "      <td>1</td>\n",
       "      <td>3213</td>\n",
       "      <td>36</td>\n",
       "      <td>36</td>\n",
       "      <td>0.0</td>\n",
       "      <td>15</td>\n",
       "      <td>3.0</td>\n",
       "      <td>22</td>\n",
       "      <td>11628.0</td>\n",
       "      <td>0</td>\n",
       "      <td>...</td>\n",
       "      <td>0</td>\n",
       "      <td>0</td>\n",
       "      <td>0</td>\n",
       "      <td>0</td>\n",
       "      <td>0</td>\n",
       "      <td>1</td>\n",
       "      <td>1</td>\n",
       "      <td>0</td>\n",
       "      <td>1</td>\n",
       "      <td>0</td>\n",
       "    </tr>\n",
       "    <tr>\n",
       "      <th>1</th>\n",
       "      <td>2</td>\n",
       "      <td>1117</td>\n",
       "      <td>75</td>\n",
       "      <td>22</td>\n",
       "      <td>1.0</td>\n",
       "      <td>NaN</td>\n",
       "      <td>NaN</td>\n",
       "      <td>22</td>\n",
       "      <td>30510.0</td>\n",
       "      <td>0</td>\n",
       "      <td>...</td>\n",
       "      <td>0</td>\n",
       "      <td>0</td>\n",
       "      <td>0</td>\n",
       "      <td>0</td>\n",
       "      <td>1</td>\n",
       "      <td>0</td>\n",
       "      <td>0</td>\n",
       "      <td>1</td>\n",
       "      <td>1</td>\n",
       "      <td>0</td>\n",
       "    </tr>\n",
       "    <tr>\n",
       "      <th>2</th>\n",
       "      <td>3</td>\n",
       "      <td>3732</td>\n",
       "      <td>32</td>\n",
       "      <td>32</td>\n",
       "      <td>NaN</td>\n",
       "      <td>1.0</td>\n",
       "      <td>1.0</td>\n",
       "      <td>19</td>\n",
       "      <td>7450.0</td>\n",
       "      <td>1</td>\n",
       "      <td>...</td>\n",
       "      <td>0</td>\n",
       "      <td>0</td>\n",
       "      <td>0</td>\n",
       "      <td>0</td>\n",
       "      <td>1</td>\n",
       "      <td>0</td>\n",
       "      <td>1</td>\n",
       "      <td>0</td>\n",
       "      <td>1</td>\n",
       "      <td>0</td>\n",
       "    </tr>\n",
       "    <tr>\n",
       "      <th>3</th>\n",
       "      <td>4</td>\n",
       "      <td>4378</td>\n",
       "      <td>52</td>\n",
       "      <td>48</td>\n",
       "      <td>0.0</td>\n",
       "      <td>15</td>\n",
       "      <td>3.0</td>\n",
       "      <td>19</td>\n",
       "      <td>17780.0</td>\n",
       "      <td>0</td>\n",
       "      <td>...</td>\n",
       "      <td>0</td>\n",
       "      <td>0</td>\n",
       "      <td>0</td>\n",
       "      <td>0</td>\n",
       "      <td>1</td>\n",
       "      <td>0</td>\n",
       "      <td>0</td>\n",
       "      <td>1</td>\n",
       "      <td>1</td>\n",
       "      <td>0</td>\n",
       "    </tr>\n",
       "    <tr>\n",
       "      <th>4</th>\n",
       "      <td>5</td>\n",
       "      <td>2190</td>\n",
       "      <td>44</td>\n",
       "      <td>44</td>\n",
       "      <td>1.0</td>\n",
       "      <td>3.0</td>\n",
       "      <td>1.0</td>\n",
       "      <td>16</td>\n",
       "      <td>10404.0</td>\n",
       "      <td>0</td>\n",
       "      <td>...</td>\n",
       "      <td>0</td>\n",
       "      <td>0</td>\n",
       "      <td>1</td>\n",
       "      <td>0</td>\n",
       "      <td>0</td>\n",
       "      <td>1</td>\n",
       "      <td>1</td>\n",
       "      <td>0</td>\n",
       "      <td>1</td>\n",
       "      <td>0</td>\n",
       "    </tr>\n",
       "  </tbody>\n",
       "</table>\n",
       "<p>5 rows × 52 columns</p>\n",
       "</div>"
      ],
      "text/plain": [
       "   ID Region_Code  Upper_Age  Lower_Age  Health Indicator  \\\n",
       "0   1        3213         36         36               0.0   \n",
       "1   2        1117         75         22               1.0   \n",
       "2   3        3732         32         32               NaN   \n",
       "3   4        4378         52         48               0.0   \n",
       "4   5        2190         44         44               1.0   \n",
       "\n",
       "  Holding_Policy_Duration Holding_Policy_Type Reco_Policy_Cat  \\\n",
       "0                      15                 3.0              22   \n",
       "1                     NaN                 NaN              22   \n",
       "2                     1.0                 1.0              19   \n",
       "3                      15                 3.0              19   \n",
       "4                     3.0                 1.0              16   \n",
       "\n",
       "   Reco_Policy_Premium  Response  ...  City_Code_C6  City_Code_C7  \\\n",
       "0              11628.0         0  ...             0             0   \n",
       "1              30510.0         0  ...             0             0   \n",
       "2               7450.0         1  ...             0             0   \n",
       "3              17780.0         0  ...             0             0   \n",
       "4              10404.0         0  ...             0             0   \n",
       "\n",
       "   City_Code_C8  City_Code_C9  Accomodation_Type_Owned  \\\n",
       "0             0             0                        0   \n",
       "1             0             0                        1   \n",
       "2             0             0                        1   \n",
       "3             0             0                        1   \n",
       "4             1             0                        0   \n",
       "\n",
       "   Accomodation_Type_Rented  Reco_Insurance_Type_Individual  \\\n",
       "0                         1                               1   \n",
       "1                         0                               0   \n",
       "2                         0                               1   \n",
       "3                         0                               0   \n",
       "4                         1                               1   \n",
       "\n",
       "   Reco_Insurance_Type_Joint  Is_Spouse_No  Is_Spouse_Yes  \n",
       "0                          0             1              0  \n",
       "1                          1             1              0  \n",
       "2                          0             1              0  \n",
       "3                          1             1              0  \n",
       "4                          0             1              0  \n",
       "\n",
       "[5 rows x 52 columns]"
      ]
     },
     "execution_count": 62,
     "metadata": {},
     "output_type": "execute_result"
    }
   ],
   "source": [
    "df2.head()"
   ]
  },
  {
   "cell_type": "code",
   "execution_count": 9,
   "metadata": {},
   "outputs": [],
   "source": [
    "import datawig"
   ]
  },
  {
   "cell_type": "code",
   "execution_count": 16,
   "metadata": {},
   "outputs": [
    {
     "data": {
      "text/plain": [
       "0"
      ]
     },
     "execution_count": 16,
     "metadata": {},
     "output_type": "execute_result"
    }
   ],
   "source": [
    "df['Health Indicator'].isnull().sum()"
   ]
  },
  {
   "cell_type": "code",
   "execution_count": 19,
   "metadata": {},
   "outputs": [
    {
     "data": {
      "text/plain": [
       "Index(['ID', 'Region_Code', 'Upper_Age', 'Lower_Age', 'Health Indicator',\n",
       "       'Holding_Policy_Duration', 'Holding_Policy_Type', 'Reco_Policy_Cat',\n",
       "       'Reco_Policy_Premium', 'Response', 'City_Code_C1', 'City_Code_C10',\n",
       "       'City_Code_C11', 'City_Code_C12', 'City_Code_C13', 'City_Code_C14',\n",
       "       'City_Code_C15', 'City_Code_C16', 'City_Code_C17', 'City_Code_C18',\n",
       "       'City_Code_C19', 'City_Code_C2', 'City_Code_C20', 'City_Code_C21',\n",
       "       'City_Code_C22', 'City_Code_C23', 'City_Code_C24', 'City_Code_C25',\n",
       "       'City_Code_C26', 'City_Code_C27', 'City_Code_C28', 'City_Code_C29',\n",
       "       'City_Code_C3', 'City_Code_C30', 'City_Code_C31', 'City_Code_C32',\n",
       "       'City_Code_C33', 'City_Code_C34', 'City_Code_C35', 'City_Code_C36',\n",
       "       'City_Code_C4', 'City_Code_C5', 'City_Code_C6', 'City_Code_C7',\n",
       "       'City_Code_C8', 'City_Code_C9', 'Accomodation_Type_Owned',\n",
       "       'Accomodation_Type_Rented', 'Reco_Insurance_Type_Individual',\n",
       "       'Reco_Insurance_Type_Joint', 'Is_Spouse_No', 'Is_Spouse_Yes'],\n",
       "      dtype='object')"
      ]
     },
     "execution_count": 19,
     "metadata": {},
     "output_type": "execute_result"
    }
   ],
   "source": [
    "df2.columns"
   ]
  },
  {
   "cell_type": "code",
   "execution_count": 94,
   "metadata": {},
   "outputs": [],
   "source": [
    "from sklearn.impute import SimpleImputer\n",
    "my_imputer = SimpleImputer()\n",
    "data_with_imputed_values = pd.DataFrame(my_imputer.fit_transform(df2))"
   ]
  },
  {
   "cell_type": "code",
   "execution_count": 96,
   "metadata": {},
   "outputs": [],
   "source": [
    "data_with_imputed_values.columns=df2.columns\n",
    "data_with_imputed_values.index=df2.index"
   ]
  },
  {
   "cell_type": "code",
   "execution_count": 73,
   "metadata": {},
   "outputs": [
    {
     "data": {
      "text/plain": [
       "Index(['ID', 'Upper_Age', 'Lower_Age', 'Health Indicator',\n",
       "       'Reco_Policy_Premium', 'Response', 'City_Code_C1', 'City_Code_C10',\n",
       "       'City_Code_C11', 'City_Code_C12', 'City_Code_C13', 'City_Code_C14',\n",
       "       'City_Code_C15', 'City_Code_C16', 'City_Code_C17', 'City_Code_C18',\n",
       "       'City_Code_C19', 'City_Code_C2', 'City_Code_C20', 'City_Code_C21',\n",
       "       'City_Code_C22', 'City_Code_C23', 'City_Code_C24', 'City_Code_C25',\n",
       "       'City_Code_C26', 'City_Code_C27', 'City_Code_C28', 'City_Code_C29',\n",
       "       'City_Code_C3', 'City_Code_C30', 'City_Code_C31', 'City_Code_C32',\n",
       "       'City_Code_C33', 'City_Code_C34', 'City_Code_C35', 'City_Code_C36',\n",
       "       'City_Code_C4', 'City_Code_C5', 'City_Code_C6', 'City_Code_C7',\n",
       "       'City_Code_C8', 'City_Code_C9', 'Accomodation_Type_Owned',\n",
       "       'Accomodation_Type_Rented', 'Reco_Insurance_Type_Individual',\n",
       "       'Reco_Insurance_Type_Joint', 'Is_Spouse_No', 'Is_Spouse_Yes'],\n",
       "      dtype='object')"
      ]
     },
     "execution_count": 73,
     "metadata": {},
     "output_type": "execute_result"
    }
   ],
   "source": [
    "train_HI[train_HI.columns[train_HI.dtypes!='category']].columns"
   ]
  },
  {
   "cell_type": "code",
   "execution_count": 103,
   "metadata": {},
   "outputs": [],
   "source": [
    "# imputer = datawig.SimpleImputer(\n",
    "#     input_columns=['Upper_Age', 'Lower_Age',\n",
    "#        'Reco_Policy_Premium', 'Response', 'City_Code_C1', 'City_Code_C10',\n",
    "#        'City_Code_C11', 'City_Code_C12', 'City_Code_C13', 'City_Code_C14',\n",
    "#        'City_Code_C15', 'City_Code_C16', 'City_Code_C17', 'City_Code_C18',\n",
    "#        'City_Code_C19', 'City_Code_C2', 'City_Code_C20', 'City_Code_C21',\n",
    "#        'City_Code_C22', 'City_Code_C23', 'City_Code_C24', 'City_Code_C25',\n",
    "#        'City_Code_C26', 'City_Code_C27', 'City_Code_C28', 'City_Code_C29',\n",
    "#        'City_Code_C3', 'City_Code_C30', 'City_Code_C31', 'City_Code_C32',\n",
    "#        'City_Code_C33', 'City_Code_C34', 'City_Code_C35', 'City_Code_C36',\n",
    "#        'City_Code_C4', 'City_Code_C5', 'City_Code_C6', 'City_Code_C7',\n",
    "#        'City_Code_C8', 'City_Code_C9', 'Accomodation_Type_Owned',\n",
    "#        'Accomodation_Type_Rented', 'Reco_Insurance_Type_Individual',\n",
    "#        'Reco_Insurance_Type_Joint', 'Is_Spouse_No', 'Is_Spouse_Yes'],\n",
    "    \n",
    "#     output_column='Health Indicator',\n",
    "    \n",
    "#     output_path = 'imputer_model')\n",
    "\n",
    "# #Fit an imputer model on the train data\n",
    "# imputer.fit(train_df=train_HI[train_HI.columns[train_HI.dtypes!='category']])\n",
    "# predictions = imputer.predict(test_HI[test_HI[test_HI.columns[train_HI.dtypes!='category']].columns])"
   ]
  },
  {
   "cell_type": "raw",
   "metadata": {},
   "source": [
    "Note\n",
    "Standardize holding policy type and holding policy duration after prediction"
   ]
  },
  {
   "cell_type": "code",
   "execution_count": 53,
   "metadata": {},
   "outputs": [],
   "source": [
    "df[['Region_Code', 'Upper_Age','Lower_Age','Reco_Policy_Premium','Reco_Policy_Cat',]]=StandardScaler().fit_transform(df[['Region_Code', 'Upper_Age','Lower_Age','Reco_Policy_Premium','Reco_Policy_Cat']])"
   ]
  },
  {
   "cell_type": "code",
   "execution_count": 38,
   "metadata": {},
   "outputs": [
    {
     "data": {
      "text/plain": [
       "City_Code                    36\n",
       "Region_Code                5316\n",
       "Accomodation_Type             2\n",
       "Reco_Insurance_Type           2\n",
       "Is_Spouse                     2\n",
       "Health Indicator              9\n",
       "Holding_Policy_Duration      15\n",
       "Holding_Policy_Type           4\n",
       "Reco_Policy_Cat              22\n",
       "dtype: int64"
      ]
     },
     "execution_count": 38,
     "metadata": {},
     "output_type": "execute_result"
    }
   ],
   "source": [
    "df1[cat_vars].T.apply(lambda x: x.nunique(), axis=1)"
   ]
  },
  {
   "cell_type": "code",
   "execution_count": 39,
   "metadata": {},
   "outputs": [
    {
     "data": {
      "text/plain": [
       "City_Code                    36\n",
       "Region_Code                5316\n",
       "Accomodation_Type             2\n",
       "Reco_Insurance_Type           2\n",
       "Is_Spouse                     2\n",
       "Health Indicator             10\n",
       "Holding_Policy_Duration      16\n",
       "Holding_Policy_Type           5\n",
       "Reco_Policy_Cat              22\n",
       "dtype: int64"
      ]
     },
     "execution_count": 39,
     "metadata": {},
     "output_type": "execute_result"
    }
   ],
   "source": [
    "#Extra one in few cases because null values are filled with 0\n",
    "df[cat_vars].T.apply(lambda x: x.nunique(), axis=1)"
   ]
  },
  {
   "cell_type": "code",
   "execution_count": 204,
   "metadata": {},
   "outputs": [
    {
     "data": {
      "text/html": [
       "<div>\n",
       "<style scoped>\n",
       "    .dataframe tbody tr th:only-of-type {\n",
       "        vertical-align: middle;\n",
       "    }\n",
       "\n",
       "    .dataframe tbody tr th {\n",
       "        vertical-align: top;\n",
       "    }\n",
       "\n",
       "    .dataframe thead th {\n",
       "        text-align: right;\n",
       "    }\n",
       "</style>\n",
       "<table border=\"1\" class=\"dataframe\">\n",
       "  <thead>\n",
       "    <tr style=\"text-align: right;\">\n",
       "      <th></th>\n",
       "      <th>ID</th>\n",
       "      <th>City_Code</th>\n",
       "      <th>Region_Code</th>\n",
       "      <th>Accomodation_Type</th>\n",
       "      <th>Reco_Insurance_Type</th>\n",
       "      <th>Upper_Age</th>\n",
       "      <th>Lower_Age</th>\n",
       "      <th>Is_Spouse</th>\n",
       "      <th>Health Indicator</th>\n",
       "      <th>Holding_Policy_Duration</th>\n",
       "      <th>Holding_Policy_Type</th>\n",
       "      <th>Reco_Policy_Cat</th>\n",
       "      <th>Reco_Policy_Premium</th>\n",
       "      <th>Response</th>\n",
       "    </tr>\n",
       "  </thead>\n",
       "  <tbody>\n",
       "    <tr>\n",
       "      <th>0</th>\n",
       "      <td>1</td>\n",
       "      <td>C3</td>\n",
       "      <td>1.039425</td>\n",
       "      <td>Rented</td>\n",
       "      <td>Individual</td>\n",
       "      <td>-0.511625</td>\n",
       "      <td>-0.389098</td>\n",
       "      <td>No</td>\n",
       "      <td>X1</td>\n",
       "      <td>15</td>\n",
       "      <td>3.0</td>\n",
       "      <td>1.085830</td>\n",
       "      <td>-0.387852</td>\n",
       "      <td>0</td>\n",
       "    </tr>\n",
       "    <tr>\n",
       "      <th>1</th>\n",
       "      <td>2</td>\n",
       "      <td>C5</td>\n",
       "      <td>-0.432415</td>\n",
       "      <td>Owned</td>\n",
       "      <td>Joint</td>\n",
       "      <td>1.741395</td>\n",
       "      <td>-1.197449</td>\n",
       "      <td>No</td>\n",
       "      <td>X2</td>\n",
       "      <td>0</td>\n",
       "      <td>0.0</td>\n",
       "      <td>1.085830</td>\n",
       "      <td>2.477394</td>\n",
       "      <td>0</td>\n",
       "    </tr>\n",
       "    <tr>\n",
       "      <th>2</th>\n",
       "      <td>3</td>\n",
       "      <td>C5</td>\n",
       "      <td>1.403874</td>\n",
       "      <td>Owned</td>\n",
       "      <td>Individual</td>\n",
       "      <td>-0.742704</td>\n",
       "      <td>-0.620055</td>\n",
       "      <td>No</td>\n",
       "      <td>0</td>\n",
       "      <td>1.0</td>\n",
       "      <td>1.0</td>\n",
       "      <td>0.612688</td>\n",
       "      <td>-1.021842</td>\n",
       "      <td>1</td>\n",
       "    </tr>\n",
       "    <tr>\n",
       "      <th>3</th>\n",
       "      <td>4</td>\n",
       "      <td>C24</td>\n",
       "      <td>1.857504</td>\n",
       "      <td>Owned</td>\n",
       "      <td>Joint</td>\n",
       "      <td>0.412691</td>\n",
       "      <td>0.303775</td>\n",
       "      <td>No</td>\n",
       "      <td>X1</td>\n",
       "      <td>15</td>\n",
       "      <td>3.0</td>\n",
       "      <td>0.612688</td>\n",
       "      <td>0.545682</td>\n",
       "      <td>0</td>\n",
       "    </tr>\n",
       "    <tr>\n",
       "      <th>4</th>\n",
       "      <td>5</td>\n",
       "      <td>C8</td>\n",
       "      <td>0.321060</td>\n",
       "      <td>Rented</td>\n",
       "      <td>Individual</td>\n",
       "      <td>-0.049467</td>\n",
       "      <td>0.072817</td>\n",
       "      <td>No</td>\n",
       "      <td>X2</td>\n",
       "      <td>3.0</td>\n",
       "      <td>1.0</td>\n",
       "      <td>0.139547</td>\n",
       "      <td>-0.573588</td>\n",
       "      <td>0</td>\n",
       "    </tr>\n",
       "  </tbody>\n",
       "</table>\n",
       "</div>"
      ],
      "text/plain": [
       "   ID City_Code  Region_Code Accomodation_Type Reco_Insurance_Type  Upper_Age  \\\n",
       "0   1        C3     1.039425            Rented          Individual  -0.511625   \n",
       "1   2        C5    -0.432415             Owned               Joint   1.741395   \n",
       "2   3        C5     1.403874             Owned          Individual  -0.742704   \n",
       "3   4       C24     1.857504             Owned               Joint   0.412691   \n",
       "4   5        C8     0.321060            Rented          Individual  -0.049467   \n",
       "\n",
       "   Lower_Age Is_Spouse Health Indicator Holding_Policy_Duration  \\\n",
       "0  -0.389098        No               X1                      15   \n",
       "1  -1.197449        No               X2                       0   \n",
       "2  -0.620055        No                0                     1.0   \n",
       "3   0.303775        No               X1                      15   \n",
       "4   0.072817        No               X2                     3.0   \n",
       "\n",
       "  Holding_Policy_Type  Reco_Policy_Cat  Reco_Policy_Premium  Response  \n",
       "0                 3.0         1.085830            -0.387852         0  \n",
       "1                 0.0         1.085830             2.477394         0  \n",
       "2                 1.0         0.612688            -1.021842         1  \n",
       "3                 3.0         0.612688             0.545682         0  \n",
       "4                 1.0         0.139547            -0.573588         0  "
      ]
     },
     "execution_count": 204,
     "metadata": {},
     "output_type": "execute_result"
    }
   ],
   "source": [
    "df.head()"
   ]
  },
  {
   "cell_type": "code",
   "execution_count": 203,
   "metadata": {},
   "outputs": [
    {
     "data": {
      "text/plain": [
       "Index(['ID', 'City_Code', 'Region_Code', 'Accomodation_Type',\n",
       "       'Reco_Insurance_Type', 'Upper_Age', 'Lower_Age', 'Is_Spouse',\n",
       "       'Health Indicator', 'Holding_Policy_Duration', 'Holding_Policy_Type',\n",
       "       'Reco_Policy_Cat', 'Reco_Policy_Premium', 'Response'],\n",
       "      dtype='object')"
      ]
     },
     "execution_count": 203,
     "metadata": {},
     "output_type": "execute_result"
    }
   ],
   "source": [
    "df.columns"
   ]
  },
  {
   "cell_type": "code",
   "execution_count": 208,
   "metadata": {},
   "outputs": [],
   "source": []
  },
  {
   "cell_type": "code",
   "execution_count": 207,
   "metadata": {},
   "outputs": [
    {
     "data": {
      "text/plain": [
       "Index(['ID', 'Region_Code', 'Upper_Age', 'Lower_Age', 'Health Indicator',\n",
       "       'Holding_Policy_Duration', 'Holding_Policy_Type', 'Reco_Policy_Cat',\n",
       "       'Reco_Policy_Premium', 'Response', 'City_Code_C1', 'City_Code_C10',\n",
       "       'City_Code_C11', 'City_Code_C12', 'City_Code_C13', 'City_Code_C14',\n",
       "       'City_Code_C15', 'City_Code_C16', 'City_Code_C17', 'City_Code_C18',\n",
       "       'City_Code_C19', 'City_Code_C2', 'City_Code_C20', 'City_Code_C21',\n",
       "       'City_Code_C22', 'City_Code_C23', 'City_Code_C24', 'City_Code_C25',\n",
       "       'City_Code_C26', 'City_Code_C27', 'City_Code_C28', 'City_Code_C29',\n",
       "       'City_Code_C3', 'City_Code_C30', 'City_Code_C31', 'City_Code_C32',\n",
       "       'City_Code_C33', 'City_Code_C34', 'City_Code_C35', 'City_Code_C36',\n",
       "       'City_Code_C4', 'City_Code_C5', 'City_Code_C6', 'City_Code_C7',\n",
       "       'City_Code_C8', 'City_Code_C9', 'Accomodation_Type_Owned',\n",
       "       'Accomodation_Type_Rented', 'Reco_Insurance_Type_Individual',\n",
       "       'Reco_Insurance_Type_Joint', 'Is_Spouse_No', 'Is_Spouse_Yes'],\n",
       "      dtype='object')"
      ]
     },
     "execution_count": 207,
     "metadata": {},
     "output_type": "execute_result"
    }
   ],
   "source": [
    "df2.columns"
   ]
  },
  {
   "cell_type": "code",
   "execution_count": null,
   "metadata": {},
   "outputs": [],
   "source": []
  },
  {
   "cell_type": "code",
   "execution_count": null,
   "metadata": {},
   "outputs": [],
   "source": []
  },
  {
   "cell_type": "code",
   "execution_count": null,
   "metadata": {},
   "outputs": [],
   "source": []
  },
  {
   "cell_type": "code",
   "execution_count": 54,
   "metadata": {},
   "outputs": [],
   "source": [
    "df.to_csv(r'C:\\Users\\aditya_jyoti\\Documents\\Docs\\Hackathon\\Pre_process1.csv')"
   ]
  },
  {
   "cell_type": "code",
   "execution_count": 56,
   "metadata": {},
   "outputs": [
    {
     "name": "stdout",
     "output_type": "stream",
     "text": [
      "Holding_Policy_Type-----> [3.0, 0.0, 1.0, 4.0, 2.0]\n",
      "Categories (5, float64): [3.0, 0.0, 1.0, 4.0, 2.0]\n",
      "Holding_Policy_Duration-----> [15, 0, 1.0, 3.0, 5.0, ..., 8.0, 6.0, 4.0, 13.0, 12.0]\n",
      "Length: 16\n",
      "Categories (16, object): [15, 0, 1.0, 3.0, ..., 6.0, 4.0, 13.0, 12.0]\n",
      "Health Indicator-----> [X1, X2, 0, X4, X3, X6, X5, X8, X7, X9]\n",
      "Categories (10, object): [X1, X2, 0, X4, ..., X5, X8, X7, X9]\n"
     ]
    }
   ],
   "source": [
    "print('Holding_Policy_Type----->', df['Holding_Policy_Type'].unique())\n",
    "print('Holding_Policy_Duration----->', df['Holding_Policy_Duration'].unique())\n",
    "print('Health Indicator----->', df['Health Indicator'].unique())"
   ]
  },
  {
   "cell_type": "code",
   "execution_count": 57,
   "metadata": {},
   "outputs": [],
   "source": [
    "train_HPT=df[~(df['Holding_Policy_Type']==0)]\n",
    "test_HPT=df[(df['Holding_Policy_Type']==0)]"
   ]
  },
  {
   "cell_type": "code",
   "execution_count": 62,
   "metadata": {},
   "outputs": [
    {
     "data": {
      "text/plain": [
       "(30631, 12)"
      ]
     },
     "execution_count": 62,
     "metadata": {},
     "output_type": "execute_result"
    }
   ],
   "source": [
    "train_HPT.shape"
   ]
  },
  {
   "cell_type": "code",
   "execution_count": 58,
   "metadata": {},
   "outputs": [],
   "source": [
    "train_HPD=df[~(df['Holding_Policy_Duration']==0)]\n",
    "test_HPD=df[(df['Holding_Policy_Duration']==0)]"
   ]
  },
  {
   "cell_type": "code",
   "execution_count": 101,
   "metadata": {},
   "outputs": [],
   "source": [
    "train_HI=df[~(df['Health Indicator']==0)]\n",
    "test_HI=df[(df['Health Indicator']==0)]"
   ]
  },
  {
   "cell_type": "code",
   "execution_count": null,
   "metadata": {},
   "outputs": [],
   "source": [
    "train_HPT[cat_vars].head()"
   ]
  },
  {
   "cell_type": "markdown",
   "metadata": {},
   "source": [
    "# Train_HI & Test_HI"
   ]
  },
  {
   "cell_type": "code",
   "execution_count": 102,
   "metadata": {},
   "outputs": [],
   "source": [
    "train_HI=train_HI.drop(['Holding_Policy_Duration','Holding_Policy_Type'],axis=1)"
   ]
  },
  {
   "cell_type": "code",
   "execution_count": 103,
   "metadata": {},
   "outputs": [
    {
     "data": {
      "text/html": [
       "<div>\n",
       "<style scoped>\n",
       "    .dataframe tbody tr th:only-of-type {\n",
       "        vertical-align: middle;\n",
       "    }\n",
       "\n",
       "    .dataframe tbody tr th {\n",
       "        vertical-align: top;\n",
       "    }\n",
       "\n",
       "    .dataframe thead th {\n",
       "        text-align: right;\n",
       "    }\n",
       "</style>\n",
       "<table border=\"1\" class=\"dataframe\">\n",
       "  <thead>\n",
       "    <tr style=\"text-align: right;\">\n",
       "      <th></th>\n",
       "      <th>ID</th>\n",
       "      <th>City_Code</th>\n",
       "      <th>Region_Code</th>\n",
       "      <th>Accomodation_Type</th>\n",
       "      <th>Reco_Insurance_Type</th>\n",
       "      <th>Upper_Age</th>\n",
       "      <th>Lower_Age</th>\n",
       "      <th>Is_Spouse</th>\n",
       "      <th>Health Indicator</th>\n",
       "      <th>Reco_Policy_Cat</th>\n",
       "      <th>Reco_Policy_Premium</th>\n",
       "      <th>Response</th>\n",
       "    </tr>\n",
       "  </thead>\n",
       "  <tbody>\n",
       "    <tr>\n",
       "      <th>0</th>\n",
       "      <td>1</td>\n",
       "      <td>C3</td>\n",
       "      <td>1.039425</td>\n",
       "      <td>Rented</td>\n",
       "      <td>Individual</td>\n",
       "      <td>-0.511625</td>\n",
       "      <td>-0.389098</td>\n",
       "      <td>No</td>\n",
       "      <td>X1</td>\n",
       "      <td>1.085830</td>\n",
       "      <td>-0.387852</td>\n",
       "      <td>0</td>\n",
       "    </tr>\n",
       "    <tr>\n",
       "      <th>1</th>\n",
       "      <td>2</td>\n",
       "      <td>C5</td>\n",
       "      <td>-0.432415</td>\n",
       "      <td>Owned</td>\n",
       "      <td>Joint</td>\n",
       "      <td>1.741395</td>\n",
       "      <td>-1.197449</td>\n",
       "      <td>No</td>\n",
       "      <td>X2</td>\n",
       "      <td>1.085830</td>\n",
       "      <td>2.477394</td>\n",
       "      <td>0</td>\n",
       "    </tr>\n",
       "    <tr>\n",
       "      <th>3</th>\n",
       "      <td>4</td>\n",
       "      <td>C24</td>\n",
       "      <td>1.857504</td>\n",
       "      <td>Owned</td>\n",
       "      <td>Joint</td>\n",
       "      <td>0.412691</td>\n",
       "      <td>0.303775</td>\n",
       "      <td>No</td>\n",
       "      <td>X1</td>\n",
       "      <td>0.612688</td>\n",
       "      <td>0.545682</td>\n",
       "      <td>0</td>\n",
       "    </tr>\n",
       "    <tr>\n",
       "      <th>4</th>\n",
       "      <td>5</td>\n",
       "      <td>C8</td>\n",
       "      <td>0.321060</td>\n",
       "      <td>Rented</td>\n",
       "      <td>Individual</td>\n",
       "      <td>-0.049467</td>\n",
       "      <td>0.072817</td>\n",
       "      <td>No</td>\n",
       "      <td>X2</td>\n",
       "      <td>0.139547</td>\n",
       "      <td>-0.573588</td>\n",
       "      <td>0</td>\n",
       "    </tr>\n",
       "    <tr>\n",
       "      <th>5</th>\n",
       "      <td>6</td>\n",
       "      <td>C9</td>\n",
       "      <td>0.036663</td>\n",
       "      <td>Rented</td>\n",
       "      <td>Individual</td>\n",
       "      <td>0.412691</td>\n",
       "      <td>0.534732</td>\n",
       "      <td>No</td>\n",
       "      <td>X2</td>\n",
       "      <td>1.085830</td>\n",
       "      <td>0.163892</td>\n",
       "      <td>1</td>\n",
       "    </tr>\n",
       "  </tbody>\n",
       "</table>\n",
       "</div>"
      ],
      "text/plain": [
       "   ID City_Code  Region_Code Accomodation_Type Reco_Insurance_Type  Upper_Age  \\\n",
       "0   1        C3     1.039425            Rented          Individual  -0.511625   \n",
       "1   2        C5    -0.432415             Owned               Joint   1.741395   \n",
       "3   4       C24     1.857504             Owned               Joint   0.412691   \n",
       "4   5        C8     0.321060            Rented          Individual  -0.049467   \n",
       "5   6        C9     0.036663            Rented          Individual   0.412691   \n",
       "\n",
       "   Lower_Age Is_Spouse Health Indicator  Reco_Policy_Cat  Reco_Policy_Premium  \\\n",
       "0  -0.389098        No               X1         1.085830            -0.387852   \n",
       "1  -1.197449        No               X2         1.085830             2.477394   \n",
       "3   0.303775        No               X1         0.612688             0.545682   \n",
       "4   0.072817        No               X2         0.139547            -0.573588   \n",
       "5   0.534732        No               X2         1.085830             0.163892   \n",
       "\n",
       "   Response  \n",
       "0         0  \n",
       "1         0  \n",
       "3         0  \n",
       "4         0  \n",
       "5         1  "
      ]
     },
     "execution_count": 103,
     "metadata": {},
     "output_type": "execute_result"
    }
   ],
   "source": [
    "train_HI.head()"
   ]
  },
  {
   "cell_type": "code",
   "execution_count": 104,
   "metadata": {},
   "outputs": [],
   "source": [
    "train_HI=pd.get_dummies(train_HI, columns=['City_Code','Accomodation_Type','Reco_Insurance_Type','Is_Spouse'])"
   ]
  },
  {
   "cell_type": "code",
   "execution_count": 105,
   "metadata": {},
   "outputs": [],
   "source": [
    "test_HI=test_HI.drop(['Holding_Policy_Duration','Holding_Policy_Type'],axis=1)"
   ]
  },
  {
   "cell_type": "code",
   "execution_count": 106,
   "metadata": {},
   "outputs": [],
   "source": [
    "test_HI=pd.get_dummies(test_HI, columns=['City_Code','Accomodation_Type','Reco_Insurance_Type','Is_Spouse'])"
   ]
  },
  {
   "cell_type": "code",
   "execution_count": 122,
   "metadata": {},
   "outputs": [],
   "source": [
    "X=train_HI.loc[:, train_HI.columns != 'ID']\n",
    "y=train_HI['Health Indicator']"
   ]
  },
  {
   "cell_type": "code",
   "execution_count": 125,
   "metadata": {},
   "outputs": [
    {
     "name": "stderr",
     "output_type": "stream",
     "text": [
      "C:\\Python\\lib\\site-packages\\pandas\\core\\frame.py:3997: SettingWithCopyWarning: \n",
      "A value is trying to be set on a copy of a slice from a DataFrame\n",
      "\n",
      "See the caveats in the documentation: https://pandas.pydata.org/pandas-docs/stable/user_guide/indexing.html#returning-a-view-versus-a-copy\n",
      "  errors=errors,\n"
     ]
    }
   ],
   "source": [
    "X.drop(columns=['Health Indicator'],inplace=True)"
   ]
  },
  {
   "cell_type": "code",
   "execution_count": 126,
   "metadata": {},
   "outputs": [],
   "source": [
    "X_train, X_test, y_train, y_test = train_test_split(X,y, test_size=0.2, random_state=100)"
   ]
  },
  {
   "cell_type": "code",
   "execution_count": 127,
   "metadata": {},
   "outputs": [
    {
     "data": {
      "text/html": [
       "<div>\n",
       "<style scoped>\n",
       "    .dataframe tbody tr th:only-of-type {\n",
       "        vertical-align: middle;\n",
       "    }\n",
       "\n",
       "    .dataframe tbody tr th {\n",
       "        vertical-align: top;\n",
       "    }\n",
       "\n",
       "    .dataframe thead th {\n",
       "        text-align: right;\n",
       "    }\n",
       "</style>\n",
       "<table border=\"1\" class=\"dataframe\">\n",
       "  <thead>\n",
       "    <tr style=\"text-align: right;\">\n",
       "      <th></th>\n",
       "      <th>Region_Code</th>\n",
       "      <th>Upper_Age</th>\n",
       "      <th>Lower_Age</th>\n",
       "      <th>Reco_Policy_Cat</th>\n",
       "      <th>Reco_Policy_Premium</th>\n",
       "      <th>Response</th>\n",
       "      <th>City_Code_C1</th>\n",
       "      <th>City_Code_C10</th>\n",
       "      <th>City_Code_C11</th>\n",
       "      <th>City_Code_C12</th>\n",
       "      <th>...</th>\n",
       "      <th>City_Code_C6</th>\n",
       "      <th>City_Code_C7</th>\n",
       "      <th>City_Code_C8</th>\n",
       "      <th>City_Code_C9</th>\n",
       "      <th>Accomodation_Type_Owned</th>\n",
       "      <th>Accomodation_Type_Rented</th>\n",
       "      <th>Reco_Insurance_Type_Individual</th>\n",
       "      <th>Reco_Insurance_Type_Joint</th>\n",
       "      <th>Is_Spouse_No</th>\n",
       "      <th>Is_Spouse_Yes</th>\n",
       "    </tr>\n",
       "  </thead>\n",
       "  <tbody>\n",
       "    <tr>\n",
       "      <th>20966</th>\n",
       "      <td>-0.677488</td>\n",
       "      <td>-0.396085</td>\n",
       "      <td>-0.273619</td>\n",
       "      <td>0.297261</td>\n",
       "      <td>-0.676167</td>\n",
       "      <td>0</td>\n",
       "      <td>0</td>\n",
       "      <td>0</td>\n",
       "      <td>0</td>\n",
       "      <td>0</td>\n",
       "      <td>...</td>\n",
       "      <td>0</td>\n",
       "      <td>0</td>\n",
       "      <td>0</td>\n",
       "      <td>0</td>\n",
       "      <td>1</td>\n",
       "      <td>0</td>\n",
       "      <td>1</td>\n",
       "      <td>0</td>\n",
       "      <td>1</td>\n",
       "      <td>0</td>\n",
       "    </tr>\n",
       "    <tr>\n",
       "      <th>14679</th>\n",
       "      <td>-1.093199</td>\n",
       "      <td>0.817079</td>\n",
       "      <td>0.938908</td>\n",
       "      <td>0.139547</td>\n",
       "      <td>-0.279810</td>\n",
       "      <td>1</td>\n",
       "      <td>0</td>\n",
       "      <td>0</td>\n",
       "      <td>0</td>\n",
       "      <td>0</td>\n",
       "      <td>...</td>\n",
       "      <td>0</td>\n",
       "      <td>0</td>\n",
       "      <td>0</td>\n",
       "      <td>0</td>\n",
       "      <td>0</td>\n",
       "      <td>1</td>\n",
       "      <td>1</td>\n",
       "      <td>0</td>\n",
       "      <td>1</td>\n",
       "      <td>0</td>\n",
       "    </tr>\n",
       "    <tr>\n",
       "      <th>2269</th>\n",
       "      <td>-0.867086</td>\n",
       "      <td>0.932619</td>\n",
       "      <td>0.996647</td>\n",
       "      <td>0.297261</td>\n",
       "      <td>1.119277</td>\n",
       "      <td>0</td>\n",
       "      <td>0</td>\n",
       "      <td>0</td>\n",
       "      <td>0</td>\n",
       "      <td>0</td>\n",
       "      <td>...</td>\n",
       "      <td>0</td>\n",
       "      <td>0</td>\n",
       "      <td>0</td>\n",
       "      <td>0</td>\n",
       "      <td>1</td>\n",
       "      <td>0</td>\n",
       "      <td>0</td>\n",
       "      <td>1</td>\n",
       "      <td>0</td>\n",
       "      <td>1</td>\n",
       "    </tr>\n",
       "    <tr>\n",
       "      <th>50484</th>\n",
       "      <td>-1.183784</td>\n",
       "      <td>1.163698</td>\n",
       "      <td>1.285344</td>\n",
       "      <td>1.085830</td>\n",
       "      <td>1.105924</td>\n",
       "      <td>0</td>\n",
       "      <td>0</td>\n",
       "      <td>0</td>\n",
       "      <td>0</td>\n",
       "      <td>0</td>\n",
       "      <td>...</td>\n",
       "      <td>0</td>\n",
       "      <td>0</td>\n",
       "      <td>0</td>\n",
       "      <td>0</td>\n",
       "      <td>1</td>\n",
       "      <td>0</td>\n",
       "      <td>1</td>\n",
       "      <td>0</td>\n",
       "      <td>1</td>\n",
       "      <td>0</td>\n",
       "    </tr>\n",
       "    <tr>\n",
       "      <th>20562</th>\n",
       "      <td>-1.010337</td>\n",
       "      <td>-1.204862</td>\n",
       "      <td>-1.081970</td>\n",
       "      <td>0.454975</td>\n",
       "      <td>-0.799081</td>\n",
       "      <td>1</td>\n",
       "      <td>0</td>\n",
       "      <td>0</td>\n",
       "      <td>0</td>\n",
       "      <td>0</td>\n",
       "      <td>...</td>\n",
       "      <td>0</td>\n",
       "      <td>0</td>\n",
       "      <td>0</td>\n",
       "      <td>0</td>\n",
       "      <td>0</td>\n",
       "      <td>1</td>\n",
       "      <td>1</td>\n",
       "      <td>0</td>\n",
       "      <td>1</td>\n",
       "      <td>0</td>\n",
       "    </tr>\n",
       "  </tbody>\n",
       "</table>\n",
       "<p>5 rows × 48 columns</p>\n",
       "</div>"
      ],
      "text/plain": [
       "       Region_Code  Upper_Age  Lower_Age  Reco_Policy_Cat  \\\n",
       "20966    -0.677488  -0.396085  -0.273619         0.297261   \n",
       "14679    -1.093199   0.817079   0.938908         0.139547   \n",
       "2269     -0.867086   0.932619   0.996647         0.297261   \n",
       "50484    -1.183784   1.163698   1.285344         1.085830   \n",
       "20562    -1.010337  -1.204862  -1.081970         0.454975   \n",
       "\n",
       "       Reco_Policy_Premium  Response  City_Code_C1  City_Code_C10  \\\n",
       "20966            -0.676167         0             0              0   \n",
       "14679            -0.279810         1             0              0   \n",
       "2269              1.119277         0             0              0   \n",
       "50484             1.105924         0             0              0   \n",
       "20562            -0.799081         1             0              0   \n",
       "\n",
       "       City_Code_C11  City_Code_C12  ...  City_Code_C6  City_Code_C7  \\\n",
       "20966              0              0  ...             0             0   \n",
       "14679              0              0  ...             0             0   \n",
       "2269               0              0  ...             0             0   \n",
       "50484              0              0  ...             0             0   \n",
       "20562              0              0  ...             0             0   \n",
       "\n",
       "       City_Code_C8  City_Code_C9  Accomodation_Type_Owned  \\\n",
       "20966             0             0                        1   \n",
       "14679             0             0                        0   \n",
       "2269              0             0                        1   \n",
       "50484             0             0                        1   \n",
       "20562             0             0                        0   \n",
       "\n",
       "       Accomodation_Type_Rented  Reco_Insurance_Type_Individual  \\\n",
       "20966                         0                               1   \n",
       "14679                         1                               1   \n",
       "2269                          0                               0   \n",
       "50484                         0                               1   \n",
       "20562                         1                               1   \n",
       "\n",
       "       Reco_Insurance_Type_Joint  Is_Spouse_No  Is_Spouse_Yes  \n",
       "20966                          0             1              0  \n",
       "14679                          0             1              0  \n",
       "2269                           1             0              1  \n",
       "50484                          0             1              0  \n",
       "20562                          0             1              0  \n",
       "\n",
       "[5 rows x 48 columns]"
      ]
     },
     "execution_count": 127,
     "metadata": {},
     "output_type": "execute_result"
    }
   ],
   "source": [
    "X_train.head()"
   ]
  },
  {
   "cell_type": "code",
   "execution_count": 165,
   "metadata": {},
   "outputs": [],
   "source": [
    "encoder = preprocessing.LabelEncoder()\n",
    "train_y = encoder.fit_transform(y_train)\n",
    "test_y = encoder.fit_transform(y_test)"
   ]
  },
  {
   "cell_type": "code",
   "execution_count": 197,
   "metadata": {},
   "outputs": [],
   "source": [
    "strategy = {5:2000,6:2000,7:2000, 8:5000}\n",
    "sm = SMOTE(sampling_strategy=strategy)\n",
    "X_train_sm, y_train_sm = sm.fit_resample(X_new, y_n)"
   ]
  },
  {
   "cell_type": "code",
   "execution_count": 118,
   "metadata": {},
   "outputs": [
    {
     "data": {
      "text/plain": [
       "array([0, 0, 0, ..., 0, 1, 0])"
      ]
     },
     "execution_count": 118,
     "metadata": {},
     "output_type": "execute_result"
    }
   ],
   "source": [
    "train_y"
   ]
  },
  {
   "cell_type": "code",
   "execution_count": 115,
   "metadata": {},
   "outputs": [
    {
     "name": "stdout",
     "output_type": "stream",
     "text": [
      "[[    0 10407]\n",
      " [    1  8263]\n",
      " [    2  5433]\n",
      " [    3  4587]\n",
      " [    4  1383]\n",
      " [    5  1013]\n",
      " [    6   163]\n",
      " [    7    54]\n",
      " [    8    49]]\n"
     ]
    }
   ],
   "source": [
    "unique, counts = np.unique(train_y, return_counts=True)\n",
    "print(np.asarray((unique, counts)).T)"
   ]
  },
  {
   "cell_type": "code",
   "execution_count": 201,
   "metadata": {},
   "outputs": [
    {
     "name": "stdout",
     "output_type": "stream",
     "text": [
      "0.28217884934302845\n"
     ]
    }
   ],
   "source": [
    "from sklearn.ensemble import RandomForestClassifier\n",
    "weights = {1:1,1:2, 2:4, 3:6, 4:10,5:8, 6:10, 7:12, 8:15}\n",
    "rndmf = RandomForestClassifier(n_estimators=500,class_weight=weights)\n",
    "rndmf.fit(X_train_sm, y_train_sm)\n",
    "y_pred1 = rndmf.predict(X_test)\n",
    "accuracy_rndmf = metrics.accuracy_score(test_y,y_pred1)\n",
    "print(accuracy_rndmf)"
   ]
  },
  {
   "cell_type": "code",
   "execution_count": 202,
   "metadata": {},
   "outputs": [
    {
     "name": "stdout",
     "output_type": "stream",
     "text": [
      "              precision    recall  f1-score   support\n",
      "\n",
      "           0       0.34      0.51      0.41      2603\n",
      "           1       0.27      0.29      0.28      2069\n",
      "           2       0.21      0.13      0.16      1329\n",
      "           3       0.17      0.08      0.11      1156\n",
      "           4       0.09      0.02      0.04       344\n",
      "           5       0.06      0.02      0.03       267\n",
      "           6       0.00      0.00      0.00        33\n",
      "           7       0.00      0.00      0.00        24\n",
      "           8       0.00      0.00      0.00        14\n",
      "\n",
      "    accuracy                           0.28      7839\n",
      "   macro avg       0.13      0.12      0.11      7839\n",
      "weighted avg       0.25      0.28      0.26      7839\n",
      "\n"
     ]
    }
   ],
   "source": [
    "report = classification_report(test_y,y_pred1)\n",
    "print(report)"
   ]
  },
  {
   "cell_type": "code",
   "execution_count": 173,
   "metadata": {},
   "outputs": [
    {
     "name": "stdout",
     "output_type": "stream",
     "text": [
      "0.3247863247863248\n"
     ]
    }
   ],
   "source": [
    "from sklearn.ensemble import GradientBoostingClassifier\n",
    "gb = GradientBoostingClassifier(n_estimators=600)\n",
    "gb.fit(np.array(X_train), train_y)\n",
    "y_pred1 = gb.predict(X_test)\n",
    "accuracy_gb = metrics.accuracy_score(test_y,y_pred1)\n",
    "print(accuracy_gb)"
   ]
  },
  {
   "cell_type": "code",
   "execution_count": 189,
   "metadata": {},
   "outputs": [
    {
     "name": "stdout",
     "output_type": "stream",
     "text": [
      "              precision    recall  f1-score   support\n",
      "\n",
      "           0       0.34      0.86      0.49      2603\n",
      "           1       0.29      0.17      0.21      2069\n",
      "           2       0.00      0.00      0.00      1329\n",
      "           3       0.00      0.00      0.00      1156\n",
      "           4       0.00      0.00      0.00       344\n",
      "           5       0.00      0.00      0.00       267\n",
      "           6       0.00      0.00      0.00        33\n",
      "           7       0.00      0.00      0.00        24\n",
      "           8       0.00      0.00      0.00        14\n",
      "\n",
      "    accuracy                           0.33      7839\n",
      "   macro avg       0.07      0.11      0.08      7839\n",
      "weighted avg       0.19      0.33      0.22      7839\n",
      "\n"
     ]
    }
   ],
   "source": [
    "report = classification_report(test_y,y_pred1)\n",
    "print(report)"
   ]
  },
  {
   "cell_type": "code",
   "execution_count": 155,
   "metadata": {},
   "outputs": [
    {
     "name": "stdout",
     "output_type": "stream",
     "text": [
      "Collecting xgboost\n",
      "  Downloading xgboost-1.3.3-py3-none-win_amd64.whl (95.2 MB)\n",
      "Requirement already satisfied: scipy in c:\\python\\lib\\site-packages (from xgboost) (1.4.1)\n",
      "Requirement already satisfied: numpy in c:\\python\\lib\\site-packages (from xgboost) (1.18.1)\n",
      "Installing collected packages: xgboost\n",
      "Successfully installed xgboost-1.3.3\n"
     ]
    }
   ],
   "source": [
    "!pip install xgboost"
   ]
  },
  {
   "cell_type": "code",
   "execution_count": 157,
   "metadata": {},
   "outputs": [],
   "source": [
    "from sklearn.multiclass import OneVsRestClassifier"
   ]
  },
  {
   "cell_type": "code",
   "execution_count": null,
   "metadata": {},
   "outputs": [],
   "source": [
    "# fit model no training data\n",
    "from xgboost import XGBClassifier\n",
    "xgb_classifier = OneVsRestClassifier(XGBClassifier())\n",
    "xgb_classifier.fit(X_train, train_y)\n",
    "y_pred1 = xgb_classifier.predict(X_test)\n",
    "accuracy_xgb = metrics.accuracy_score(test_y,y_pred1)\n",
    "print(accuracy_xgb)"
   ]
  },
  {
   "cell_type": "code",
   "execution_count": 187,
   "metadata": {},
   "outputs": [
    {
     "name": "stdout",
     "output_type": "stream",
     "text": [
      "0.330654420206659\n"
     ]
    }
   ],
   "source": [
    "from sklearn.svm import SVC\n",
    "svm_classifier = SVC(decision_function_shape='ovr')\n",
    "svm_classifier.fit(np.array(X_train), train_y)\n",
    "y_pred1 = svm_classifier.predict(X_test)\n",
    "accuracy_svm = metrics.accuracy_score(test_y,y_pred1)\n",
    "print(accuracy_svm)"
   ]
  },
  {
   "cell_type": "code",
   "execution_count": 188,
   "metadata": {},
   "outputs": [
    {
     "name": "stdout",
     "output_type": "stream",
     "text": [
      "              precision    recall  f1-score   support\n",
      "\n",
      "           0       0.34      0.86      0.49      2603\n",
      "           1       0.29      0.17      0.21      2069\n",
      "           2       0.00      0.00      0.00      1329\n",
      "           3       0.00      0.00      0.00      1156\n",
      "           4       0.00      0.00      0.00       344\n",
      "           5       0.00      0.00      0.00       267\n",
      "           6       0.00      0.00      0.00        33\n",
      "           7       0.00      0.00      0.00        24\n",
      "           8       0.00      0.00      0.00        14\n",
      "\n",
      "    accuracy                           0.33      7839\n",
      "   macro avg       0.07      0.11      0.08      7839\n",
      "weighted avg       0.19      0.33      0.22      7839\n",
      "\n"
     ]
    },
    {
     "name": "stderr",
     "output_type": "stream",
     "text": [
      "C:\\Python\\lib\\site-packages\\sklearn\\metrics\\_classification.py:1272: UndefinedMetricWarning: Precision and F-score are ill-defined and being set to 0.0 in labels with no predicted samples. Use `zero_division` parameter to control this behavior.\n",
      "  _warn_prf(average, modifier, msg_start, len(result))\n"
     ]
    }
   ],
   "source": [
    "report = classification_report(test_y,y_pred1)\n",
    "print(report)"
   ]
  },
  {
   "cell_type": "code",
   "execution_count": 161,
   "metadata": {},
   "outputs": [
    {
     "name": "stdout",
     "output_type": "stream",
     "text": [
      "0.24913892078071181\n"
     ]
    }
   ],
   "source": [
    "from sklearn.neural_network import MLPClassifier\n",
    "snn_classifier = MLPClassifier()\n",
    "dnns_classifier = OneVsRestClassifier(MLPClassifier(hidden_layer_sizes = [100]*5))\n",
    "dnns_classifier.fit(np.array(X_train), train_y)\n",
    "y_pred1 = dnns_classifier.predict(X_test)\n",
    "accuracy_dnn = metrics.accuracy_score(test_y,y_pred1)\n",
    "print(accuracy_dnn)"
   ]
  },
  {
   "cell_type": "code",
   "execution_count": 162,
   "metadata": {},
   "outputs": [
    {
     "name": "stdout",
     "output_type": "stream",
     "text": [
      "0.28638856997065953\n"
     ]
    }
   ],
   "source": [
    "from sklearn.neighbors import KNeighborsClassifier\n",
    "knn_classifier = KNeighborsClassifier()\n",
    "knn_classifier.fit(X_train, train_y)\n",
    "y_pred1 = knn_classifier.predict(X_test)\n",
    "accuracy_knn = metrics.accuracy_score(test_y,y_pred1)\n",
    "print(accuracy_knn)"
   ]
  },
  {
   "cell_type": "code",
   "execution_count": 146,
   "metadata": {},
   "outputs": [],
   "source": [
    "Conf_metrics_log= metrics.confusion_matrix(test_y, y_pred1)"
   ]
  },
  {
   "cell_type": "code",
   "execution_count": 147,
   "metadata": {},
   "outputs": [
    {
     "data": {
      "text/html": [
       "<div>\n",
       "<style scoped>\n",
       "    .dataframe tbody tr th:only-of-type {\n",
       "        vertical-align: middle;\n",
       "    }\n",
       "\n",
       "    .dataframe tbody tr th {\n",
       "        vertical-align: top;\n",
       "    }\n",
       "\n",
       "    .dataframe thead th {\n",
       "        text-align: right;\n",
       "    }\n",
       "</style>\n",
       "<table border=\"1\" class=\"dataframe\">\n",
       "  <thead>\n",
       "    <tr style=\"text-align: right;\">\n",
       "      <th></th>\n",
       "      <th>0</th>\n",
       "      <th>1</th>\n",
       "      <th>2</th>\n",
       "      <th>3</th>\n",
       "      <th>4</th>\n",
       "      <th>5</th>\n",
       "      <th>6</th>\n",
       "      <th>7</th>\n",
       "      <th>8</th>\n",
       "    </tr>\n",
       "  </thead>\n",
       "  <tbody>\n",
       "    <tr>\n",
       "      <th>0</th>\n",
       "      <td>0</td>\n",
       "      <td>202</td>\n",
       "      <td>1120</td>\n",
       "      <td>1275</td>\n",
       "      <td>1</td>\n",
       "      <td>5</td>\n",
       "      <td>0</td>\n",
       "      <td>0</td>\n",
       "      <td>0</td>\n",
       "    </tr>\n",
       "    <tr>\n",
       "      <th>1</th>\n",
       "      <td>0</td>\n",
       "      <td>163</td>\n",
       "      <td>774</td>\n",
       "      <td>1128</td>\n",
       "      <td>1</td>\n",
       "      <td>3</td>\n",
       "      <td>0</td>\n",
       "      <td>0</td>\n",
       "      <td>0</td>\n",
       "    </tr>\n",
       "    <tr>\n",
       "      <th>2</th>\n",
       "      <td>0</td>\n",
       "      <td>112</td>\n",
       "      <td>639</td>\n",
       "      <td>572</td>\n",
       "      <td>1</td>\n",
       "      <td>5</td>\n",
       "      <td>0</td>\n",
       "      <td>0</td>\n",
       "      <td>0</td>\n",
       "    </tr>\n",
       "    <tr>\n",
       "      <th>3</th>\n",
       "      <td>0</td>\n",
       "      <td>73</td>\n",
       "      <td>377</td>\n",
       "      <td>705</td>\n",
       "      <td>1</td>\n",
       "      <td>0</td>\n",
       "      <td>0</td>\n",
       "      <td>0</td>\n",
       "      <td>0</td>\n",
       "    </tr>\n",
       "    <tr>\n",
       "      <th>4</th>\n",
       "      <td>0</td>\n",
       "      <td>19</td>\n",
       "      <td>96</td>\n",
       "      <td>228</td>\n",
       "      <td>1</td>\n",
       "      <td>0</td>\n",
       "      <td>0</td>\n",
       "      <td>0</td>\n",
       "      <td>0</td>\n",
       "    </tr>\n",
       "    <tr>\n",
       "      <th>5</th>\n",
       "      <td>0</td>\n",
       "      <td>20</td>\n",
       "      <td>146</td>\n",
       "      <td>101</td>\n",
       "      <td>0</td>\n",
       "      <td>0</td>\n",
       "      <td>0</td>\n",
       "      <td>0</td>\n",
       "      <td>0</td>\n",
       "    </tr>\n",
       "    <tr>\n",
       "      <th>6</th>\n",
       "      <td>0</td>\n",
       "      <td>3</td>\n",
       "      <td>8</td>\n",
       "      <td>22</td>\n",
       "      <td>0</td>\n",
       "      <td>0</td>\n",
       "      <td>0</td>\n",
       "      <td>0</td>\n",
       "      <td>0</td>\n",
       "    </tr>\n",
       "    <tr>\n",
       "      <th>7</th>\n",
       "      <td>0</td>\n",
       "      <td>1</td>\n",
       "      <td>10</td>\n",
       "      <td>13</td>\n",
       "      <td>0</td>\n",
       "      <td>0</td>\n",
       "      <td>0</td>\n",
       "      <td>0</td>\n",
       "      <td>0</td>\n",
       "    </tr>\n",
       "    <tr>\n",
       "      <th>8</th>\n",
       "      <td>0</td>\n",
       "      <td>1</td>\n",
       "      <td>8</td>\n",
       "      <td>5</td>\n",
       "      <td>0</td>\n",
       "      <td>0</td>\n",
       "      <td>0</td>\n",
       "      <td>0</td>\n",
       "      <td>0</td>\n",
       "    </tr>\n",
       "  </tbody>\n",
       "</table>\n",
       "</div>"
      ],
      "text/plain": [
       "   0    1     2     3  4  5  6  7  8\n",
       "0  0  202  1120  1275  1  5  0  0  0\n",
       "1  0  163   774  1128  1  3  0  0  0\n",
       "2  0  112   639   572  1  5  0  0  0\n",
       "3  0   73   377   705  1  0  0  0  0\n",
       "4  0   19    96   228  1  0  0  0  0\n",
       "5  0   20   146   101  0  0  0  0  0\n",
       "6  0    3     8    22  0  0  0  0  0\n",
       "7  0    1    10    13  0  0  0  0  0\n",
       "8  0    1     8     5  0  0  0  0  0"
      ]
     },
     "execution_count": 147,
     "metadata": {},
     "output_type": "execute_result"
    }
   ],
   "source": [
    "pd.DataFrame(Conf_metrics_log)"
   ]
  },
  {
   "cell_type": "markdown",
   "metadata": {},
   "source": [
    "# Train_HPT & Test_HPT"
   ]
  },
  {
   "cell_type": "code",
   "execution_count": 60,
   "metadata": {},
   "outputs": [
    {
     "data": {
      "text/plain": [
       "City_Code                    36\n",
       "Region_Code                4966\n",
       "Accomodation_Type             2\n",
       "Reco_Insurance_Type           2\n",
       "Is_Spouse                     2\n",
       "Health Indicator             10\n",
       "Holding_Policy_Duration      15\n",
       "Holding_Policy_Type           4\n",
       "Reco_Policy_Cat              22\n",
       "dtype: int64"
      ]
     },
     "execution_count": 60,
     "metadata": {},
     "output_type": "execute_result"
    }
   ],
   "source": [
    "train_HPT[cat_vars].T.apply(lambda x: x.nunique(), axis=1)"
   ]
  },
  {
   "cell_type": "code",
   "execution_count": 61,
   "metadata": {},
   "outputs": [],
   "source": [
    "#Dropping rows with most number of na's.\n",
    "train_HPT=train_HPT.drop(['Holding_Policy_Duration','Health Indicator'],axis=1)"
   ]
  },
  {
   "cell_type": "code",
   "execution_count": 63,
   "metadata": {},
   "outputs": [],
   "source": [
    "train_HPT=pd.get_dummies(train_HPT, columns=['City_Code','Accomodation_Type','Reco_Insurance_Type','Is_Spouse'])"
   ]
  },
  {
   "cell_type": "code",
   "execution_count": 64,
   "metadata": {},
   "outputs": [],
   "source": [
    "test_HPT=test_HPT.drop(['Holding_Policy_Duration','Health Indicator'],axis=1)"
   ]
  },
  {
   "cell_type": "code",
   "execution_count": 65,
   "metadata": {},
   "outputs": [],
   "source": [
    "test_HPT=pd.get_dummies(test_HPT, columns=['City_Code','Accomodation_Type','Reco_Insurance_Type','Is_Spouse'])"
   ]
  },
  {
   "cell_type": "code",
   "execution_count": 73,
   "metadata": {},
   "outputs": [],
   "source": [
    "X=train_HPT.loc[:, train_HPT.columns != 'ID']\n",
    "y=train_HPT['Holding_Policy_Type']"
   ]
  },
  {
   "cell_type": "code",
   "execution_count": 79,
   "metadata": {},
   "outputs": [],
   "source": [
    "X_train, X_test, y_train, y_test = train_test_split(X,y, test_size=0.2, random_state=100)"
   ]
  },
  {
   "cell_type": "code",
   "execution_count": 81,
   "metadata": {},
   "outputs": [
    {
     "data": {
      "text/plain": [
       "[3.0, 1.0, 4.0, 2.0]\n",
       "Categories (4, float64): [3.0, 1.0, 4.0, 2.0]"
      ]
     },
     "execution_count": 81,
     "metadata": {},
     "output_type": "execute_result"
    }
   ],
   "source": [
    "y.unique()"
   ]
  },
  {
   "cell_type": "code",
   "execution_count": null,
   "metadata": {},
   "outputs": [],
   "source": [
    "'''\n",
    "Model Performance\n",
    "'''\n",
    "logreg = LogisticRegression()\n",
    "logreg.fit(X_train, y_train)\n",
    "y_pred1 = logreg.predict(y_train)\n",
    "accuracy_log = metrics.accuracy_score(y_test, y_pred1)\n",
    "print(accuracy_sm_log)"
   ]
  },
  {
   "cell_type": "code",
   "execution_count": 105,
   "metadata": {},
   "outputs": [
    {
     "data": {
      "text/html": [
       "<div>\n",
       "<style scoped>\n",
       "    .dataframe tbody tr th:only-of-type {\n",
       "        vertical-align: middle;\n",
       "    }\n",
       "\n",
       "    .dataframe tbody tr th {\n",
       "        vertical-align: top;\n",
       "    }\n",
       "\n",
       "    .dataframe thead th {\n",
       "        text-align: right;\n",
       "    }\n",
       "</style>\n",
       "<table border=\"1\" class=\"dataframe\">\n",
       "  <thead>\n",
       "    <tr style=\"text-align: right;\">\n",
       "      <th></th>\n",
       "      <th>ID</th>\n",
       "      <th>City_Code</th>\n",
       "      <th>Region_Code</th>\n",
       "      <th>Accomodation_Type</th>\n",
       "      <th>Reco_Insurance_Type</th>\n",
       "      <th>Upper_Age</th>\n",
       "      <th>Lower_Age</th>\n",
       "      <th>Is_Spouse</th>\n",
       "      <th>Health Indicator</th>\n",
       "      <th>Holding_Policy_Duration</th>\n",
       "      <th>Holding_Policy_Type</th>\n",
       "      <th>Reco_Policy_Cat</th>\n",
       "      <th>Reco_Policy_Premium</th>\n",
       "      <th>Response</th>\n",
       "    </tr>\n",
       "  </thead>\n",
       "  <tbody>\n",
       "    <tr>\n",
       "      <th>0</th>\n",
       "      <td>1</td>\n",
       "      <td>C3</td>\n",
       "      <td>3213</td>\n",
       "      <td>Rented</td>\n",
       "      <td>Individual</td>\n",
       "      <td>36</td>\n",
       "      <td>36</td>\n",
       "      <td>No</td>\n",
       "      <td>0.0</td>\n",
       "      <td>15</td>\n",
       "      <td>3.0</td>\n",
       "      <td>22</td>\n",
       "      <td>11628.0</td>\n",
       "      <td>0</td>\n",
       "    </tr>\n",
       "    <tr>\n",
       "      <th>1</th>\n",
       "      <td>2</td>\n",
       "      <td>C5</td>\n",
       "      <td>1117</td>\n",
       "      <td>Owned</td>\n",
       "      <td>Joint</td>\n",
       "      <td>75</td>\n",
       "      <td>22</td>\n",
       "      <td>No</td>\n",
       "      <td>1.0</td>\n",
       "      <td>NaN</td>\n",
       "      <td>NaN</td>\n",
       "      <td>22</td>\n",
       "      <td>30510.0</td>\n",
       "      <td>0</td>\n",
       "    </tr>\n",
       "    <tr>\n",
       "      <th>2</th>\n",
       "      <td>3</td>\n",
       "      <td>C5</td>\n",
       "      <td>3732</td>\n",
       "      <td>Owned</td>\n",
       "      <td>Individual</td>\n",
       "      <td>32</td>\n",
       "      <td>32</td>\n",
       "      <td>No</td>\n",
       "      <td>NaN</td>\n",
       "      <td>1.0</td>\n",
       "      <td>1.0</td>\n",
       "      <td>19</td>\n",
       "      <td>7450.0</td>\n",
       "      <td>1</td>\n",
       "    </tr>\n",
       "    <tr>\n",
       "      <th>3</th>\n",
       "      <td>4</td>\n",
       "      <td>C24</td>\n",
       "      <td>4378</td>\n",
       "      <td>Owned</td>\n",
       "      <td>Joint</td>\n",
       "      <td>52</td>\n",
       "      <td>48</td>\n",
       "      <td>No</td>\n",
       "      <td>0.0</td>\n",
       "      <td>15</td>\n",
       "      <td>3.0</td>\n",
       "      <td>19</td>\n",
       "      <td>17780.0</td>\n",
       "      <td>0</td>\n",
       "    </tr>\n",
       "    <tr>\n",
       "      <th>4</th>\n",
       "      <td>5</td>\n",
       "      <td>C8</td>\n",
       "      <td>2190</td>\n",
       "      <td>Rented</td>\n",
       "      <td>Individual</td>\n",
       "      <td>44</td>\n",
       "      <td>44</td>\n",
       "      <td>No</td>\n",
       "      <td>1.0</td>\n",
       "      <td>3.0</td>\n",
       "      <td>1.0</td>\n",
       "      <td>16</td>\n",
       "      <td>10404.0</td>\n",
       "      <td>0</td>\n",
       "    </tr>\n",
       "  </tbody>\n",
       "</table>\n",
       "</div>"
      ],
      "text/plain": [
       "   ID City_Code Region_Code Accomodation_Type Reco_Insurance_Type  Upper_Age  \\\n",
       "0   1        C3        3213            Rented          Individual         36   \n",
       "1   2        C5        1117             Owned               Joint         75   \n",
       "2   3        C5        3732             Owned          Individual         32   \n",
       "3   4       C24        4378             Owned               Joint         52   \n",
       "4   5        C8        2190            Rented          Individual         44   \n",
       "\n",
       "   Lower_Age Is_Spouse  Health Indicator Holding_Policy_Duration  \\\n",
       "0         36        No               0.0                      15   \n",
       "1         22        No               1.0                     NaN   \n",
       "2         32        No               NaN                     1.0   \n",
       "3         48        No               0.0                      15   \n",
       "4         44        No               1.0                     3.0   \n",
       "\n",
       "  Holding_Policy_Type Reco_Policy_Cat  Reco_Policy_Premium  Response  \n",
       "0                 3.0              22              11628.0         0  \n",
       "1                 NaN              22              30510.0         0  \n",
       "2                 1.0              19               7450.0         1  \n",
       "3                 3.0              19              17780.0         0  \n",
       "4                 1.0              16              10404.0         0  "
      ]
     },
     "execution_count": 105,
     "metadata": {},
     "output_type": "execute_result"
    }
   ],
   "source": [
    "df.head()"
   ]
  },
  {
   "cell_type": "code",
   "execution_count": 106,
   "metadata": {},
   "outputs": [
    {
     "ename": "NameError",
     "evalue": "name 'X_train' is not defined",
     "output_type": "error",
     "traceback": [
      "\u001b[1;31m---------------------------------------------------------------------------\u001b[0m",
      "\u001b[1;31mNameError\u001b[0m                                 Traceback (most recent call last)",
      "\u001b[1;32m<ipython-input-106-2625f76b8a6d>\u001b[0m in \u001b[0;36m<module>\u001b[1;34m\u001b[0m\n\u001b[1;32m----> 1\u001b[1;33m \u001b[0mX_train\u001b[0m\u001b[1;33m.\u001b[0m\u001b[0mcolumns\u001b[0m\u001b[1;33m\u001b[0m\u001b[1;33m\u001b[0m\u001b[0m\n\u001b[0m",
      "\u001b[1;31mNameError\u001b[0m: name 'X_train' is not defined"
     ]
    }
   ],
   "source": [
    "df=pd"
   ]
  }
 ],
 "metadata": {
  "kernelspec": {
   "display_name": "Python 3",
   "language": "python",
   "name": "python3"
  },
  "language_info": {
   "codemirror_mode": {
    "name": "ipython",
    "version": 3
   },
   "file_extension": ".py",
   "mimetype": "text/x-python",
   "name": "python",
   "nbconvert_exporter": "python",
   "pygments_lexer": "ipython3",
   "version": "3.7.6"
  }
 },
 "nbformat": 4,
 "nbformat_minor": 4
}
